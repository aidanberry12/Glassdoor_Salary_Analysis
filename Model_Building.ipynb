{
 "cells": [
  {
   "cell_type": "code",
   "execution_count": 1,
   "metadata": {},
   "outputs": [],
   "source": [
    "import pandas as pd\n",
    "import numpy as np\n",
    "from sklearn.model_selection import train_test_split\n",
    "from sklearn.preprocessing import StandardScaler\n",
    "import statsmodels.api as sm\n",
    "import matplotlib.pyplot as plt\n",
    "from sklearn.metrics import (mean_absolute_error, mean_squared_error)\n",
    "from statsmodels.stats.outliers_influence import variance_inflation_factor\n",
    "from sklearn.linear_model import (ElasticNetCV, LassoCV, RidgeCV)\n",
    "import matplotlib.pyplot as plt\n",
    "import seaborn as sns\n",
    "from sklearn.svm import SVR\n",
    "from sklearn.model_selection import (RandomizedSearchCV, GridSearchCV)\n",
    "from sklearn.ensemble import (RandomForestRegressor, GradientBoostingRegressor)\n"
   ]
  },
  {
   "cell_type": "code",
   "execution_count": 2,
   "metadata": {},
   "outputs": [
    {
     "data": {
      "text/html": [
       "<div>\n",
       "<style scoped>\n",
       "    .dataframe tbody tr th:only-of-type {\n",
       "        vertical-align: middle;\n",
       "    }\n",
       "\n",
       "    .dataframe tbody tr th {\n",
       "        vertical-align: top;\n",
       "    }\n",
       "\n",
       "    .dataframe thead th {\n",
       "        text-align: right;\n",
       "    }\n",
       "</style>\n",
       "<table border=\"1\" class=\"dataframe\">\n",
       "  <thead>\n",
       "    <tr style=\"text-align: right;\">\n",
       "      <th></th>\n",
       "      <th>role</th>\n",
       "      <th>seniority</th>\n",
       "      <th>avg_salary</th>\n",
       "      <th>state</th>\n",
       "      <th>company_rating</th>\n",
       "      <th>company_size</th>\n",
       "      <th>sector</th>\n",
       "      <th>company_age</th>\n",
       "      <th>city</th>\n",
       "      <th>region</th>\n",
       "    </tr>\n",
       "  </thead>\n",
       "  <tbody>\n",
       "    <tr>\n",
       "      <th>0</th>\n",
       "      <td>data scientist</td>\n",
       "      <td>2</td>\n",
       "      <td>72.0</td>\n",
       "      <td>NM</td>\n",
       "      <td>3.8</td>\n",
       "      <td>2.0</td>\n",
       "      <td>Aerospace &amp; Defense</td>\n",
       "      <td>47.0</td>\n",
       "      <td>other</td>\n",
       "      <td>West</td>\n",
       "    </tr>\n",
       "    <tr>\n",
       "      <th>1</th>\n",
       "      <td>data scientist</td>\n",
       "      <td>2</td>\n",
       "      <td>87.5</td>\n",
       "      <td>MD</td>\n",
       "      <td>3.4</td>\n",
       "      <td>3.0</td>\n",
       "      <td>Health Care</td>\n",
       "      <td>36.0</td>\n",
       "      <td>other</td>\n",
       "      <td>South</td>\n",
       "    </tr>\n",
       "    <tr>\n",
       "      <th>2</th>\n",
       "      <td>data scientist</td>\n",
       "      <td>2</td>\n",
       "      <td>85.0</td>\n",
       "      <td>FL</td>\n",
       "      <td>4.8</td>\n",
       "      <td>2.0</td>\n",
       "      <td>Business Services</td>\n",
       "      <td>10.0</td>\n",
       "      <td>other</td>\n",
       "      <td>South</td>\n",
       "    </tr>\n",
       "    <tr>\n",
       "      <th>3</th>\n",
       "      <td>data scientist</td>\n",
       "      <td>2</td>\n",
       "      <td>76.5</td>\n",
       "      <td>WA</td>\n",
       "      <td>3.8</td>\n",
       "      <td>3.0</td>\n",
       "      <td>Oil, Gas, Energy &amp; Utilities</td>\n",
       "      <td>55.0</td>\n",
       "      <td>Richland</td>\n",
       "      <td>West</td>\n",
       "    </tr>\n",
       "    <tr>\n",
       "      <th>4</th>\n",
       "      <td>data scientist</td>\n",
       "      <td>2</td>\n",
       "      <td>114.5</td>\n",
       "      <td>NY</td>\n",
       "      <td>2.9</td>\n",
       "      <td>1.0</td>\n",
       "      <td>Business Services</td>\n",
       "      <td>22.0</td>\n",
       "      <td>New York</td>\n",
       "      <td>Northeast</td>\n",
       "    </tr>\n",
       "  </tbody>\n",
       "</table>\n",
       "</div>"
      ],
      "text/plain": [
       "             role  seniority  avg_salary state  company_rating  company_size  \\\n",
       "0  data scientist          2        72.0    NM             3.8           2.0   \n",
       "1  data scientist          2        87.5    MD             3.4           3.0   \n",
       "2  data scientist          2        85.0    FL             4.8           2.0   \n",
       "3  data scientist          2        76.5    WA             3.8           3.0   \n",
       "4  data scientist          2       114.5    NY             2.9           1.0   \n",
       "\n",
       "                         sector  company_age      city     region  \n",
       "0           Aerospace & Defense         47.0     other       West  \n",
       "1                   Health Care         36.0     other      South  \n",
       "2             Business Services         10.0     other      South  \n",
       "3  Oil, Gas, Energy & Utilities         55.0  Richland       West  \n",
       "4             Business Services         22.0  New York  Northeast  "
      ]
     },
     "execution_count": 2,
     "metadata": {},
     "output_type": "execute_result"
    }
   ],
   "source": [
    "# read in the dataset\n",
    "df = pd.read_csv(\"data_for_modeling.csv\")\n",
    "df.head()"
   ]
  },
  {
   "cell_type": "code",
   "execution_count": 3,
   "metadata": {},
   "outputs": [],
   "source": [
    "# drop city and state from the dataset as these will create a sparse matrix if used as dummy variables (too many dimensions)\n",
    "df = df.drop(['city', 'state'], axis =1)"
   ]
  },
  {
   "cell_type": "code",
   "execution_count": 4,
   "metadata": {},
   "outputs": [],
   "source": [
    "# get dummy variables for all of the categorical variables in the dataframe (role, sector, region)\n",
    "df_modeling = pd.get_dummies(df)"
   ]
  },
  {
   "cell_type": "code",
   "execution_count": 5,
   "metadata": {},
   "outputs": [
    {
     "name": "stdout",
     "output_type": "stream",
     "text": [
      "<class 'pandas.core.frame.DataFrame'>\n",
      "RangeIndex: 742 entries, 0 to 741\n",
      "Data columns (total 32 columns):\n",
      " #   Column                               Non-Null Count  Dtype  \n",
      "---  ------                               --------------  -----  \n",
      " 0   seniority                            742 non-null    int64  \n",
      " 1   avg_salary                           742 non-null    float64\n",
      " 2   company_rating                       742 non-null    float64\n",
      " 3   company_size                         742 non-null    float64\n",
      " 4   company_age                          742 non-null    float64\n",
      " 5   role_data analyst                    742 non-null    uint8  \n",
      " 6   role_data engineer                   742 non-null    uint8  \n",
      " 7   role_data scientist                  742 non-null    uint8  \n",
      " 8   role_director                        742 non-null    uint8  \n",
      " 9   role_machine learning engineer       742 non-null    uint8  \n",
      " 10  role_manager                         742 non-null    uint8  \n",
      " 11  role_other                           742 non-null    uint8  \n",
      " 12  role_product analyst                 742 non-null    uint8  \n",
      " 13  role_research scientist              742 non-null    uint8  \n",
      " 14  role_software engineer               742 non-null    uint8  \n",
      " 15  sector_Aerospace & Defense           742 non-null    uint8  \n",
      " 16  sector_Biotech & Pharmaceuticals     742 non-null    uint8  \n",
      " 17  sector_Business Services             742 non-null    uint8  \n",
      " 18  sector_Education                     742 non-null    uint8  \n",
      " 19  sector_Finance                       742 non-null    uint8  \n",
      " 20  sector_Government                    742 non-null    uint8  \n",
      " 21  sector_Health Care                   742 non-null    uint8  \n",
      " 22  sector_Information Technology        742 non-null    uint8  \n",
      " 23  sector_Insurance                     742 non-null    uint8  \n",
      " 24  sector_Manufacturing                 742 non-null    uint8  \n",
      " 25  sector_Oil, Gas, Energy & Utilities  742 non-null    uint8  \n",
      " 26  sector_Retail                        742 non-null    uint8  \n",
      " 27  sector_other                         742 non-null    uint8  \n",
      " 28  region_Midwest                       742 non-null    uint8  \n",
      " 29  region_Northeast                     742 non-null    uint8  \n",
      " 30  region_South                         742 non-null    uint8  \n",
      " 31  region_West                          742 non-null    uint8  \n",
      "dtypes: float64(4), int64(1), uint8(27)\n",
      "memory usage: 48.7 KB\n"
     ]
    }
   ],
   "source": [
    "# look at the details of the new data created\n",
    "df_modeling.info()"
   ]
  },
  {
   "cell_type": "code",
   "execution_count": 6,
   "metadata": {},
   "outputs": [
    {
     "data": {
      "text/plain": [
       "3.0    366\n",
       "2.0    251\n",
       "1.0    125\n",
       "Name: company_size, dtype: int64"
      ]
     },
     "execution_count": 6,
     "metadata": {},
     "output_type": "execute_result"
    }
   ],
   "source": [
    "df['company_size'].value_counts()"
   ]
  },
  {
   "cell_type": "code",
   "execution_count": 7,
   "metadata": {},
   "outputs": [
    {
     "data": {
      "text/html": [
       "<div>\n",
       "<style scoped>\n",
       "    .dataframe tbody tr th:only-of-type {\n",
       "        vertical-align: middle;\n",
       "    }\n",
       "\n",
       "    .dataframe tbody tr th {\n",
       "        vertical-align: top;\n",
       "    }\n",
       "\n",
       "    .dataframe thead th {\n",
       "        text-align: right;\n",
       "    }\n",
       "</style>\n",
       "<table border=\"1\" class=\"dataframe\">\n",
       "  <thead>\n",
       "    <tr style=\"text-align: right;\">\n",
       "      <th></th>\n",
       "      <th>seniority</th>\n",
       "      <th>avg_salary</th>\n",
       "      <th>company_rating</th>\n",
       "      <th>company_size</th>\n",
       "      <th>company_age</th>\n",
       "      <th>role_data analyst</th>\n",
       "      <th>role_data engineer</th>\n",
       "      <th>role_data scientist</th>\n",
       "      <th>role_director</th>\n",
       "      <th>role_machine learning engineer</th>\n",
       "      <th>...</th>\n",
       "      <th>sector_Information Technology</th>\n",
       "      <th>sector_Insurance</th>\n",
       "      <th>sector_Manufacturing</th>\n",
       "      <th>sector_Oil, Gas, Energy &amp; Utilities</th>\n",
       "      <th>sector_Retail</th>\n",
       "      <th>sector_other</th>\n",
       "      <th>region_Midwest</th>\n",
       "      <th>region_Northeast</th>\n",
       "      <th>region_South</th>\n",
       "      <th>region_West</th>\n",
       "    </tr>\n",
       "  </thead>\n",
       "  <tbody>\n",
       "    <tr>\n",
       "      <th>count</th>\n",
       "      <td>742.000000</td>\n",
       "      <td>742.000000</td>\n",
       "      <td>742.000000</td>\n",
       "      <td>742.000000</td>\n",
       "      <td>742.000000</td>\n",
       "      <td>742.000000</td>\n",
       "      <td>742.000000</td>\n",
       "      <td>742.000000</td>\n",
       "      <td>742.000000</td>\n",
       "      <td>742.000000</td>\n",
       "      <td>...</td>\n",
       "      <td>742.000000</td>\n",
       "      <td>742.000000</td>\n",
       "      <td>742.000000</td>\n",
       "      <td>742.000000</td>\n",
       "      <td>742.000000</td>\n",
       "      <td>742.000000</td>\n",
       "      <td>742.000000</td>\n",
       "      <td>742.000000</td>\n",
       "      <td>742.000000</td>\n",
       "      <td>742.000000</td>\n",
       "    </tr>\n",
       "    <tr>\n",
       "      <th>mean</th>\n",
       "      <td>2.051213</td>\n",
       "      <td>101.484501</td>\n",
       "      <td>3.688372</td>\n",
       "      <td>2.324798</td>\n",
       "      <td>50.030347</td>\n",
       "      <td>0.192722</td>\n",
       "      <td>0.160377</td>\n",
       "      <td>0.376011</td>\n",
       "      <td>0.017520</td>\n",
       "      <td>0.020216</td>\n",
       "      <td>...</td>\n",
       "      <td>0.242588</td>\n",
       "      <td>0.092992</td>\n",
       "      <td>0.045822</td>\n",
       "      <td>0.018868</td>\n",
       "      <td>0.020216</td>\n",
       "      <td>0.095687</td>\n",
       "      <td>0.138814</td>\n",
       "      <td>0.311321</td>\n",
       "      <td>0.264151</td>\n",
       "      <td>0.285714</td>\n",
       "    </tr>\n",
       "    <tr>\n",
       "      <th>std</th>\n",
       "      <td>0.340782</td>\n",
       "      <td>37.482449</td>\n",
       "      <td>0.566104</td>\n",
       "      <td>0.746312</td>\n",
       "      <td>52.233003</td>\n",
       "      <td>0.394703</td>\n",
       "      <td>0.367203</td>\n",
       "      <td>0.484710</td>\n",
       "      <td>0.131288</td>\n",
       "      <td>0.140832</td>\n",
       "      <td>...</td>\n",
       "      <td>0.428937</td>\n",
       "      <td>0.290617</td>\n",
       "      <td>0.209240</td>\n",
       "      <td>0.136150</td>\n",
       "      <td>0.140832</td>\n",
       "      <td>0.294360</td>\n",
       "      <td>0.345986</td>\n",
       "      <td>0.463346</td>\n",
       "      <td>0.441177</td>\n",
       "      <td>0.452059</td>\n",
       "    </tr>\n",
       "    <tr>\n",
       "      <th>min</th>\n",
       "      <td>1.000000</td>\n",
       "      <td>15.500000</td>\n",
       "      <td>1.900000</td>\n",
       "      <td>1.000000</td>\n",
       "      <td>1.000000</td>\n",
       "      <td>0.000000</td>\n",
       "      <td>0.000000</td>\n",
       "      <td>0.000000</td>\n",
       "      <td>0.000000</td>\n",
       "      <td>0.000000</td>\n",
       "      <td>...</td>\n",
       "      <td>0.000000</td>\n",
       "      <td>0.000000</td>\n",
       "      <td>0.000000</td>\n",
       "      <td>0.000000</td>\n",
       "      <td>0.000000</td>\n",
       "      <td>0.000000</td>\n",
       "      <td>0.000000</td>\n",
       "      <td>0.000000</td>\n",
       "      <td>0.000000</td>\n",
       "      <td>0.000000</td>\n",
       "    </tr>\n",
       "    <tr>\n",
       "      <th>25%</th>\n",
       "      <td>2.000000</td>\n",
       "      <td>73.500000</td>\n",
       "      <td>3.300000</td>\n",
       "      <td>2.000000</td>\n",
       "      <td>13.000000</td>\n",
       "      <td>0.000000</td>\n",
       "      <td>0.000000</td>\n",
       "      <td>0.000000</td>\n",
       "      <td>0.000000</td>\n",
       "      <td>0.000000</td>\n",
       "      <td>...</td>\n",
       "      <td>0.000000</td>\n",
       "      <td>0.000000</td>\n",
       "      <td>0.000000</td>\n",
       "      <td>0.000000</td>\n",
       "      <td>0.000000</td>\n",
       "      <td>0.000000</td>\n",
       "      <td>0.000000</td>\n",
       "      <td>0.000000</td>\n",
       "      <td>0.000000</td>\n",
       "      <td>0.000000</td>\n",
       "    </tr>\n",
       "    <tr>\n",
       "      <th>50%</th>\n",
       "      <td>2.000000</td>\n",
       "      <td>97.500000</td>\n",
       "      <td>3.700000</td>\n",
       "      <td>2.000000</td>\n",
       "      <td>32.000000</td>\n",
       "      <td>0.000000</td>\n",
       "      <td>0.000000</td>\n",
       "      <td>0.000000</td>\n",
       "      <td>0.000000</td>\n",
       "      <td>0.000000</td>\n",
       "      <td>...</td>\n",
       "      <td>0.000000</td>\n",
       "      <td>0.000000</td>\n",
       "      <td>0.000000</td>\n",
       "      <td>0.000000</td>\n",
       "      <td>0.000000</td>\n",
       "      <td>0.000000</td>\n",
       "      <td>0.000000</td>\n",
       "      <td>0.000000</td>\n",
       "      <td>0.000000</td>\n",
       "      <td>0.000000</td>\n",
       "    </tr>\n",
       "    <tr>\n",
       "      <th>75%</th>\n",
       "      <td>2.000000</td>\n",
       "      <td>122.500000</td>\n",
       "      <td>4.000000</td>\n",
       "      <td>3.000000</td>\n",
       "      <td>59.000000</td>\n",
       "      <td>0.000000</td>\n",
       "      <td>0.000000</td>\n",
       "      <td>1.000000</td>\n",
       "      <td>0.000000</td>\n",
       "      <td>0.000000</td>\n",
       "      <td>...</td>\n",
       "      <td>0.000000</td>\n",
       "      <td>0.000000</td>\n",
       "      <td>0.000000</td>\n",
       "      <td>0.000000</td>\n",
       "      <td>0.000000</td>\n",
       "      <td>0.000000</td>\n",
       "      <td>0.000000</td>\n",
       "      <td>1.000000</td>\n",
       "      <td>1.000000</td>\n",
       "      <td>1.000000</td>\n",
       "    </tr>\n",
       "    <tr>\n",
       "      <th>max</th>\n",
       "      <td>3.000000</td>\n",
       "      <td>254.000000</td>\n",
       "      <td>5.000000</td>\n",
       "      <td>3.000000</td>\n",
       "      <td>276.000000</td>\n",
       "      <td>1.000000</td>\n",
       "      <td>1.000000</td>\n",
       "      <td>1.000000</td>\n",
       "      <td>1.000000</td>\n",
       "      <td>1.000000</td>\n",
       "      <td>...</td>\n",
       "      <td>1.000000</td>\n",
       "      <td>1.000000</td>\n",
       "      <td>1.000000</td>\n",
       "      <td>1.000000</td>\n",
       "      <td>1.000000</td>\n",
       "      <td>1.000000</td>\n",
       "      <td>1.000000</td>\n",
       "      <td>1.000000</td>\n",
       "      <td>1.000000</td>\n",
       "      <td>1.000000</td>\n",
       "    </tr>\n",
       "  </tbody>\n",
       "</table>\n",
       "<p>8 rows × 32 columns</p>\n",
       "</div>"
      ],
      "text/plain": [
       "        seniority  avg_salary  company_rating  company_size  company_age  \\\n",
       "count  742.000000  742.000000      742.000000    742.000000   742.000000   \n",
       "mean     2.051213  101.484501        3.688372      2.324798    50.030347   \n",
       "std      0.340782   37.482449        0.566104      0.746312    52.233003   \n",
       "min      1.000000   15.500000        1.900000      1.000000     1.000000   \n",
       "25%      2.000000   73.500000        3.300000      2.000000    13.000000   \n",
       "50%      2.000000   97.500000        3.700000      2.000000    32.000000   \n",
       "75%      2.000000  122.500000        4.000000      3.000000    59.000000   \n",
       "max      3.000000  254.000000        5.000000      3.000000   276.000000   \n",
       "\n",
       "       role_data analyst  role_data engineer  role_data scientist  \\\n",
       "count         742.000000          742.000000           742.000000   \n",
       "mean            0.192722            0.160377             0.376011   \n",
       "std             0.394703            0.367203             0.484710   \n",
       "min             0.000000            0.000000             0.000000   \n",
       "25%             0.000000            0.000000             0.000000   \n",
       "50%             0.000000            0.000000             0.000000   \n",
       "75%             0.000000            0.000000             1.000000   \n",
       "max             1.000000            1.000000             1.000000   \n",
       "\n",
       "       role_director  role_machine learning engineer  ...  \\\n",
       "count     742.000000                      742.000000  ...   \n",
       "mean        0.017520                        0.020216  ...   \n",
       "std         0.131288                        0.140832  ...   \n",
       "min         0.000000                        0.000000  ...   \n",
       "25%         0.000000                        0.000000  ...   \n",
       "50%         0.000000                        0.000000  ...   \n",
       "75%         0.000000                        0.000000  ...   \n",
       "max         1.000000                        1.000000  ...   \n",
       "\n",
       "       sector_Information Technology  sector_Insurance  sector_Manufacturing  \\\n",
       "count                     742.000000        742.000000            742.000000   \n",
       "mean                        0.242588          0.092992              0.045822   \n",
       "std                         0.428937          0.290617              0.209240   \n",
       "min                         0.000000          0.000000              0.000000   \n",
       "25%                         0.000000          0.000000              0.000000   \n",
       "50%                         0.000000          0.000000              0.000000   \n",
       "75%                         0.000000          0.000000              0.000000   \n",
       "max                         1.000000          1.000000              1.000000   \n",
       "\n",
       "       sector_Oil, Gas, Energy & Utilities  sector_Retail  sector_other  \\\n",
       "count                           742.000000     742.000000    742.000000   \n",
       "mean                              0.018868       0.020216      0.095687   \n",
       "std                               0.136150       0.140832      0.294360   \n",
       "min                               0.000000       0.000000      0.000000   \n",
       "25%                               0.000000       0.000000      0.000000   \n",
       "50%                               0.000000       0.000000      0.000000   \n",
       "75%                               0.000000       0.000000      0.000000   \n",
       "max                               1.000000       1.000000      1.000000   \n",
       "\n",
       "       region_Midwest  region_Northeast  region_South  region_West  \n",
       "count      742.000000        742.000000    742.000000   742.000000  \n",
       "mean         0.138814          0.311321      0.264151     0.285714  \n",
       "std          0.345986          0.463346      0.441177     0.452059  \n",
       "min          0.000000          0.000000      0.000000     0.000000  \n",
       "25%          0.000000          0.000000      0.000000     0.000000  \n",
       "50%          0.000000          0.000000      0.000000     0.000000  \n",
       "75%          0.000000          1.000000      1.000000     1.000000  \n",
       "max          1.000000          1.000000      1.000000     1.000000  \n",
       "\n",
       "[8 rows x 32 columns]"
      ]
     },
     "execution_count": 7,
     "metadata": {},
     "output_type": "execute_result"
    }
   ],
   "source": [
    "# look at the range of values for each column to ensure there are no strange values\n",
    "df_modeling.describe()"
   ]
  },
  {
   "cell_type": "markdown",
   "metadata": {},
   "source": [
    "## Scaling Data and Splitting"
   ]
  },
  {
   "cell_type": "code",
   "execution_count": 8,
   "metadata": {},
   "outputs": [],
   "source": [
    "# predictor vars\n",
    "X = df_modeling.loc[:, df_modeling.columns != 'avg_salary']\n",
    "# response variable\n",
    "y = df_modeling['avg_salary']\n",
    "\n",
    "# create the train test split with 80% of the data in the training set (dataset isn't very large)\n",
    "X_train, X_test, y_train, y_test = train_test_split(X, y, test_size = 0.20, random_state = 42)\n",
    "\n",
    "# initialize the standard scaler object\n",
    "# this standardizes the features to mean = 0, and standard deviation = 1\n",
    "scaler = StandardScaler()\n",
    "# created a scaled version of the X_train set by fitting and transforming the scaler to this dataset\n",
    "X_train_scaled = scaler.fit_transform(X_train)\n",
    "# use the standard scaler fit on the training data to scale the test set so there is no data leakage\n",
    "X_test_scaled = scaler.transform(X_test)"
   ]
  },
  {
   "cell_type": "markdown",
   "metadata": {},
   "source": [
    "## Linear Regression"
   ]
  },
  {
   "cell_type": "markdown",
   "metadata": {},
   "source": [
    "Lets start the modeling with a very simple linear regression model to predict average salary. We will then work up to regularized regression using Lasso and Ridge Regression."
   ]
  },
  {
   "cell_type": "code",
   "execution_count": 9,
   "metadata": {
    "scrolled": true
   },
   "outputs": [
    {
     "data": {
      "image/png": "[encoded data removed]",
      "text/plain": [
       "<Figure size 432x288 with 1 Axes>"
      ]
     },
     "metadata": {
      "needs_background": "light"
     },
     "output_type": "display_data"
    }
   ],
   "source": [
    "plt.scatter(df['seniority'], df['avg_salary'], color='red')\n",
    "plt.title('Seiority Vs Average Salary', fontsize=14)\n",
    "plt.xlabel('Seniority', fontsize=14)\n",
    "plt.ylabel('Average Salary', fontsize=14)\n",
    "plt.grid(True)\n",
    "plt.show()"
   ]
  },
  {
   "cell_type": "code",
   "execution_count": 10,
   "metadata": {
    "scrolled": true
   },
   "outputs": [
    {
     "data": {
      "image/png": "[encoded data removed]",
      "text/plain": [
       "<Figure size 432x288 with 1 Axes>"
      ]
     },
     "metadata": {
      "needs_background": "light"
     },
     "output_type": "display_data"
    }
   ],
   "source": [
    "# the log transform of company_rating and avg_salary gives the most linear and tight fit\n",
    "plt.scatter(df['company_rating'], df['avg_salary'], color='red')\n",
    "plt.title('Company Rating Vs Average Salary', fontsize=14)\n",
    "plt.xlabel('Company Rating', fontsize=14)\n",
    "plt.ylabel('Average Salary', fontsize=14)\n",
    "plt.grid(True)\n",
    "plt.show()"
   ]
  },
  {
   "cell_type": "code",
   "execution_count": 11,
   "metadata": {
    "scrolled": true
   },
   "outputs": [
    {
     "data": {
      "image/png": "[encoded data removed]",
      "text/plain": [
       "<Figure size 432x288 with 1 Axes>"
      ]
     },
     "metadata": {
      "needs_background": "light"
     },
     "output_type": "display_data"
    }
   ],
   "source": [
    "plt.scatter(df['company_size'], df['avg_salary'], color='red')\n",
    "plt.title('Company Size Vs Average Salary', fontsize=14)\n",
    "plt.xlabel('Company Size', fontsize=14)\n",
    "plt.ylabel('Average Salary', fontsize=14)\n",
    "plt.grid(True)\n",
    "plt.show()"
   ]
  },
  {
   "cell_type": "code",
   "execution_count": 12,
   "metadata": {
    "scrolled": true
   },
   "outputs": [
    {
     "data": {
      "image/png": "[encoded data removed]",
      "text/plain": [
       "<Figure size 432x288 with 1 Axes>"
      ]
     },
     "metadata": {
      "needs_background": "light"
     },
     "output_type": "display_data"
    }
   ],
   "source": [
    "# the log transform of company_rating and avg_salary gives the most linear and tight fit\n",
    "plt.scatter(df['company_age'], df['avg_salary'], color='red')\n",
    "plt.title('Company Age Vs Average Salary', fontsize=14)\n",
    "plt.xlabel('Company Age', fontsize=14)\n",
    "plt.ylabel('Average Salary', fontsize=14)\n",
    "plt.grid(True)\n",
    "plt.show()"
   ]
  },
  {
   "cell_type": "code",
   "execution_count": 13,
   "metadata": {},
   "outputs": [
    {
     "data": {
      "text/html": [
       "<table class=\"simpletable\">\n",
       "<caption>OLS Regression Results</caption>\n",
       "<tr>\n",
       "  <th>Dep. Variable:</th>       <td>avg_salary</td>    <th>  R-squared:         </th> <td>   0.425</td>\n",
       "</tr>\n",
       "<tr>\n",
       "  <th>Model:</th>                   <td>OLS</td>       <th>  Adj. R-squared:    </th> <td>   0.396</td>\n",
       "</tr>\n",
       "<tr>\n",
       "  <th>Method:</th>             <td>Least Squares</td>  <th>  F-statistic:       </th> <td>   14.89</td>\n",
       "</tr>\n",
       "<tr>\n",
       "  <th>Date:</th>             <td>Wed, 24 Jun 2020</td> <th>  Prob (F-statistic):</th> <td>4.19e-51</td>\n",
       "</tr>\n",
       "<tr>\n",
       "  <th>Time:</th>                 <td>13:15:28</td>     <th>  Log-Likelihood:    </th> <td> -2816.6</td>\n",
       "</tr>\n",
       "<tr>\n",
       "  <th>No. Observations:</th>      <td>   593</td>      <th>  AIC:               </th> <td>   5691.</td>\n",
       "</tr>\n",
       "<tr>\n",
       "  <th>Df Residuals:</th>          <td>   564</td>      <th>  BIC:               </th> <td>   5818.</td>\n",
       "</tr>\n",
       "<tr>\n",
       "  <th>Df Model:</th>              <td>    28</td>      <th>                     </th>     <td> </td>   \n",
       "</tr>\n",
       "<tr>\n",
       "  <th>Covariance Type:</th>      <td>nonrobust</td>    <th>                     </th>     <td> </td>   \n",
       "</tr>\n",
       "</table>\n",
       "<table class=\"simpletable\">\n",
       "<tr>\n",
       "                   <td></td>                      <th>coef</th>     <th>std err</th>      <th>t</th>      <th>P>|t|</th>  <th>[0.025</th>    <th>0.975]</th>  \n",
       "</tr>\n",
       "<tr>\n",
       "  <th>const</th>                               <td>   15.2070</td> <td>    9.676</td> <td>    1.572</td> <td> 0.117</td> <td>   -3.798</td> <td>   34.212</td>\n",
       "</tr>\n",
       "<tr>\n",
       "  <th>seniority</th>                           <td>   26.3361</td> <td>    4.035</td> <td>    6.526</td> <td> 0.000</td> <td>   18.410</td> <td>   34.262</td>\n",
       "</tr>\n",
       "<tr>\n",
       "  <th>company_rating</th>                      <td>    2.7571</td> <td>    2.458</td> <td>    1.122</td> <td> 0.262</td> <td>   -2.071</td> <td>    7.585</td>\n",
       "</tr>\n",
       "<tr>\n",
       "  <th>company_size</th>                        <td>    1.6602</td> <td>    1.930</td> <td>    0.860</td> <td> 0.390</td> <td>   -2.131</td> <td>    5.451</td>\n",
       "</tr>\n",
       "<tr>\n",
       "  <th>company_age</th>                         <td>    0.0496</td> <td>    0.028</td> <td>    1.753</td> <td> 0.080</td> <td>   -0.006</td> <td>    0.105</td>\n",
       "</tr>\n",
       "<tr>\n",
       "  <th>role_data analyst</th>                   <td>  -19.4485</td> <td>    3.865</td> <td>   -5.032</td> <td> 0.000</td> <td>  -27.040</td> <td>  -11.857</td>\n",
       "</tr>\n",
       "<tr>\n",
       "  <th>role_data engineer</th>                  <td>    7.5525</td> <td>    4.066</td> <td>    1.857</td> <td> 0.064</td> <td>   -0.434</td> <td>   15.539</td>\n",
       "</tr>\n",
       "<tr>\n",
       "  <th>role_data scientist</th>                 <td>   21.2992</td> <td>    3.554</td> <td>    5.993</td> <td> 0.000</td> <td>   14.318</td> <td>   28.280</td>\n",
       "</tr>\n",
       "<tr>\n",
       "  <th>role_director</th>                       <td>   38.7428</td> <td>   10.486</td> <td>    3.695</td> <td> 0.000</td> <td>   18.147</td> <td>   59.339</td>\n",
       "</tr>\n",
       "<tr>\n",
       "  <th>role_machine learning engineer</th>      <td>   15.1813</td> <td>    8.939</td> <td>    1.698</td> <td> 0.090</td> <td>   -2.377</td> <td>   32.740</td>\n",
       "</tr>\n",
       "<tr>\n",
       "  <th>role_manager</th>                        <td>  -13.8001</td> <td>    7.002</td> <td>   -1.971</td> <td> 0.049</td> <td>  -27.553</td> <td>   -0.048</td>\n",
       "</tr>\n",
       "<tr>\n",
       "  <th>role_other</th>                          <td>   -6.8670</td> <td>    4.222</td> <td>   -1.626</td> <td> 0.104</td> <td>  -15.160</td> <td>    1.426</td>\n",
       "</tr>\n",
       "<tr>\n",
       "  <th>role_product analyst</th>                <td>  -32.4861</td> <td>   18.793</td> <td>   -1.729</td> <td> 0.084</td> <td>  -69.399</td> <td>    4.426</td>\n",
       "</tr>\n",
       "<tr>\n",
       "  <th>role_research scientist</th>             <td>    5.9722</td> <td>    7.701</td> <td>    0.776</td> <td> 0.438</td> <td>   -9.154</td> <td>   21.098</td>\n",
       "</tr>\n",
       "<tr>\n",
       "  <th>role_software engineer</th>              <td>   -0.9392</td> <td>   13.591</td> <td>   -0.069</td> <td> 0.945</td> <td>  -27.634</td> <td>   25.755</td>\n",
       "</tr>\n",
       "<tr>\n",
       "  <th>sector_Aerospace & Defense</th>          <td>    1.7459</td> <td>    6.625</td> <td>    0.264</td> <td> 0.792</td> <td>  -11.267</td> <td>   14.759</td>\n",
       "</tr>\n",
       "<tr>\n",
       "  <th>sector_Biotech & Pharmaceuticals</th>    <td>   14.9399</td> <td>    3.705</td> <td>    4.032</td> <td> 0.000</td> <td>    7.663</td> <td>   22.217</td>\n",
       "</tr>\n",
       "<tr>\n",
       "  <th>sector_Business Services</th>            <td>    2.7333</td> <td>    3.791</td> <td>    0.721</td> <td> 0.471</td> <td>   -4.712</td> <td>   10.179</td>\n",
       "</tr>\n",
       "<tr>\n",
       "  <th>sector_Education</th>                    <td>    9.8451</td> <td>    6.988</td> <td>    1.409</td> <td> 0.159</td> <td>   -3.881</td> <td>   23.572</td>\n",
       "</tr>\n",
       "<tr>\n",
       "  <th>sector_Finance</th>                      <td>    3.6975</td> <td>    4.753</td> <td>    0.778</td> <td> 0.437</td> <td>   -5.638</td> <td>   13.033</td>\n",
       "</tr>\n",
       "<tr>\n",
       "  <th>sector_Government</th>                   <td>   -1.7909</td> <td>    9.760</td> <td>   -0.183</td> <td> 0.854</td> <td>  -20.962</td> <td>   17.380</td>\n",
       "</tr>\n",
       "<tr>\n",
       "  <th>sector_Health Care</th>                  <td>  -11.5266</td> <td>    4.822</td> <td>   -2.390</td> <td> 0.017</td> <td>  -20.998</td> <td>   -2.056</td>\n",
       "</tr>\n",
       "<tr>\n",
       "  <th>sector_Information Technology</th>       <td>   14.9942</td> <td>    3.374</td> <td>    4.444</td> <td> 0.000</td> <td>    8.368</td> <td>   21.621</td>\n",
       "</tr>\n",
       "<tr>\n",
       "  <th>sector_Insurance</th>                    <td>    3.1774</td> <td>    4.340</td> <td>    0.732</td> <td> 0.464</td> <td>   -5.348</td> <td>   11.703</td>\n",
       "</tr>\n",
       "<tr>\n",
       "  <th>sector_Manufacturing</th>                <td>    8.7672</td> <td>    5.674</td> <td>    1.545</td> <td> 0.123</td> <td>   -2.377</td> <td>   19.911</td>\n",
       "</tr>\n",
       "<tr>\n",
       "  <th>sector_Oil, Gas, Energy & Utilities</th> <td>  -33.9530</td> <td>    8.644</td> <td>   -3.928</td> <td> 0.000</td> <td>  -50.930</td> <td>  -16.976</td>\n",
       "</tr>\n",
       "<tr>\n",
       "  <th>sector_Retail</th>                       <td>    3.6065</td> <td>    8.022</td> <td>    0.450</td> <td> 0.653</td> <td>  -12.151</td> <td>   19.364</td>\n",
       "</tr>\n",
       "<tr>\n",
       "  <th>sector_other</th>                        <td>   -1.0295</td> <td>    4.213</td> <td>   -0.244</td> <td> 0.807</td> <td>   -9.304</td> <td>    7.245</td>\n",
       "</tr>\n",
       "<tr>\n",
       "  <th>region_Midwest</th>                      <td>   -0.1326</td> <td>    3.740</td> <td>   -0.035</td> <td> 0.972</td> <td>   -7.479</td> <td>    7.214</td>\n",
       "</tr>\n",
       "<tr>\n",
       "  <th>region_Northeast</th>                    <td>    5.2694</td> <td>    3.243</td> <td>    1.625</td> <td> 0.105</td> <td>   -1.101</td> <td>   11.640</td>\n",
       "</tr>\n",
       "<tr>\n",
       "  <th>region_South</th>                        <td>   -5.5284</td> <td>    3.392</td> <td>   -1.630</td> <td> 0.104</td> <td>  -12.191</td> <td>    1.135</td>\n",
       "</tr>\n",
       "<tr>\n",
       "  <th>region_West</th>                         <td>   15.5986</td> <td>    3.104</td> <td>    5.025</td> <td> 0.000</td> <td>    9.502</td> <td>   21.696</td>\n",
       "</tr>\n",
       "</table>\n",
       "<table class=\"simpletable\">\n",
       "<tr>\n",
       "  <th>Omnibus:</th>       <td>82.828</td> <th>  Durbin-Watson:     </th> <td>   2.100</td>\n",
       "</tr>\n",
       "<tr>\n",
       "  <th>Prob(Omnibus):</th> <td> 0.000</td> <th>  Jarque-Bera (JB):  </th> <td> 222.169</td>\n",
       "</tr>\n",
       "<tr>\n",
       "  <th>Skew:</th>          <td> 0.703</td> <th>  Prob(JB):          </th> <td>5.71e-49</td>\n",
       "</tr>\n",
       "<tr>\n",
       "  <th>Kurtosis:</th>      <td> 5.649</td> <th>  Cond. No.          </th> <td>5.05e+16</td>\n",
       "</tr>\n",
       "</table><br/><br/>Warnings:<br/>[1] Standard Errors assume that the covariance matrix of the errors is correctly specified.<br/>[2] The smallest eigenvalue is 1.24e-27. This might indicate that there are<br/>strong multicollinearity problems or that the design matrix is singular."
      ],
      "text/plain": [
       "<class 'statsmodels.iolib.summary.Summary'>\n",
       "\"\"\"\n",
       "                            OLS Regression Results                            \n",
       "==============================================================================\n",
       "Dep. Variable:             avg_salary   R-squared:                       0.425\n",
       "Model:                            OLS   Adj. R-squared:                  0.396\n",
       "Method:                 Least Squares   F-statistic:                     14.89\n",
       "Date:                Wed, 24 Jun 2020   Prob (F-statistic):           4.19e-51\n",
       "Time:                        13:15:28   Log-Likelihood:                -2816.6\n",
       "No. Observations:                 593   AIC:                             5691.\n",
       "Df Residuals:                     564   BIC:                             5818.\n",
       "Df Model:                          28                                         \n",
       "Covariance Type:            nonrobust                                         \n",
       "=======================================================================================================\n",
       "                                          coef    std err          t      P>|t|      [0.025      0.975]\n",
       "-------------------------------------------------------------------------------------------------------\n",
       "const                                  15.2070      9.676      1.572      0.117      -3.798      34.212\n",
       "seniority                              26.3361      4.035      6.526      0.000      18.410      34.262\n",
       "company_rating                          2.7571      2.458      1.122      0.262      -2.071       7.585\n",
       "company_size                            1.6602      1.930      0.860      0.390      -2.131       5.451\n",
       "company_age                             0.0496      0.028      1.753      0.080      -0.006       0.105\n",
       "role_data analyst                     -19.4485      3.865     -5.032      0.000     -27.040     -11.857\n",
       "role_data engineer                      7.5525      4.066      1.857      0.064      -0.434      15.539\n",
       "role_data scientist                    21.2992      3.554      5.993      0.000      14.318      28.280\n",
       "role_director                          38.7428     10.486      3.695      0.000      18.147      59.339\n",
       "role_machine learning engineer         15.1813      8.939      1.698      0.090      -2.377      32.740\n",
       "role_manager                          -13.8001      7.002     -1.971      0.049     -27.553      -0.048\n",
       "role_other                             -6.8670      4.222     -1.626      0.104     -15.160       1.426\n",
       "role_product analyst                  -32.4861     18.793     -1.729      0.084     -69.399       4.426\n",
       "role_research scientist                 5.9722      7.701      0.776      0.438      -9.154      21.098\n",
       "role_software engineer                 -0.9392     13.591     -0.069      0.945     -27.634      25.755\n",
       "sector_Aerospace & Defense              1.7459      6.625      0.264      0.792     -11.267      14.759\n",
       "sector_Biotech & Pharmaceuticals       14.9399      3.705      4.032      0.000       7.663      22.217\n",
       "sector_Business Services                2.7333      3.791      0.721      0.471      -4.712      10.179\n",
       "sector_Education                        9.8451      6.988      1.409      0.159      -3.881      23.572\n",
       "sector_Finance                          3.6975      4.753      0.778      0.437      -5.638      13.033\n",
       "sector_Government                      -1.7909      9.760     -0.183      0.854     -20.962      17.380\n",
       "sector_Health Care                    -11.5266      4.822     -2.390      0.017     -20.998      -2.056\n",
       "sector_Information Technology          14.9942      3.374      4.444      0.000       8.368      21.621\n",
       "sector_Insurance                        3.1774      4.340      0.732      0.464      -5.348      11.703\n",
       "sector_Manufacturing                    8.7672      5.674      1.545      0.123      -2.377      19.911\n",
       "sector_Oil, Gas, Energy & Utilities   -33.9530      8.644     -3.928      0.000     -50.930     -16.976\n",
       "sector_Retail                           3.6065      8.022      0.450      0.653     -12.151      19.364\n",
       "sector_other                           -1.0295      4.213     -0.244      0.807      -9.304       7.245\n",
       "region_Midwest                         -0.1326      3.740     -0.035      0.972      -7.479       7.214\n",
       "region_Northeast                        5.2694      3.243      1.625      0.105      -1.101      11.640\n",
       "region_South                           -5.5284      3.392     -1.630      0.104     -12.191       1.135\n",
       "region_West                            15.5986      3.104      5.025      0.000       9.502      21.696\n",
       "==============================================================================\n",
       "Omnibus:                       82.828   Durbin-Watson:                   2.100\n",
       "Prob(Omnibus):                  0.000   Jarque-Bera (JB):              222.169\n",
       "Skew:                           0.703   Prob(JB):                     5.71e-49\n",
       "Kurtosis:                       5.649   Cond. No.                     5.05e+16\n",
       "==============================================================================\n",
       "\n",
       "Warnings:\n",
       "[1] Standard Errors assume that the covariance matrix of the errors is correctly specified.\n",
       "[2] The smallest eigenvalue is 1.24e-27. This might indicate that there are\n",
       "strong multicollinearity problems or that the design matrix is singular.\n",
       "\"\"\""
      ]
     },
     "execution_count": 13,
     "metadata": {},
     "output_type": "execute_result"
    }
   ],
   "source": [
    "X_reg = sm.add_constant(X_train)\n",
    "#X_reg[['company_rating','company_age']] = X_reg[['company_rating','company_age']].apply(np.log)\n",
    "lin_reg = sm.OLS(y_train, X_reg).fit()\n",
    "lin_reg.summary()\n",
    "\n",
    "\n"
   ]
  },
  {
   "cell_type": "code",
   "execution_count": 14,
   "metadata": {},
   "outputs": [
    {
     "data": {
      "text/html": [
       "<table class=\"simpletable\">\n",
       "<caption>OLS Regression Results</caption>\n",
       "<tr>\n",
       "  <th>Dep. Variable:</th>       <td>avg_salary</td>    <th>  R-squared:         </th> <td>   0.389</td>\n",
       "</tr>\n",
       "<tr>\n",
       "  <th>Model:</th>                   <td>OLS</td>       <th>  Adj. R-squared:    </th> <td>   0.379</td>\n",
       "</tr>\n",
       "<tr>\n",
       "  <th>Method:</th>             <td>Least Squares</td>  <th>  F-statistic:       </th> <td>   37.12</td>\n",
       "</tr>\n",
       "<tr>\n",
       "  <th>Date:</th>             <td>Wed, 24 Jun 2020</td> <th>  Prob (F-statistic):</th> <td>3.28e-56</td>\n",
       "</tr>\n",
       "<tr>\n",
       "  <th>Time:</th>                 <td>13:15:28</td>     <th>  Log-Likelihood:    </th> <td> -2834.4</td>\n",
       "</tr>\n",
       "<tr>\n",
       "  <th>No. Observations:</th>      <td>   593</td>      <th>  AIC:               </th> <td>   5691.</td>\n",
       "</tr>\n",
       "<tr>\n",
       "  <th>Df Residuals:</th>          <td>   582</td>      <th>  BIC:               </th> <td>   5739.</td>\n",
       "</tr>\n",
       "<tr>\n",
       "  <th>Df Model:</th>              <td>    10</td>      <th>                     </th>     <td> </td>   \n",
       "</tr>\n",
       "<tr>\n",
       "  <th>Covariance Type:</th>      <td>nonrobust</td>    <th>                     </th>     <td> </td>   \n",
       "</tr>\n",
       "</table>\n",
       "<table class=\"simpletable\">\n",
       "<tr>\n",
       "                   <td></td>                      <th>coef</th>     <th>std err</th>      <th>t</th>      <th>P>|t|</th>  <th>[0.025</th>    <th>0.975]</th>  \n",
       "</tr>\n",
       "<tr>\n",
       "  <th>const</th>                               <td>   37.4107</td> <td>    8.373</td> <td>    4.468</td> <td> 0.000</td> <td>   20.966</td> <td>   53.855</td>\n",
       "</tr>\n",
       "<tr>\n",
       "  <th>seniority</th>                           <td>   25.9683</td> <td>    4.015</td> <td>    6.468</td> <td> 0.000</td> <td>   18.083</td> <td>   33.853</td>\n",
       "</tr>\n",
       "<tr>\n",
       "  <th>role_data analyst</th>                   <td>  -20.3349</td> <td>    3.371</td> <td>   -6.033</td> <td> 0.000</td> <td>  -26.955</td> <td>  -13.715</td>\n",
       "</tr>\n",
       "<tr>\n",
       "  <th>role_data scientist</th>                 <td>   20.1705</td> <td>    2.859</td> <td>    7.055</td> <td> 0.000</td> <td>   14.555</td> <td>   25.786</td>\n",
       "</tr>\n",
       "<tr>\n",
       "  <th>role_director</th>                       <td>   43.1792</td> <td>   10.710</td> <td>    4.032</td> <td> 0.000</td> <td>   22.145</td> <td>   64.213</td>\n",
       "</tr>\n",
       "<tr>\n",
       "  <th>role_manager</th>                        <td>  -11.7446</td> <td>    7.177</td> <td>   -1.636</td> <td> 0.102</td> <td>  -25.841</td> <td>    2.351</td>\n",
       "</tr>\n",
       "<tr>\n",
       "  <th>sector_Biotech & Pharmaceuticals</th>    <td>   12.0456</td> <td>    3.654</td> <td>    3.296</td> <td> 0.001</td> <td>    4.868</td> <td>   19.223</td>\n",
       "</tr>\n",
       "<tr>\n",
       "  <th>sector_Health Care</th>                  <td>  -19.6732</td> <td>    5.010</td> <td>   -3.927</td> <td> 0.000</td> <td>  -29.513</td> <td>   -9.833</td>\n",
       "</tr>\n",
       "<tr>\n",
       "  <th>sector_Information Technology</th>       <td>   10.5488</td> <td>    3.030</td> <td>    3.481</td> <td> 0.001</td> <td>    4.598</td> <td>   16.500</td>\n",
       "</tr>\n",
       "<tr>\n",
       "  <th>sector_Oil, Gas, Energy & Utilities</th> <td>  -35.5516</td> <td>    9.204</td> <td>   -3.863</td> <td> 0.000</td> <td>  -53.629</td> <td>  -17.474</td>\n",
       "</tr>\n",
       "<tr>\n",
       "  <th>region_West</th>                         <td>   14.8877</td> <td>    2.790</td> <td>    5.336</td> <td> 0.000</td> <td>    9.408</td> <td>   20.367</td>\n",
       "</tr>\n",
       "</table>\n",
       "<table class=\"simpletable\">\n",
       "<tr>\n",
       "  <th>Omnibus:</th>       <td>73.739</td> <th>  Durbin-Watson:     </th> <td>   2.110</td>\n",
       "</tr>\n",
       "<tr>\n",
       "  <th>Prob(Omnibus):</th> <td> 0.000</td> <th>  Jarque-Bera (JB):  </th> <td> 160.834</td>\n",
       "</tr>\n",
       "<tr>\n",
       "  <th>Skew:</th>          <td> 0.695</td> <th>  Prob(JB):          </th> <td>1.19e-35</td>\n",
       "</tr>\n",
       "<tr>\n",
       "  <th>Kurtosis:</th>      <td> 5.140</td> <th>  Cond. No.          </th> <td>    23.1</td>\n",
       "</tr>\n",
       "</table><br/><br/>Warnings:<br/>[1] Standard Errors assume that the covariance matrix of the errors is correctly specified."
      ],
      "text/plain": [
       "<class 'statsmodels.iolib.summary.Summary'>\n",
       "\"\"\"\n",
       "                            OLS Regression Results                            \n",
       "==============================================================================\n",
       "Dep. Variable:             avg_salary   R-squared:                       0.389\n",
       "Model:                            OLS   Adj. R-squared:                  0.379\n",
       "Method:                 Least Squares   F-statistic:                     37.12\n",
       "Date:                Wed, 24 Jun 2020   Prob (F-statistic):           3.28e-56\n",
       "Time:                        13:15:28   Log-Likelihood:                -2834.4\n",
       "No. Observations:                 593   AIC:                             5691.\n",
       "Df Residuals:                     582   BIC:                             5739.\n",
       "Df Model:                          10                                         \n",
       "Covariance Type:            nonrobust                                         \n",
       "=======================================================================================================\n",
       "                                          coef    std err          t      P>|t|      [0.025      0.975]\n",
       "-------------------------------------------------------------------------------------------------------\n",
       "const                                  37.4107      8.373      4.468      0.000      20.966      53.855\n",
       "seniority                              25.9683      4.015      6.468      0.000      18.083      33.853\n",
       "role_data analyst                     -20.3349      3.371     -6.033      0.000     -26.955     -13.715\n",
       "role_data scientist                    20.1705      2.859      7.055      0.000      14.555      25.786\n",
       "role_director                          43.1792     10.710      4.032      0.000      22.145      64.213\n",
       "role_manager                          -11.7446      7.177     -1.636      0.102     -25.841       2.351\n",
       "sector_Biotech & Pharmaceuticals       12.0456      3.654      3.296      0.001       4.868      19.223\n",
       "sector_Health Care                    -19.6732      5.010     -3.927      0.000     -29.513      -9.833\n",
       "sector_Information Technology          10.5488      3.030      3.481      0.001       4.598      16.500\n",
       "sector_Oil, Gas, Energy & Utilities   -35.5516      9.204     -3.863      0.000     -53.629     -17.474\n",
       "region_West                            14.8877      2.790      5.336      0.000       9.408      20.367\n",
       "==============================================================================\n",
       "Omnibus:                       73.739   Durbin-Watson:                   2.110\n",
       "Prob(Omnibus):                  0.000   Jarque-Bera (JB):              160.834\n",
       "Skew:                           0.695   Prob(JB):                     1.19e-35\n",
       "Kurtosis:                       5.140   Cond. No.                         23.1\n",
       "==============================================================================\n",
       "\n",
       "Warnings:\n",
       "[1] Standard Errors assume that the covariance matrix of the errors is correctly specified.\n",
       "\"\"\""
      ]
     },
     "execution_count": 14,
     "metadata": {},
     "output_type": "execute_result"
    }
   ],
   "source": [
    "X_reg = sm.add_constant(X_train[['seniority', 'role_data analyst',\n",
    "              'role_data scientist', 'role_director', 'role_manager',\n",
    "               'sector_Biotech & Pharmaceuticals',\n",
    "              'sector_Health Care', 'sector_Information Technology',\n",
    "              'sector_Oil, Gas, Energy & Utilities', 'region_West']])\n",
    "# regressing the log of average salary on the subset of the predictors from the full model that are significant at 95% significance level\n",
    "lin_reg2 = sm.OLS(y_train, X_reg).fit()\n",
    "lin_reg2.summary()\n",
    "\n"
   ]
  },
  {
   "cell_type": "code",
   "execution_count": 15,
   "metadata": {},
   "outputs": [
    {
     "data": {
      "text/plain": [
       "const                                  49.148050\n",
       "seniority                               1.232459\n",
       "role_data analyst                       1.269592\n",
       "role_data scientist                     1.337455\n",
       "role_director                           1.201888\n",
       "role_manager                            1.062889\n",
       "sector_Biotech & Pharmaceuticals        1.149722\n",
       "sector_Health Care                      1.132534\n",
       "sector_Information Technology           1.189072\n",
       "sector_Oil, Gas, Energy & Utilities     1.081331\n",
       "region_West                             1.116048\n",
       "dtype: float64"
      ]
     },
     "execution_count": 15,
     "metadata": {},
     "output_type": "execute_result"
    }
   ],
   "source": [
    "# check the variance inflation factors (VIF) to make sure there is no multicollinearity\n",
    "pd.Series([variance_inflation_factor(X_reg.values, i) \n",
    "               for i in range(X_reg.shape[1])], \n",
    "              index=X_reg.columns)\n",
    "\n",
    "# no problems with multicollinearity (no VIF > 5)"
   ]
  },
  {
   "cell_type": "code",
   "execution_count": 16,
   "metadata": {},
   "outputs": [],
   "source": [
    "train_pred = lin_reg2.predict(X_reg)"
   ]
  },
  {
   "cell_type": "code",
   "execution_count": 17,
   "metadata": {},
   "outputs": [
    {
     "name": "stdout",
     "output_type": "stream",
     "text": [
      "28.812141683438544\n"
     ]
    }
   ],
   "source": [
    "RMSE_lin_reg = mean_squared_error(y_train, train_pred, squared = False)\n",
    "print(RMSE_lin_reg)"
   ]
  },
  {
   "cell_type": "code",
   "execution_count": 18,
   "metadata": {},
   "outputs": [
    {
     "name": "stdout",
     "output_type": "stream",
     "text": [
      "22.202596845096174\n"
     ]
    }
   ],
   "source": [
    "MAE_lin_reg = mean_absolute_error(y_train, train_pred)\n",
    "print(MAE_lin_reg)"
   ]
  },
  {
   "cell_type": "code",
   "execution_count": 19,
   "metadata": {},
   "outputs": [
    {
     "name": "stdout",
     "output_type": "stream",
     "text": [
      "28.361232818268416\n",
      "22.970572239364788\n"
     ]
    }
   ],
   "source": [
    "pred = lin_reg2.predict(sm.add_constant(X_test[['seniority', 'role_data analyst',\n",
    "              'role_data scientist', 'role_director', 'role_manager',\n",
    "               'sector_Biotech & Pharmaceuticals',\n",
    "              'sector_Health Care', 'sector_Information Technology',\n",
    "              'sector_Oil, Gas, Energy & Utilities', 'region_West']]))\n",
    "\n",
    "RMSE_lin_reg = mean_squared_error(y_test, pred, squared = False)\n",
    "print(RMSE_lin_reg)\n",
    "\n",
    "MAE_lin_reg = mean_absolute_error(y_test, pred)\n",
    "print(MAE_lin_reg)\n",
    "\n",
    "# these estimates are around $23,000 off on average"
   ]
  },
  {
   "cell_type": "code",
   "execution_count": 20,
   "metadata": {},
   "outputs": [
    {
     "data": {
      "image/png": "[encoded data removed]",
      "text/plain": [
       "<Figure size 864x576 with 1 Axes>"
      ]
     },
     "metadata": {
      "needs_background": "light"
     },
     "output_type": "display_data"
    }
   ],
   "source": [
    "# look at the leverage vs residuals plot to see if there are any influential leverage points that could be removed \n",
    "fig, ax = plt.subplots(figsize=(12,8))\n",
    "fig = sm.graphics.influence_plot(lin_reg2, ax=ax, criterion=\"cooks\")"
   ]
  },
  {
   "cell_type": "code",
   "execution_count": 21,
   "metadata": {},
   "outputs": [
    {
     "data": {
      "text/plain": [
       "0"
      ]
     },
     "execution_count": 21,
     "metadata": {},
     "output_type": "execute_result"
    }
   ],
   "source": [
    "# check for cooks distance > 1 for influential leverage points to remove\n",
    "sum(lin_reg2.get_influence().summary_frame()['cooks_d']>=1)"
   ]
  },
  {
   "cell_type": "code",
   "execution_count": 22,
   "metadata": {},
   "outputs": [
    {
     "data": {
      "image/png": "[encoded data removed]",
      "text/plain": [
       "<Figure size 864x576 with 11 Axes>"
      ]
     },
     "metadata": {
      "needs_background": "light"
     },
     "output_type": "display_data"
    }
   ],
   "source": [
    "# plot regression plots to show the linear relationship between each independent variable and expected salary\n",
    "fig = plt.figure(figsize=(12,8))\n",
    "fig = sm.graphics.plot_partregress_grid(lin_reg2, fig=fig)"
   ]
  },
  {
   "cell_type": "markdown",
   "metadata": {},
   "source": [
    "## Lasso, Ridge, and Elastic Net Regression"
   ]
  },
  {
   "cell_type": "code",
   "execution_count": 23,
   "metadata": {},
   "outputs": [
    {
     "name": "stdout",
     "output_type": "stream",
     "text": [
      "Training R Squared: 0.4196621855350472\n",
      "l1_ratio: 0.6\n",
      "Training RMSE: 29.27825016225859\n",
      "***************Regression Coefficients**************\n",
      "seniority                              7.951993\n",
      "company_rating                         1.241141\n",
      "company_size                           0.515423\n",
      "company_age                            2.234198\n",
      "role_data analyst                     -8.325490\n",
      "role_data engineer                     1.090169\n",
      "role_data scientist                    7.751832\n",
      "role_director                          3.906885\n",
      "role_machine learning engineer         1.186349\n",
      "role_manager                          -2.558933\n",
      "role_other                            -3.265007\n",
      "role_product analyst                  -1.580940\n",
      "role_research scientist                0.090289\n",
      "role_software engineer                -0.263247\n",
      "sector_Aerospace & Defense            -0.243038\n",
      "sector_Biotech & Pharmaceuticals       3.309539\n",
      "sector_Business Services              -0.415217\n",
      "sector_Education                       0.676875\n",
      "sector_Finance                        -0.043497\n",
      "sector_Government                     -0.562402\n",
      "sector_Health Care                    -3.701676\n",
      "sector_Information Technology          4.041748\n",
      "sector_Insurance                      -0.000000\n",
      "sector_Manufacturing                   0.319254\n",
      "sector_Oil, Gas, Energy & Utilities   -4.132917\n",
      "sector_Retail                         -0.000000\n",
      "sector_other                          -1.269918\n",
      "region_Midwest                        -1.389155\n",
      "region_Northeast                       0.136865\n",
      "region_South                          -3.939855\n",
      "region_West                            4.332288\n",
      "dtype: float64\n"
     ]
    }
   ],
   "source": [
    "# ratio close to 1 means lasso where l1 ratio close to 0 would mean ridge regression\n",
    "# lasso sets many of the coefs to 0 and is useful for variable selection\n",
    "# must use scaled data for all of these regularized regression methods because the weight of each variable coefficient \n",
    "# needs to be standardized for the penalty term\n",
    "EN_reg = ElasticNetCV(l1_ratio = [0.1, 0.2, 0.3, 0.4, 0.5, 0.6, 0.7, 0.8, 0.9, 0.95, 0.975, 0.99, 1], random_state = 42)\n",
    "EN_reg.fit(X_train_scaled, y_train)\n",
    "print(\"Training R Squared: {}\".format(EN_reg.score(X_train_scaled, y_train)))\n",
    "print(\"l1_ratio: {}\".format(EN_reg.l1_ratio_))\n",
    "alpha_optimal = EN_reg.alpha_\n",
    "# index in the alphas array of the optimal alpha\n",
    "opt_alpha_idx = np.where(EN_reg.alphas_==alpha_optimal)\n",
    "print(\"Training RMSE: {}\".format(np.sqrt(np.mean(EN_reg.mse_path_[opt_alpha_idx]))))\n",
    "coefs = pd.Series(EN_reg.coef_, \n",
    "              index=X_train.columns)\n",
    "print('***************Regression Coefficients**************')\n",
    "print(coefs)\n"
   ]
  },
  {
   "cell_type": "code",
   "execution_count": 24,
   "metadata": {},
   "outputs": [
    {
     "name": "stdout",
     "output_type": "stream",
     "text": [
      "27.108330021416954\n",
      "21.577254530367124\n"
     ]
    }
   ],
   "source": [
    "EN_pred = EN_reg.predict(X_test_scaled)\n",
    "\n",
    "RMSE_EN_reg = mean_squared_error(y_test, EN_pred, squared = False)\n",
    "print(RMSE_EN_reg)\n",
    "\n",
    "MAE_EN_reg = mean_absolute_error(y_test, EN_pred)\n",
    "print(MAE_EN_reg)"
   ]
  },
  {
   "cell_type": "code",
   "execution_count": 25,
   "metadata": {},
   "outputs": [
    {
     "name": "stdout",
     "output_type": "stream",
     "text": [
      "l1 ratio: 0.1, RMSE: 29.284952587155413, Number of Variables: 31\n",
      "l1 ratio: 0.2, RMSE: 29.283368450933867, Number of Variables: 31\n",
      "l1 ratio: 0.3, RMSE: 29.281561839583038, Number of Variables: 31\n",
      "l1 ratio: 0.4, RMSE: 29.2796588737528, Number of Variables: 31\n",
      "l1 ratio: 0.5, RMSE: 29.27837892560113, Number of Variables: 30\n",
      "l1 ratio: 0.6, RMSE: 29.27825016225859, Number of Variables: 29\n",
      "l1 ratio: 0.7, RMSE: 29.279447311467706, Number of Variables: 28\n",
      "l1 ratio: 0.8, RMSE: 29.28330995295561, Number of Variables: 26\n",
      "l1 ratio: 0.9, RMSE: 29.29579189560102, Number of Variables: 25\n",
      "l1 ratio: 0.95, RMSE: 29.307617743681522, Number of Variables: 25\n",
      "l1 ratio: 0.975, RMSE: 29.316838201288807, Number of Variables: 24\n",
      "l1 ratio: 0.99, RMSE: 29.322234329740983, Number of Variables: 24\n",
      "l1 ratio: 1, RMSE: 29.32610963401265, Number of Variables: 23\n",
      "Best l1_ratio and alpha: 0.600000, 0.293808\n"
     ]
    },
    {
     "data": {
      "text/plain": [
       "Text(0.5, 1.0, 'L1 Ratio vs Elastic Net RMSE')"
      ]
     },
     "execution_count": 25,
     "metadata": {},
     "output_type": "execute_result"
    },
    {
     "data": {
      "image/png": "[encoded data removed]",
      "text/plain": [
       "<Figure size 432x288 with 1 Axes>"
      ]
     },
     "metadata": {
      "needs_background": "light"
     },
     "output_type": "display_data"
    }
   ],
   "source": [
    "l1_ratios = [0.1, 0.2, 0.3, 0.4, 0.5, 0.6, 0.7, 0.8, 0.9, 0.95, 0.975, 0.99, 1]\n",
    "rmse_arr = []    \n",
    "min_rmse = 1000\n",
    "for r in l1_ratios:\n",
    "    reg_en = ElasticNetCV(l1_ratio=r, cv=5)\n",
    "    reg_en.fit(X_train_scaled, y_train)\n",
    "    n_nonzeros = (reg_en.coef_ != 0).sum()\n",
    "    _rmse = np.sqrt(np.mean(reg_en.mse_path_, axis=1)[\n",
    "        np.where(reg_en.alphas_ == reg_en.alpha_)[0][0]])\n",
    "    rmse_arr.append(_rmse)\n",
    "    print(\"l1 ratio: {}, RMSE: {}, Number of Variables: {}\".format(r, _rmse, n_nonzeros))\n",
    "    if _rmse < min_rmse:\n",
    "        min_rmse = _rmse\n",
    "        best_l1_ratio = r\n",
    "        best_alpha = reg_en.alpha_\n",
    "   \n",
    "print(\"Best l1_ratio and alpha: %f, %f\" % (best_l1_ratio, best_alpha))\n",
    "\n",
    "#plt.plot(l1_ratios, rmse_arr)\n",
    "sns.pointplot(l1_ratios, rmse_arr)\n",
    "plt.xlabel('L1 Ratio')\n",
    "plt.ylabel('RMSE')\n",
    "plt.title('L1 Ratio vs Elastic Net RMSE')"
   ]
  },
  {
   "cell_type": "code",
   "execution_count": 26,
   "metadata": {},
   "outputs": [
    {
     "name": "stdout",
     "output_type": "stream",
     "text": [
      "Training R Squared: 0.42077786440795445\n",
      "Training RMSE: 29.32610963401265\n",
      "***************Regression Coefficients**************\n",
      "seniority                              8.531734\n",
      "company_rating                         0.688396\n",
      "company_size                           0.313468\n",
      "company_age                            2.446289\n",
      "role_data analyst                     -9.821669\n",
      "role_data engineer                     0.000000\n",
      "role_data scientist                    6.994988\n",
      "role_director                          3.570452\n",
      "role_machine learning engineer         0.665445\n",
      "role_manager                          -2.985310\n",
      "role_other                            -4.211921\n",
      "role_product analyst                  -1.612000\n",
      "role_research scientist               -0.000000\n",
      "role_software engineer                -0.247632\n",
      "sector_Aerospace & Defense            -0.000000\n",
      "sector_Biotech & Pharmaceuticals       3.547836\n",
      "sector_Business Services              -0.000000\n",
      "sector_Education                       0.389963\n",
      "sector_Finance                         0.000000\n",
      "sector_Government                     -0.333059\n",
      "sector_Health Care                    -3.668173\n",
      "sector_Information Technology          4.602265\n",
      "sector_Insurance                       0.000000\n",
      "sector_Manufacturing                   0.194803\n",
      "sector_Oil, Gas, Energy & Utilities   -4.312476\n",
      "sector_Retail                         -0.000000\n",
      "sector_other                          -0.837496\n",
      "region_Midwest                        -1.227555\n",
      "region_Northeast                       0.000000\n",
      "region_South                          -4.150175\n",
      "region_West                            4.411438\n",
      "dtype: float64\n"
     ]
    }
   ],
   "source": [
    "# Lasso\n",
    "L_reg = LassoCV(random_state = 42)\n",
    "L_reg.fit(X_train_scaled, y_train)\n",
    "print(\"Training R Squared: {}\".format(L_reg.score(X_train_scaled, y_train)))\n",
    "alpha_optimal = L_reg.alpha_\n",
    "# index in the alphas array of the optimal alpha\n",
    "opt_alpha_idx = np.where(L_reg.alphas_==alpha_optimal)\n",
    "print(\"Training RMSE: {}\".format(np.sqrt(np.mean(L_reg.mse_path_[opt_alpha_idx]))))\n",
    "coefs = pd.Series(L_reg.coef_, \n",
    "              index=X_train.columns)\n",
    "print('***************Regression Coefficients**************')\n",
    "print(coefs)\n",
    "\n"
   ]
  },
  {
   "cell_type": "code",
   "execution_count": 27,
   "metadata": {},
   "outputs": [
    {
     "name": "stdout",
     "output_type": "stream",
     "text": [
      "27.020036032335383\n",
      "21.518098193442075\n"
     ]
    }
   ],
   "source": [
    "L_pred = L_reg.predict(X_test_scaled)\n",
    "\n",
    "RMSE_L_reg = mean_squared_error(y_test, L_pred, squared = False)\n",
    "print(RMSE_L_reg)\n",
    "\n",
    "MAE_L_reg = mean_absolute_error(y_test, L_pred)\n",
    "print(MAE_L_reg)"
   ]
  },
  {
   "cell_type": "code",
   "execution_count": 28,
   "metadata": {},
   "outputs": [
    {
     "name": "stdout",
     "output_type": "stream",
     "text": [
      "Training R Squared: 0.4249173775564258\n",
      "Training CV RMSE Score: 29.423292300032628\n",
      "***************Regression Coefficients**************\n",
      "seniority                              8.591304\n",
      "company_rating                         1.538304\n",
      "company_size                           1.168213\n",
      "company_age                            2.573849\n",
      "role_data analyst                     -8.927868\n",
      "role_data engineer                     1.587346\n",
      "role_data scientist                    8.637525\n",
      "role_director                          4.309643\n",
      "role_machine learning engineer         1.523874\n",
      "role_manager                          -2.874572\n",
      "role_other                            -3.661426\n",
      "role_product analyst                  -2.020023\n",
      "role_research scientist                0.428464\n",
      "role_software engineer                -0.342979\n",
      "sector_Aerospace & Defense            -0.656343\n",
      "sector_Biotech & Pharmaceuticals       3.291201\n",
      "sector_Business Services              -0.893999\n",
      "sector_Education                       0.740050\n",
      "sector_Finance                        -0.433130\n",
      "sector_Government                     -0.831251\n",
      "sector_Health Care                    -4.263023\n",
      "sector_Information Technology          4.045782\n",
      "sector_Insurance                      -0.630356\n",
      "sector_Manufacturing                   0.652338\n",
      "sector_Oil, Gas, Energy & Utilities   -5.183242\n",
      "sector_Retail                         -0.255461\n",
      "sector_other                          -1.853560\n",
      "region_Midwest                        -1.523946\n",
      "region_Northeast                       0.398221\n",
      "region_South                          -4.334047\n",
      "region_West                            4.991842\n",
      "dtype: float64\n"
     ]
    }
   ],
   "source": [
    "# Ridge regression\n",
    "# must use LOOCV because the functionality is not up to date with LASSO and EN methods\n",
    "R_reg = RidgeCV(store_cv_values = True)\n",
    "R_reg.fit(X_train_scaled, y_train)\n",
    "print(\"Training R Squared: {}\".format(R_reg.score(X_train_scaled, y_train)))\n",
    "coefs = pd.Series(R_reg.coef_, index=X_train.columns)\n",
    "# chosen alpha is 10, which is at index 2 of the cv_values array\n",
    "print(\"Training CV RMSE Score: {}\".format(np.sqrt(np.mean(R_reg.cv_values_, axis = 0)[2])))\n",
    "print('***************Regression Coefficients**************')\n",
    "print(coefs)\n"
   ]
  },
  {
   "cell_type": "code",
   "execution_count": 29,
   "metadata": {},
   "outputs": [
    {
     "name": "stdout",
     "output_type": "stream",
     "text": [
      "27.020036032335383\n",
      "21.147481775858996\n"
     ]
    }
   ],
   "source": [
    "R_pred = R_reg.predict(X_test_scaled)\n",
    "\n",
    "RMSE_R_reg = mean_squared_error(y_test, R_pred, squared = False)\n",
    "print(RMSE_L_reg)\n",
    "\n",
    "MAE_R_reg = mean_absolute_error(y_test, R_pred)\n",
    "print(MAE_R_reg)"
   ]
  },
  {
   "cell_type": "markdown",
   "metadata": {},
   "source": [
    "## Support Vector Regression"
   ]
  },
  {
   "cell_type": "code",
   "execution_count": 30,
   "metadata": {},
   "outputs": [],
   "source": [
    "sv_reg = SVR()\n",
    "param_grid = {'kernel':['rbf', 'linear', 'poly'], 'C':[0.1, 1, 10, 100], 'gamma':[1,0.1, 0.01, 0.001]}\n",
    "clf = GridSearchCV(sv_reg, param_grid, scoring = 'neg_root_mean_squared_error')\n",
    "opt_svm = clf.fit(X_train_scaled, y_train)"
   ]
  },
  {
   "cell_type": "code",
   "execution_count": 31,
   "metadata": {},
   "outputs": [
    {
     "name": "stdout",
     "output_type": "stream",
     "text": [
      "{'C': 100, 'gamma': 1, 'kernel': 'rbf'}\n",
      "-26.013709439265085\n",
      "make_scorer(mean_squared_error, greater_is_better=False, squared=False)\n"
     ]
    }
   ],
   "source": [
    "print(opt_svm.best_params_)\n",
    "print(opt_svm.best_score_)\n",
    "print(opt_svm.scorer_)"
   ]
  },
  {
   "cell_type": "code",
   "execution_count": 32,
   "metadata": {},
   "outputs": [
    {
     "name": "stdout",
     "output_type": "stream",
     "text": [
      "21.79789351952316\n",
      "11.39227082746488\n"
     ]
    }
   ],
   "source": [
    "svm_pred = opt_svm.predict(X_test_scaled)\n",
    "\n",
    "RMSE_svm_reg = mean_squared_error(y_test, svm_pred, squared = False)\n",
    "print(RMSE_svm_reg)\n",
    "\n",
    "MAE_svm_reg = mean_absolute_error(y_test, svm_pred)\n",
    "print(MAE_svm_reg)"
   ]
  },
  {
   "cell_type": "code",
   "execution_count": null,
   "metadata": {},
   "outputs": [],
   "source": []
  },
  {
   "cell_type": "markdown",
   "metadata": {},
   "source": [
    "## Random Forest Regression (Bagging)"
   ]
  },
  {
   "cell_type": "code",
   "execution_count": 33,
   "metadata": {},
   "outputs": [],
   "source": [
    "rf_reg = RandomForestRegressor()\n",
    "param_grid = {'n_estimators':[25, 50, 75, 100, 150], 'max_features':['auto', 'sqrt', 'log2'], 'min_samples_split':[2,3,4]}\n",
    "clf = GridSearchCV(rf_reg, param_grid, scoring = 'neg_root_mean_squared_error')\n",
    "opt_rf = clf.fit(X_train, y_train)"
   ]
  },
  {
   "cell_type": "code",
   "execution_count": 34,
   "metadata": {},
   "outputs": [
    {
     "name": "stdout",
     "output_type": "stream",
     "text": [
      "{'max_features': 'log2', 'min_samples_split': 2, 'n_estimators': 50}\n",
      "-22.87303999919684\n",
      "make_scorer(mean_squared_error, greater_is_better=False, squared=False)\n"
     ]
    }
   ],
   "source": [
    "print(opt_rf.best_params_)\n",
    "print(opt_rf.best_score_)\n",
    "print(opt_rf.scorer_)"
   ]
  },
  {
   "cell_type": "code",
   "execution_count": 35,
   "metadata": {},
   "outputs": [
    {
     "name": "stdout",
     "output_type": "stream",
     "text": [
      "seniority                              0.076659\n",
      "company_rating                         0.148231\n",
      "company_size                           0.047231\n",
      "company_age                            0.181562\n",
      "role_data analyst                      0.069452\n",
      "role_data engineer                     0.020612\n",
      "role_data scientist                    0.091010\n",
      "role_director                          0.035100\n",
      "role_machine learning engineer         0.005566\n",
      "role_manager                           0.015312\n",
      "role_other                             0.023334\n",
      "role_product analyst                   0.000613\n",
      "role_research scientist                0.005330\n",
      "role_software engineer                 0.000650\n",
      "sector_Aerospace & Defense             0.003722\n",
      "sector_Biotech & Pharmaceuticals       0.022864\n",
      "sector_Business Services               0.016795\n",
      "sector_Education                       0.004739\n",
      "sector_Finance                         0.014739\n",
      "sector_Government                      0.001994\n",
      "sector_Health Care                     0.024891\n",
      "sector_Information Technology          0.037141\n",
      "sector_Insurance                       0.013016\n",
      "sector_Manufacturing                   0.007224\n",
      "sector_Oil, Gas, Energy & Utilities    0.006916\n",
      "sector_Retail                          0.002713\n",
      "sector_other                           0.010725\n",
      "region_Midwest                         0.029024\n",
      "region_Northeast                       0.027069\n",
      "region_South                           0.021543\n",
      "region_West                            0.034224\n",
      "dtype: float64\n"
     ]
    }
   ],
   "source": [
    "rf_feature_importances = pd.Series(opt_rf.best_estimator_.feature_importances_, index = X_train.columns)\n",
    "print(rf_feature_importances)"
   ]
  },
  {
   "cell_type": "code",
   "execution_count": 36,
   "metadata": {},
   "outputs": [
    {
     "data": {
      "text/plain": [
       "Text(0, 0.5, 'Feature')"
      ]
     },
     "execution_count": 36,
     "metadata": {},
     "output_type": "execute_result"
    },
    {
     "data": {
      "image/png": "[encoded data removed]",
      "text/plain": [
       "<Figure size 432x288 with 1 Axes>"
      ]
     },
     "metadata": {
      "needs_background": "light"
     },
     "output_type": "display_data"
    }
   ],
   "source": [
    "rf_feature_importances.nlargest(10).plot(kind='barh')\n",
    "plt.title('Top 10 Features')\n",
    "plt.xlabel('Feature Importance')\n",
    "plt.ylabel('Feature')"
   ]
  },
  {
   "cell_type": "code",
   "execution_count": 37,
   "metadata": {},
   "outputs": [
    {
     "name": "stdout",
     "output_type": "stream",
     "text": [
      "17.81652969571078\n",
      "12.495133139297865\n"
     ]
    }
   ],
   "source": [
    "rf_pred = opt_rf.predict(X_test)\n",
    "\n",
    "RMSE_rf_reg = mean_squared_error(y_test, rf_pred, squared = False)\n",
    "print(RMSE_rf_reg)\n",
    "\n",
    "MAE_rf_reg = mean_absolute_error(y_test, rf_pred)\n",
    "print(MAE_rf_reg)"
   ]
  },
  {
   "cell_type": "code",
   "execution_count": null,
   "metadata": {},
   "outputs": [],
   "source": []
  },
  {
   "cell_type": "markdown",
   "metadata": {},
   "source": [
    "## Gradient Boosting Regression (Boosting)"
   ]
  },
  {
   "cell_type": "code",
   "execution_count": 38,
   "metadata": {},
   "outputs": [
    {
     "name": "stdout",
     "output_type": "stream",
     "text": [
      "{'n_estimators': 150}\n",
      "-25.806873585667187\n",
      "make_scorer(mean_squared_error, greater_is_better=False, squared=False)\n"
     ]
    }
   ],
   "source": [
    "# fixed learning rate of 0.1 (default) and find the optimal number of trees for this rate\n",
    "gb_reg = GradientBoostingRegressor(random_state = 42)\n",
    "param_grid = {'n_estimators':[25, 40, 50, 60, 75, 100, 150, 200]}\n",
    "clf = GridSearchCV(gb_reg, param_grid, scoring = 'neg_root_mean_squared_error')\n",
    "opt_gb = clf.fit(X_train, y_train)\n",
    "print(opt_gb.best_params_)\n",
    "print(opt_gb.best_score_)\n",
    "print(opt_gb.scorer_)"
   ]
  },
  {
   "cell_type": "code",
   "execution_count": 39,
   "metadata": {},
   "outputs": [
    {
     "name": "stdout",
     "output_type": "stream",
     "text": [
      "{'max_depth': 3, 'max_features': 'auto', 'min_samples_split': 3}\n",
      "-25.67121944721037\n",
      "make_scorer(mean_squared_error, greater_is_better=False, squared=False)\n"
     ]
    }
   ],
   "source": [
    "# update regressor to optimal number of trees and tune the tree-based parameters\n",
    "gb_reg2 = GradientBoostingRegressor(n_estimators = 150, random_state = 42)\n",
    "param_grid = {'max_features':['auto', 'sqrt', 'log2'], 'min_samples_split':[2,3,4,5],\n",
    "             'max_depth':[2,3]}\n",
    "clf2 = GridSearchCV(gb_reg2, param_grid, scoring = 'neg_root_mean_squared_error')\n",
    "opt_gb2 = clf2.fit(X_train, y_train)\n",
    "print(opt_gb2.best_params_)\n",
    "print(opt_gb2.best_score_)\n",
    "print(opt_gb2.scorer_)\n"
   ]
  },
  {
   "cell_type": "code",
   "execution_count": 40,
   "metadata": {},
   "outputs": [
    {
     "name": "stdout",
     "output_type": "stream",
     "text": [
      "seniority                              0.139215\n",
      "company_rating                         0.101760\n",
      "company_size                           0.017846\n",
      "company_age                            0.157411\n",
      "role_data analyst                      0.077383\n",
      "role_data engineer                     0.011496\n",
      "role_data scientist                    0.144499\n",
      "role_director                          0.008509\n",
      "role_machine learning engineer         0.001193\n",
      "role_manager                           0.015706\n",
      "role_other                             0.041977\n",
      "role_product analyst                   0.002032\n",
      "role_research scientist                0.012898\n",
      "role_software engineer                 0.000000\n",
      "sector_Aerospace & Defense             0.000506\n",
      "sector_Biotech & Pharmaceuticals       0.020172\n",
      "sector_Business Services               0.016726\n",
      "sector_Education                       0.000983\n",
      "sector_Finance                         0.010347\n",
      "sector_Government                      0.001130\n",
      "sector_Health Care                     0.037259\n",
      "sector_Information Technology          0.029472\n",
      "sector_Insurance                       0.005025\n",
      "sector_Manufacturing                   0.009089\n",
      "sector_Oil, Gas, Energy & Utilities    0.010526\n",
      "sector_Retail                          0.000811\n",
      "sector_other                           0.003475\n",
      "region_Midwest                         0.053651\n",
      "region_Northeast                       0.017121\n",
      "region_South                           0.015412\n",
      "region_West                            0.036371\n",
      "dtype: float64\n"
     ]
    }
   ],
   "source": [
    "gb_feature_importances = pd.Series(opt_gb2.best_estimator_.feature_importances_, index = X_train.columns)\n",
    "print(gb_feature_importances)"
   ]
  },
  {
   "cell_type": "code",
   "execution_count": 41,
   "metadata": {},
   "outputs": [
    {
     "data": {
      "text/plain": [
       "Text(0, 0.5, 'Feature')"
      ]
     },
     "execution_count": 41,
     "metadata": {},
     "output_type": "execute_result"
    },
    {
     "data": {
      "image/png": "[encoded data removed]",
      "text/plain": [
       "<Figure size 432x288 with 1 Axes>"
      ]
     },
     "metadata": {
      "needs_background": "light"
     },
     "output_type": "display_data"
    }
   ],
   "source": [
    "gb_feature_importances.nlargest(10).plot(kind='barh')\n",
    "plt.title('Top 10 Features')\n",
    "plt.xlabel('Feature Importance')\n",
    "plt.ylabel('Feature')"
   ]
  },
  {
   "cell_type": "code",
   "execution_count": 42,
   "metadata": {},
   "outputs": [],
   "source": [
    "# TODO: interpret size of coefficients of the LASSO model to see which features are best for predicting salary"
   ]
  }
 ],
 "metadata": {
  "kernelspec": {
   "display_name": "Python 3",
   "language": "python",
   "name": "python3"
  },
  "language_info": {
   "codemirror_mode": {
    "name": "ipython",
    "version": 3
   },
   "file_extension": ".py",
   "mimetype": "text/x-python",
   "name": "python",
   "nbconvert_exporter": "python",
   "pygments_lexer": "ipython3",
   "version": "3.7.6"
  }
 },
 "nbformat": 4,
 "nbformat_minor": 4
}
