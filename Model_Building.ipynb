{
 "cells": [
  {
   "cell_type": "code",
   "execution_count": 15,
   "metadata": {},
   "outputs": [],
   "source": [
    "import pandas as pd\n",
    "import numpy as np\n"
   ]
  },
  {
   "cell_type": "code",
   "execution_count": 16,
   "metadata": {},
   "outputs": [
    {
     "data": {
      "text/html": [
       "<div>\n",
       "<style scoped>\n",
       "    .dataframe tbody tr th:only-of-type {\n",
       "        vertical-align: middle;\n",
       "    }\n",
       "\n",
       "    .dataframe tbody tr th {\n",
       "        vertical-align: top;\n",
       "    }\n",
       "\n",
       "    .dataframe thead th {\n",
       "        text-align: right;\n",
       "    }\n",
       "</style>\n",
       "<table border=\"1\" class=\"dataframe\">\n",
       "  <thead>\n",
       "    <tr style=\"text-align: right;\">\n",
       "      <th></th>\n",
       "      <th>role</th>\n",
       "      <th>seniority</th>\n",
       "      <th>avg_salary</th>\n",
       "      <th>state</th>\n",
       "      <th>company_rating</th>\n",
       "      <th>company_size</th>\n",
       "      <th>sector</th>\n",
       "      <th>company_age</th>\n",
       "      <th>city</th>\n",
       "      <th>region</th>\n",
       "    </tr>\n",
       "  </thead>\n",
       "  <tbody>\n",
       "    <tr>\n",
       "      <th>0</th>\n",
       "      <td>data scientist</td>\n",
       "      <td>2</td>\n",
       "      <td>72.0</td>\n",
       "      <td>NM</td>\n",
       "      <td>3.8</td>\n",
       "      <td>2.0</td>\n",
       "      <td>Aerospace &amp; Defense</td>\n",
       "      <td>47.0</td>\n",
       "      <td>other</td>\n",
       "      <td>West</td>\n",
       "    </tr>\n",
       "    <tr>\n",
       "      <th>1</th>\n",
       "      <td>data scientist</td>\n",
       "      <td>2</td>\n",
       "      <td>87.5</td>\n",
       "      <td>MD</td>\n",
       "      <td>3.4</td>\n",
       "      <td>3.0</td>\n",
       "      <td>Health Care</td>\n",
       "      <td>36.0</td>\n",
       "      <td>other</td>\n",
       "      <td>South</td>\n",
       "    </tr>\n",
       "    <tr>\n",
       "      <th>2</th>\n",
       "      <td>data scientist</td>\n",
       "      <td>2</td>\n",
       "      <td>85.0</td>\n",
       "      <td>FL</td>\n",
       "      <td>4.8</td>\n",
       "      <td>2.0</td>\n",
       "      <td>Business Services</td>\n",
       "      <td>10.0</td>\n",
       "      <td>other</td>\n",
       "      <td>South</td>\n",
       "    </tr>\n",
       "    <tr>\n",
       "      <th>3</th>\n",
       "      <td>data scientist</td>\n",
       "      <td>2</td>\n",
       "      <td>76.5</td>\n",
       "      <td>WA</td>\n",
       "      <td>3.8</td>\n",
       "      <td>3.0</td>\n",
       "      <td>Oil, Gas, Energy &amp; Utilities</td>\n",
       "      <td>55.0</td>\n",
       "      <td>Richland</td>\n",
       "      <td>West</td>\n",
       "    </tr>\n",
       "    <tr>\n",
       "      <th>4</th>\n",
       "      <td>data scientist</td>\n",
       "      <td>2</td>\n",
       "      <td>114.5</td>\n",
       "      <td>NY</td>\n",
       "      <td>2.9</td>\n",
       "      <td>1.0</td>\n",
       "      <td>Business Services</td>\n",
       "      <td>22.0</td>\n",
       "      <td>New York</td>\n",
       "      <td>Northeast</td>\n",
       "    </tr>\n",
       "  </tbody>\n",
       "</table>\n",
       "</div>"
      ],
      "text/plain": [
       "             role  seniority  avg_salary state  company_rating  company_size  \\\n",
       "0  data scientist          2        72.0    NM             3.8           2.0   \n",
       "1  data scientist          2        87.5    MD             3.4           3.0   \n",
       "2  data scientist          2        85.0    FL             4.8           2.0   \n",
       "3  data scientist          2        76.5    WA             3.8           3.0   \n",
       "4  data scientist          2       114.5    NY             2.9           1.0   \n",
       "\n",
       "                         sector  company_age      city     region  \n",
       "0           Aerospace & Defense         47.0     other       West  \n",
       "1                   Health Care         36.0     other      South  \n",
       "2             Business Services         10.0     other      South  \n",
       "3  Oil, Gas, Energy & Utilities         55.0  Richland       West  \n",
       "4             Business Services         22.0  New York  Northeast  "
      ]
     },
     "execution_count": 16,
     "metadata": {},
     "output_type": "execute_result"
    }
   ],
   "source": [
    "df = pd.read_csv(\"data_for_modeling.csv\")\n",
    "df.head()"
   ]
  },
  {
   "cell_type": "code",
   "execution_count": 17,
   "metadata": {},
   "outputs": [
    {
     "name": "stdout",
     "output_type": "stream",
     "text": [
      "<class 'pandas.core.frame.DataFrame'>\n",
      "RangeIndex: 742 entries, 0 to 741\n",
      "Data columns (total 10 columns):\n",
      " #   Column          Non-Null Count  Dtype  \n",
      "---  ------          --------------  -----  \n",
      " 0   role            742 non-null    object \n",
      " 1   seniority       742 non-null    int64  \n",
      " 2   avg_salary      742 non-null    float64\n",
      " 3   state           742 non-null    object \n",
      " 4   company_rating  742 non-null    float64\n",
      " 5   company_size    732 non-null    float64\n",
      " 6   sector          742 non-null    object \n",
      " 7   company_age     742 non-null    float64\n",
      " 8   city            742 non-null    object \n",
      " 9   region          742 non-null    object \n",
      "dtypes: float64(4), int64(1), object(5)\n",
      "memory usage: 58.1+ KB\n"
     ]
    }
   ],
   "source": [
    "df.info()"
   ]
  },
  {
   "cell_type": "code",
   "execution_count": 18,
   "metadata": {},
   "outputs": [],
   "source": [
    "# drop city from the dataset\n",
    "df = df.drop(['city', 'state'], axis =1)"
   ]
  },
  {
   "cell_type": "code",
   "execution_count": null,
   "metadata": {},
   "outputs": [],
   "source": [
    "# create dummy variables for role, sector, region"
   ]
  },
  {
   "cell_type": "code",
   "execution_count": null,
   "metadata": {},
   "outputs": [],
   "source": []
  }
 ],
 "metadata": {
  "kernelspec": {
   "display_name": "Python 3",
   "language": "python",
   "name": "python3"
  },
  "language_info": {
   "codemirror_mode": {
    "name": "ipython",
    "version": 3
   },
   "file_extension": ".py",
   "mimetype": "text/x-python",
   "name": "python",
   "nbconvert_exporter": "python",
   "pygments_lexer": "ipython3",
   "version": "3.7.6"
  }
 },
 "nbformat": 4,
 "nbformat_minor": 4
}
