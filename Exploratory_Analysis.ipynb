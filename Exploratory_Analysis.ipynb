{
 "cells": [
  {
   "cell_type": "code",
   "execution_count": 68,
   "metadata": {},
   "outputs": [],
   "source": [
    "import pandas as pd\n",
    "import numpy as np\n",
    "import matplotlib.pyplot as plt\n",
    "import seaborn as sns"
   ]
  },
  {
   "cell_type": "code",
   "execution_count": 69,
   "metadata": {},
   "outputs": [],
   "source": [
    "\n",
    "df = pd.read_csv(\"cleaned_data.csv\")"
   ]
  },
  {
   "cell_type": "code",
   "execution_count": 70,
   "metadata": {},
   "outputs": [
    {
     "data": {
      "text/html": [
       "<div>\n",
       "<style scoped>\n",
       "    .dataframe tbody tr th:only-of-type {\n",
       "        vertical-align: middle;\n",
       "    }\n",
       "\n",
       "    .dataframe tbody tr th {\n",
       "        vertical-align: top;\n",
       "    }\n",
       "\n",
       "    .dataframe thead th {\n",
       "        text-align: right;\n",
       "    }\n",
       "</style>\n",
       "<table border=\"1\" class=\"dataframe\">\n",
       "  <thead>\n",
       "    <tr style=\"text-align: right;\">\n",
       "      <th></th>\n",
       "      <th>role</th>\n",
       "      <th>seniority</th>\n",
       "      <th>avg_salary</th>\n",
       "      <th>state</th>\n",
       "      <th>company_rating</th>\n",
       "      <th>company_size</th>\n",
       "      <th>sector</th>\n",
       "      <th>company_age</th>\n",
       "      <th>city</th>\n",
       "    </tr>\n",
       "  </thead>\n",
       "  <tbody>\n",
       "    <tr>\n",
       "      <th>0</th>\n",
       "      <td>data scientist</td>\n",
       "      <td>2</td>\n",
       "      <td>72.0</td>\n",
       "      <td>NM</td>\n",
       "      <td>3.8</td>\n",
       "      <td>medium</td>\n",
       "      <td>Aerospace &amp; Defense</td>\n",
       "      <td>47</td>\n",
       "      <td>other</td>\n",
       "    </tr>\n",
       "    <tr>\n",
       "      <th>1</th>\n",
       "      <td>data scientist</td>\n",
       "      <td>2</td>\n",
       "      <td>87.5</td>\n",
       "      <td>MD</td>\n",
       "      <td>3.4</td>\n",
       "      <td>large</td>\n",
       "      <td>Health Care</td>\n",
       "      <td>36</td>\n",
       "      <td>other</td>\n",
       "    </tr>\n",
       "    <tr>\n",
       "      <th>2</th>\n",
       "      <td>data scientist</td>\n",
       "      <td>2</td>\n",
       "      <td>85.0</td>\n",
       "      <td>FL</td>\n",
       "      <td>4.8</td>\n",
       "      <td>medium</td>\n",
       "      <td>Business Services</td>\n",
       "      <td>10</td>\n",
       "      <td>other</td>\n",
       "    </tr>\n",
       "    <tr>\n",
       "      <th>3</th>\n",
       "      <td>data scientist</td>\n",
       "      <td>2</td>\n",
       "      <td>76.5</td>\n",
       "      <td>WA</td>\n",
       "      <td>3.8</td>\n",
       "      <td>large</td>\n",
       "      <td>Oil, Gas, Energy &amp; Utilities</td>\n",
       "      <td>55</td>\n",
       "      <td>Richland</td>\n",
       "    </tr>\n",
       "    <tr>\n",
       "      <th>4</th>\n",
       "      <td>data scientist</td>\n",
       "      <td>2</td>\n",
       "      <td>114.5</td>\n",
       "      <td>NY</td>\n",
       "      <td>2.9</td>\n",
       "      <td>small</td>\n",
       "      <td>Business Services</td>\n",
       "      <td>22</td>\n",
       "      <td>New York</td>\n",
       "    </tr>\n",
       "  </tbody>\n",
       "</table>\n",
       "</div>"
      ],
      "text/plain": [
       "             role  seniority  avg_salary state  company_rating company_size  \\\n",
       "0  data scientist          2        72.0    NM             3.8       medium   \n",
       "1  data scientist          2        87.5    MD             3.4        large   \n",
       "2  data scientist          2        85.0    FL             4.8       medium   \n",
       "3  data scientist          2        76.5    WA             3.8        large   \n",
       "4  data scientist          2       114.5    NY             2.9        small   \n",
       "\n",
       "                         sector  company_age      city  \n",
       "0           Aerospace & Defense           47     other  \n",
       "1                   Health Care           36     other  \n",
       "2             Business Services           10     other  \n",
       "3  Oil, Gas, Energy & Utilities           55  Richland  \n",
       "4             Business Services           22  New York  "
      ]
     },
     "execution_count": 70,
     "metadata": {},
     "output_type": "execute_result"
    }
   ],
   "source": [
    "\n",
    "df.head()"
   ]
  },
  {
   "cell_type": "code",
   "execution_count": null,
   "metadata": {},
   "outputs": [],
   "source": []
  },
  {
   "cell_type": "code",
   "execution_count": null,
   "metadata": {},
   "outputs": [],
   "source": []
  },
  {
   "cell_type": "code",
   "execution_count": 71,
   "metadata": {},
   "outputs": [
    {
     "data": {
      "text/plain": [
       "(array([  6., 108., 184., 182., 121.,  85.,  39.,   9.,   3.,   5.]),\n",
       " array([ 15.5 ,  39.35,  63.2 ,  87.05, 110.9 , 134.75, 158.6 , 182.45,\n",
       "        206.3 , 230.15, 254.  ]),\n",
       " <a list of 10 Patch objects>)"
      ]
     },
     "execution_count": 71,
     "metadata": {},
     "output_type": "execute_result"
    },
    {
     "data": {
      "image/png": "[encoded data removed]",
      "text/plain": [
       "<Figure size 432x288 with 1 Axes>"
      ]
     },
     "metadata": {
      "needs_background": "light"
     },
     "output_type": "display_data"
    }
   ],
   "source": [
    "plt.xlabel('Salary in Thousands')\n",
    "plt.ylabel('Frequency')\n",
    "plt.title('Salary Distribution')\n",
    "plt.hist(df['avg_salary'])"
   ]
  },
  {
   "cell_type": "code",
   "execution_count": 72,
   "metadata": {},
   "outputs": [
    {
     "data": {
      "text/plain": [
       "(array([ 11.,   0.,   0.,   0.,   3.,  18.,  93., 274., 248.,  95.]),\n",
       " array([-1. , -0.4,  0.2,  0.8,  1.4,  2. ,  2.6,  3.2,  3.8,  4.4,  5. ]),\n",
       " <a list of 10 Patch objects>)"
      ]
     },
     "execution_count": 72,
     "metadata": {},
     "output_type": "execute_result"
    },
    {
     "data": {
      "image/png": "[encoded data removed]",
      "text/plain": [
       "<Figure size 432x288 with 1 Axes>"
      ]
     },
     "metadata": {
      "needs_background": "light"
     },
     "output_type": "display_data"
    }
   ],
   "source": [
    "plt.xlabel('Company Rating')\n",
    "plt.ylabel('Frequency')\n",
    "plt.title('Company Rating Distribution')\n",
    "plt.hist(df['company_rating'])"
   ]
  },
  {
   "cell_type": "code",
   "execution_count": 73,
   "metadata": {},
   "outputs": [
    {
     "data": {
      "text/plain": [
       "(array([676.,  16.,   0.,   0.,   0.,   0.,   0.,   0.,   0.,  50.]),\n",
       " array([1.000e+00, 2.030e+02, 4.050e+02, 6.070e+02, 8.090e+02, 1.011e+03,\n",
       "        1.213e+03, 1.415e+03, 1.617e+03, 1.819e+03, 2.021e+03]),\n",
       " <a list of 10 Patch objects>)"
      ]
     },
     "execution_count": 73,
     "metadata": {},
     "output_type": "execute_result"
    },
    {
     "data": {
      "image/png": "[encoded data removed]",
      "text/plain": [
       "<Figure size 432x288 with 1 Axes>"
      ]
     },
     "metadata": {
      "needs_background": "light"
     },
     "output_type": "display_data"
    }
   ],
   "source": [
    "plt.xlabel('Company Age')\n",
    "plt.ylabel('Frequency')\n",
    "plt.title('Company Age Distribution')\n",
    "plt.hist(df['company_age'])"
   ]
  },
  {
   "cell_type": "code",
   "execution_count": 74,
   "metadata": {},
   "outputs": [
    {
     "data": {
      "text/plain": [
       "<matplotlib.axes._subplots.AxesSubplot at 0x12fd98036c8>"
      ]
     },
     "execution_count": 74,
     "metadata": {},
     "output_type": "execute_result"
    },
    {
     "data": {
      "image/png": "[encoded data removed]",
      "text/plain": [
       "<Figure size 432x288 with 1 Axes>"
      ]
     },
     "metadata": {
      "needs_background": "light"
     },
     "output_type": "display_data"
    }
   ],
   "source": [
    "sns.boxplot(x = 'avg_salary', y='role', data = df)"
   ]
  },
  {
   "cell_type": "code",
   "execution_count": 75,
   "metadata": {},
   "outputs": [
    {
     "data": {
      "text/plain": [
       "<matplotlib.axes._subplots.AxesSubplot at 0x12fd99368c8>"
      ]
     },
     "execution_count": 75,
     "metadata": {},
     "output_type": "execute_result"
    },
    {
     "data": {
      "image/png": "[encoded data removed]",
      "text/plain": [
       "<Figure size 432x288 with 1 Axes>"
      ]
     },
     "metadata": {
      "needs_background": "light"
     },
     "output_type": "display_data"
    }
   ],
   "source": [
    "sns.boxplot(x = 'avg_salary', y='company_size', data = df)"
   ]
  },
  {
   "cell_type": "code",
   "execution_count": 76,
   "metadata": {},
   "outputs": [
    {
     "data": {
      "text/plain": [
       "<matplotlib.legend.Legend at 0x12fd99b3d88>"
      ]
     },
     "execution_count": 76,
     "metadata": {},
     "output_type": "execute_result"
    },
    {
     "data": {
      "image/png": "[encoded data removed]",
      "text/plain": [
       "<Figure size 432x288 with 1 Axes>"
      ]
     },
     "metadata": {
      "needs_background": "light"
     },
     "output_type": "display_data"
    }
   ],
   "source": [
    "\n",
    "sns.boxplot(x = 'avg_salary', y='company_size', hue = 'seniority', data = df)\n",
    "plt.legend(loc='lower right')"
   ]
  },
  {
   "cell_type": "code",
   "execution_count": 77,
   "metadata": {},
   "outputs": [
    {
     "data": {
      "text/html": [
       "<div>\n",
       "<style scoped>\n",
       "    .dataframe tbody tr th:only-of-type {\n",
       "        vertical-align: middle;\n",
       "    }\n",
       "\n",
       "    .dataframe tbody tr th {\n",
       "        vertical-align: top;\n",
       "    }\n",
       "\n",
       "    .dataframe thead th {\n",
       "        text-align: right;\n",
       "    }\n",
       "</style>\n",
       "<table border=\"1\" class=\"dataframe\">\n",
       "  <thead>\n",
       "    <tr style=\"text-align: right;\">\n",
       "      <th></th>\n",
       "      <th>role</th>\n",
       "      <th>seniority</th>\n",
       "      <th>avg_salary</th>\n",
       "      <th>state</th>\n",
       "      <th>company_rating</th>\n",
       "      <th>company_size</th>\n",
       "      <th>sector</th>\n",
       "      <th>company_age</th>\n",
       "      <th>city</th>\n",
       "    </tr>\n",
       "  </thead>\n",
       "  <tbody>\n",
       "    <tr>\n",
       "      <th>0</th>\n",
       "      <td>data scientist</td>\n",
       "      <td>2</td>\n",
       "      <td>72.0</td>\n",
       "      <td>NM</td>\n",
       "      <td>3.8</td>\n",
       "      <td>3</td>\n",
       "      <td>Aerospace &amp; Defense</td>\n",
       "      <td>47</td>\n",
       "      <td>other</td>\n",
       "    </tr>\n",
       "    <tr>\n",
       "      <th>1</th>\n",
       "      <td>data scientist</td>\n",
       "      <td>2</td>\n",
       "      <td>87.5</td>\n",
       "      <td>MD</td>\n",
       "      <td>3.4</td>\n",
       "      <td>2</td>\n",
       "      <td>Health Care</td>\n",
       "      <td>36</td>\n",
       "      <td>other</td>\n",
       "    </tr>\n",
       "    <tr>\n",
       "      <th>2</th>\n",
       "      <td>data scientist</td>\n",
       "      <td>2</td>\n",
       "      <td>85.0</td>\n",
       "      <td>FL</td>\n",
       "      <td>4.8</td>\n",
       "      <td>3</td>\n",
       "      <td>Business Services</td>\n",
       "      <td>10</td>\n",
       "      <td>other</td>\n",
       "    </tr>\n",
       "    <tr>\n",
       "      <th>3</th>\n",
       "      <td>data scientist</td>\n",
       "      <td>2</td>\n",
       "      <td>76.5</td>\n",
       "      <td>WA</td>\n",
       "      <td>3.8</td>\n",
       "      <td>2</td>\n",
       "      <td>Oil, Gas, Energy &amp; Utilities</td>\n",
       "      <td>55</td>\n",
       "      <td>Richland</td>\n",
       "    </tr>\n",
       "    <tr>\n",
       "      <th>4</th>\n",
       "      <td>data scientist</td>\n",
       "      <td>2</td>\n",
       "      <td>114.5</td>\n",
       "      <td>NY</td>\n",
       "      <td>2.9</td>\n",
       "      <td>1</td>\n",
       "      <td>Business Services</td>\n",
       "      <td>22</td>\n",
       "      <td>New York</td>\n",
       "    </tr>\n",
       "  </tbody>\n",
       "</table>\n",
       "</div>"
      ],
      "text/plain": [
       "             role  seniority  avg_salary state  company_rating  company_size  \\\n",
       "0  data scientist          2        72.0    NM             3.8             3   \n",
       "1  data scientist          2        87.5    MD             3.4             2   \n",
       "2  data scientist          2        85.0    FL             4.8             3   \n",
       "3  data scientist          2        76.5    WA             3.8             2   \n",
       "4  data scientist          2       114.5    NY             2.9             1   \n",
       "\n",
       "                         sector  company_age      city  \n",
       "0           Aerospace & Defense           47     other  \n",
       "1                   Health Care           36     other  \n",
       "2             Business Services           10     other  \n",
       "3  Oil, Gas, Energy & Utilities           55  Richland  \n",
       "4             Business Services           22  New York  "
      ]
     },
     "execution_count": 77,
     "metadata": {},
     "output_type": "execute_result"
    }
   ],
   "source": [
    "def map_company_size(value):\n",
    "    if value == \"small\":\n",
    "        return 1\n",
    "    elif value == \"large\":\n",
    "        return 2\n",
    "    else:\n",
    "        return 3\n",
    "    \n",
    "df['company_size'] = df['company_size'].apply(map_company_size)\n",
    "df.head()"
   ]
  },
  {
   "cell_type": "code",
   "execution_count": 78,
   "metadata": {},
   "outputs": [
    {
     "data": {
      "text/plain": [
       "[Text(0.5, 0, 'seniority'),\n",
       " Text(1.5, 0, 'avg_salary'),\n",
       " Text(2.5, 0, 'company_rating'),\n",
       " Text(3.5, 0, 'company_size'),\n",
       " Text(4.5, 0, 'company_age')]"
      ]
     },
     "execution_count": 78,
     "metadata": {},
     "output_type": "execute_result"
    },
    {
     "data": {
      "image/png": "[encoded data removed]",
      "text/plain": [
       "<Figure size 432x288 with 2 Axes>"
      ]
     },
     "metadata": {
      "needs_background": "light"
     },
     "output_type": "display_data"
    }
   ],
   "source": [
    "df_numeric = df[['seniority', 'avg_salary', 'company_rating', 'company_size', 'company_age']]\n",
    "corr = df_numeric.corr()\n",
    "ax = sns.heatmap(\n",
    "    corr, \n",
    "    vmin=-1, vmax=1, center=0,\n",
    "    cmap=sns.diverging_palette(20, 220, n=200),\n",
    "    square=True\n",
    ")\n",
    "ax.set_xticklabels(\n",
    "    ax.get_xticklabels(),\n",
    "    rotation=45,\n",
    "    horizontalalignment='right'\n",
    ")"
   ]
  },
  {
   "cell_type": "code",
   "execution_count": 79,
   "metadata": {},
   "outputs": [
    {
     "data": {
      "text/html": [
       "<div>\n",
       "<style scoped>\n",
       "    .dataframe tbody tr th:only-of-type {\n",
       "        vertical-align: middle;\n",
       "    }\n",
       "\n",
       "    .dataframe tbody tr th {\n",
       "        vertical-align: top;\n",
       "    }\n",
       "\n",
       "    .dataframe thead th {\n",
       "        text-align: right;\n",
       "    }\n",
       "</style>\n",
       "<table border=\"1\" class=\"dataframe\">\n",
       "  <thead>\n",
       "    <tr style=\"text-align: right;\">\n",
       "      <th></th>\n",
       "      <th>seniority</th>\n",
       "      <th>avg_salary</th>\n",
       "      <th>company_rating</th>\n",
       "      <th>company_size</th>\n",
       "      <th>company_age</th>\n",
       "    </tr>\n",
       "  </thead>\n",
       "  <tbody>\n",
       "    <tr>\n",
       "      <th>seniority</th>\n",
       "      <td>1.000000</td>\n",
       "      <td>0.370003</td>\n",
       "      <td>-0.060384</td>\n",
       "      <td>-0.005474</td>\n",
       "      <td>-0.018790</td>\n",
       "    </tr>\n",
       "    <tr>\n",
       "      <th>avg_salary</th>\n",
       "      <td>0.370003</td>\n",
       "      <td>1.000000</td>\n",
       "      <td>0.012475</td>\n",
       "      <td>-0.118856</td>\n",
       "      <td>0.009609</td>\n",
       "    </tr>\n",
       "    <tr>\n",
       "      <th>company_rating</th>\n",
       "      <td>-0.060384</td>\n",
       "      <td>0.012475</td>\n",
       "      <td>1.000000</td>\n",
       "      <td>-0.180165</td>\n",
       "      <td>-0.332927</td>\n",
       "    </tr>\n",
       "    <tr>\n",
       "      <th>company_size</th>\n",
       "      <td>-0.005474</td>\n",
       "      <td>-0.118856</td>\n",
       "      <td>-0.180165</td>\n",
       "      <td>1.000000</td>\n",
       "      <td>0.008073</td>\n",
       "    </tr>\n",
       "    <tr>\n",
       "      <th>company_age</th>\n",
       "      <td>-0.018790</td>\n",
       "      <td>0.009609</td>\n",
       "      <td>-0.332927</td>\n",
       "      <td>0.008073</td>\n",
       "      <td>1.000000</td>\n",
       "    </tr>\n",
       "  </tbody>\n",
       "</table>\n",
       "</div>"
      ],
      "text/plain": [
       "                seniority  avg_salary  company_rating  company_size  \\\n",
       "seniority        1.000000    0.370003       -0.060384     -0.005474   \n",
       "avg_salary       0.370003    1.000000        0.012475     -0.118856   \n",
       "company_rating  -0.060384    0.012475        1.000000     -0.180165   \n",
       "company_size    -0.005474   -0.118856       -0.180165      1.000000   \n",
       "company_age     -0.018790    0.009609       -0.332927      0.008073   \n",
       "\n",
       "                company_age  \n",
       "seniority         -0.018790  \n",
       "avg_salary         0.009609  \n",
       "company_rating    -0.332927  \n",
       "company_size       0.008073  \n",
       "company_age        1.000000  "
      ]
     },
     "execution_count": 79,
     "metadata": {},
     "output_type": "execute_result"
    }
   ],
   "source": [
    "corr"
   ]
  },
  {
   "cell_type": "markdown",
   "metadata": {},
   "source": [
    "Larger companies and older companies seem to have lower company ratings (weak negative correlation). Seniority seems to have a moderate positive realtionship with salary as well which makes sense. Company rating seems to have a small positive correlation with salary as well, which would mean higher rated companies have a higher salary or vice versa. Rating also has a negative correlation with company size and age, so we can assume that older and larger companies have lower employee ratings."
   ]
  },
  {
   "cell_type": "code",
   "execution_count": 80,
   "metadata": {},
   "outputs": [],
   "source": [
    "#salary_by_role = pd.pivot_table(df, index = 'role', values = 'avg_salary')\n",
    "#salary_by_role\n",
    "\n",
    "sns.set_palette(\"husl\", 8)\n",
    "\n",
    "salary_by_role = df.groupby(['role'])['avg_salary'].mean()"
   ]
  },
  {
   "cell_type": "code",
   "execution_count": 81,
   "metadata": {},
   "outputs": [
    {
     "data": {
      "text/plain": [
       "Text(0.5, 1.0, 'Salary by Role')"
      ]
     },
     "execution_count": 81,
     "metadata": {},
     "output_type": "execute_result"
    },
    {
     "data": {
      "image/png": "[encoded data removed]",
      "text/plain": [
       "<Figure size 432x288 with 1 Axes>"
      ]
     },
     "metadata": {
      "needs_background": "light"
     },
     "output_type": "display_data"
    }
   ],
   "source": [
    "ax = sns.barplot(x = salary_by_role.index, y = salary_by_role.values)\n",
    "ax.set_xticklabels(\n",
    "    ax.get_xticklabels(),\n",
    "    rotation=45,\n",
    "    horizontalalignment='right'\n",
    ")\n",
    "ax.set_ylabel('Average Salary')\n",
    "ax.set_title('Salary by Role')"
   ]
  },
  {
   "cell_type": "code",
   "execution_count": 82,
   "metadata": {},
   "outputs": [
    {
     "data": {
      "text/plain": [
       "50"
      ]
     },
     "execution_count": 82,
     "metadata": {},
     "output_type": "execute_result"
    }
   ],
   "source": [
    "# Regions are based on the US census regions\n",
    "\n",
    "# break the states into regions and group by role and region to see how the salary differs\n",
    "northeast = ['ME', 'NY', 'PA', 'VT', 'NH', 'CT', 'MA', 'RI', 'NJ']\n",
    "# check DC\n",
    "south = ['MD', 'DE', 'VA', 'WV', 'NC', 'KY', 'SC', 'TN', 'GA', 'AL', 'MS', 'FL', 'AR', 'LA', 'OK', 'TX', 'DC']\n",
    "midwest = ['ND', 'SD', 'NE', 'KS', 'MO', 'IA', 'MN', 'WI', 'IL', 'IN', 'OH', 'MI']\n",
    "west = ['WA', 'ID', 'MT', 'WY', 'CO', 'UT', 'NM', 'AZ', 'NV', 'CA', 'OR', 'Los Angeles']\n",
    "\n",
    "len(south) + len(northeast) +len(midwest) + len(west)"
   ]
  },
  {
   "cell_type": "code",
   "execution_count": 83,
   "metadata": {},
   "outputs": [],
   "source": [
    "def find_region(state_abbrev):\n",
    "    if state_abbrev in northeast:\n",
    "        return 'Northeast'\n",
    "    elif state_abbrev in south:\n",
    "        return 'South'\n",
    "    elif state_abbrev in midwest:\n",
    "        return 'Midwest'\n",
    "    elif state_abbrev in west:\n",
    "        return 'West'\n",
    "    else:\n",
    "        return 'other'\n",
    "    \n",
    "df['region'] = df['state'].apply(find_region)\n",
    "region_freq = df.region.value_counts()\n"
   ]
  },
  {
   "cell_type": "code",
   "execution_count": 84,
   "metadata": {},
   "outputs": [
    {
     "data": {
      "text/plain": [
       "Text(0.5, 1.0, 'Breakdown of US Region Jobs')"
      ]
     },
     "execution_count": 84,
     "metadata": {},
     "output_type": "execute_result"
    },
    {
     "data": {
      "image/png": "[encoded data removed]",
      "text/plain": [
       "<Figure size 432x288 with 1 Axes>"
      ]
     },
     "metadata": {
      "needs_background": "light"
     },
     "output_type": "display_data"
    }
   ],
   "source": [
    "ax = region_freq.plot(kind='bar', color = 'b')\n",
    "ax.set_ylabel('Number of Job Listings')\n",
    "ax.set_xlabel('Region of the US')\n",
    "ax.set_title('Breakdown of US Region Jobs')"
   ]
  },
  {
   "cell_type": "code",
   "execution_count": 85,
   "metadata": {},
   "outputs": [
    {
     "data": {
      "text/plain": [
       "role                       region   \n",
       "data analyst               Midwest       59.722222\n",
       "                           Northeast     79.481132\n",
       "                           South         66.640625\n",
       "                           West          75.575000\n",
       "data engineer              Midwest      101.906250\n",
       "                           Northeast    102.552632\n",
       "                           South         99.085106\n",
       "                           West         116.405405\n",
       "data scientist             Midwest      112.191176\n",
       "                           Northeast    113.390244\n",
       "                           South        107.153846\n",
       "                           West         129.826531\n",
       "director                   Midwest      221.750000\n",
       "                           Northeast    122.571429\n",
       "machine learning engineer  Midwest      105.400000\n",
       "                           Northeast    125.000000\n",
       "                           South         87.000000\n",
       "                           West         164.500000\n",
       "manager                    Midwest       71.833333\n",
       "                           Northeast     86.062500\n",
       "                           West          80.611111\n",
       "other                      Midwest       61.294118\n",
       "                           Northeast    100.276596\n",
       "                           South         75.539474\n",
       "                           West         110.815789\n",
       "product analyst            South         78.000000\n",
       "                           West          68.500000\n",
       "research scientist         Midwest       75.250000\n",
       "                           Northeast    118.230769\n",
       "                           South         68.500000\n",
       "                           West          87.500000\n",
       "software engineer          South         94.875000\n",
       "Name: avg_salary, dtype: float64"
      ]
     },
     "execution_count": 85,
     "metadata": {},
     "output_type": "execute_result"
    }
   ],
   "source": [
    "df.groupby(['role', 'region'])['avg_salary'].mean()"
   ]
  },
  {
   "cell_type": "code",
   "execution_count": 86,
   "metadata": {},
   "outputs": [
    {
     "data": {
      "text/html": [
       "<div>\n",
       "<style scoped>\n",
       "    .dataframe tbody tr th:only-of-type {\n",
       "        vertical-align: middle;\n",
       "    }\n",
       "\n",
       "    .dataframe tbody tr th {\n",
       "        vertical-align: top;\n",
       "    }\n",
       "\n",
       "    .dataframe thead th {\n",
       "        text-align: right;\n",
       "    }\n",
       "</style>\n",
       "<table border=\"1\" class=\"dataframe\">\n",
       "  <thead>\n",
       "    <tr style=\"text-align: right;\">\n",
       "      <th></th>\n",
       "      <th>region</th>\n",
       "      <th>avg_salary</th>\n",
       "    </tr>\n",
       "  </thead>\n",
       "  <tbody>\n",
       "    <tr>\n",
       "      <th>0</th>\n",
       "      <td>Midwest</td>\n",
       "      <td>96.466019</td>\n",
       "    </tr>\n",
       "    <tr>\n",
       "      <th>1</th>\n",
       "      <td>Northeast</td>\n",
       "      <td>101.755411</td>\n",
       "    </tr>\n",
       "    <tr>\n",
       "      <th>2</th>\n",
       "      <td>South</td>\n",
       "      <td>90.635204</td>\n",
       "    </tr>\n",
       "    <tr>\n",
       "      <th>3</th>\n",
       "      <td>West</td>\n",
       "      <td>113.658019</td>\n",
       "    </tr>\n",
       "  </tbody>\n",
       "</table>\n",
       "</div>"
      ],
      "text/plain": [
       "      region  avg_salary\n",
       "0    Midwest   96.466019\n",
       "1  Northeast  101.755411\n",
       "2      South   90.635204\n",
       "3       West  113.658019"
      ]
     },
     "execution_count": 86,
     "metadata": {},
     "output_type": "execute_result"
    }
   ],
   "source": [
    "salary_by_region = df.groupby(['region'])['avg_salary'].mean().reset_index()\n",
    "salary_by_region"
   ]
  },
  {
   "cell_type": "code",
   "execution_count": 87,
   "metadata": {},
   "outputs": [
    {
     "data": {
      "text/plain": [
       "Text(0.5, 1.0, 'Salaries By Region of US')"
      ]
     },
     "execution_count": 87,
     "metadata": {},
     "output_type": "execute_result"
    },
    {
     "data": {
      "image/png": "[encoded data removed]",
      "text/plain": [
       "<Figure size 432x288 with 1 Axes>"
      ]
     },
     "metadata": {
      "needs_background": "light"
     },
     "output_type": "display_data"
    }
   ],
   "source": [
    "ax = sns.barplot(x = 'region', y= 'avg_salary', data = salary_by_region)\n",
    "ax.set_title('Salaries By Region of US')"
   ]
  },
  {
   "cell_type": "code",
   "execution_count": 88,
   "metadata": {},
   "outputs": [
    {
     "data": {
      "text/html": [
       "<div>\n",
       "<style scoped>\n",
       "    .dataframe tbody tr th:only-of-type {\n",
       "        vertical-align: middle;\n",
       "    }\n",
       "\n",
       "    .dataframe tbody tr th {\n",
       "        vertical-align: top;\n",
       "    }\n",
       "\n",
       "    .dataframe thead th {\n",
       "        text-align: right;\n",
       "    }\n",
       "</style>\n",
       "<table border=\"1\" class=\"dataframe\">\n",
       "  <thead>\n",
       "    <tr style=\"text-align: right;\">\n",
       "      <th></th>\n",
       "      <th>role</th>\n",
       "      <th>seniority</th>\n",
       "      <th>avg_salary</th>\n",
       "      <th>state</th>\n",
       "      <th>company_rating</th>\n",
       "      <th>company_size</th>\n",
       "      <th>sector</th>\n",
       "      <th>company_age</th>\n",
       "      <th>city</th>\n",
       "      <th>region</th>\n",
       "    </tr>\n",
       "  </thead>\n",
       "  <tbody>\n",
       "    <tr>\n",
       "      <th>0</th>\n",
       "      <td>data scientist</td>\n",
       "      <td>2</td>\n",
       "      <td>72.0</td>\n",
       "      <td>NM</td>\n",
       "      <td>3.8</td>\n",
       "      <td>3</td>\n",
       "      <td>Aerospace &amp; Defense</td>\n",
       "      <td>47</td>\n",
       "      <td>other</td>\n",
       "      <td>West</td>\n",
       "    </tr>\n",
       "    <tr>\n",
       "      <th>1</th>\n",
       "      <td>data scientist</td>\n",
       "      <td>2</td>\n",
       "      <td>87.5</td>\n",
       "      <td>MD</td>\n",
       "      <td>3.4</td>\n",
       "      <td>2</td>\n",
       "      <td>Health Care</td>\n",
       "      <td>36</td>\n",
       "      <td>other</td>\n",
       "      <td>South</td>\n",
       "    </tr>\n",
       "    <tr>\n",
       "      <th>2</th>\n",
       "      <td>data scientist</td>\n",
       "      <td>2</td>\n",
       "      <td>85.0</td>\n",
       "      <td>FL</td>\n",
       "      <td>4.8</td>\n",
       "      <td>3</td>\n",
       "      <td>Business Services</td>\n",
       "      <td>10</td>\n",
       "      <td>other</td>\n",
       "      <td>South</td>\n",
       "    </tr>\n",
       "    <tr>\n",
       "      <th>3</th>\n",
       "      <td>data scientist</td>\n",
       "      <td>2</td>\n",
       "      <td>76.5</td>\n",
       "      <td>WA</td>\n",
       "      <td>3.8</td>\n",
       "      <td>2</td>\n",
       "      <td>Oil, Gas, Energy &amp; Utilities</td>\n",
       "      <td>55</td>\n",
       "      <td>Richland</td>\n",
       "      <td>West</td>\n",
       "    </tr>\n",
       "    <tr>\n",
       "      <th>4</th>\n",
       "      <td>data scientist</td>\n",
       "      <td>2</td>\n",
       "      <td>114.5</td>\n",
       "      <td>NY</td>\n",
       "      <td>2.9</td>\n",
       "      <td>1</td>\n",
       "      <td>Business Services</td>\n",
       "      <td>22</td>\n",
       "      <td>New York</td>\n",
       "      <td>Northeast</td>\n",
       "    </tr>\n",
       "  </tbody>\n",
       "</table>\n",
       "</div>"
      ],
      "text/plain": [
       "             role  seniority  avg_salary state  company_rating  company_size  \\\n",
       "0  data scientist          2        72.0    NM             3.8             3   \n",
       "1  data scientist          2        87.5    MD             3.4             2   \n",
       "2  data scientist          2        85.0    FL             4.8             3   \n",
       "3  data scientist          2        76.5    WA             3.8             2   \n",
       "4  data scientist          2       114.5    NY             2.9             1   \n",
       "\n",
       "                         sector  company_age      city     region  \n",
       "0           Aerospace & Defense           47     other       West  \n",
       "1                   Health Care           36     other      South  \n",
       "2             Business Services           10     other      South  \n",
       "3  Oil, Gas, Energy & Utilities           55  Richland       West  \n",
       "4             Business Services           22  New York  Northeast  "
      ]
     },
     "execution_count": 88,
     "metadata": {},
     "output_type": "execute_result"
    }
   ],
   "source": [
    "df.head()"
   ]
  },
  {
   "cell_type": "code",
   "execution_count": 89,
   "metadata": {},
   "outputs": [
    {
     "data": {
      "image/png": "[encoded data removed]",
      "text/plain": [
       "<Figure size 432x288 with 1 Axes>"
      ]
     },
     "metadata": {
      "needs_background": "light"
     },
     "output_type": "display_data"
    }
   ],
   "source": [
    "# salary broken down by seniority in each region\n",
    "salary_region_jr = df[df['seniority']==1].groupby(['region'])['avg_salary'].mean().reset_index()\n",
    "salary_region_sr = df[df['seniority']==2].groupby(['region'])['avg_salary'].mean().reset_index()\n",
    "salary_region_exec = df[df['seniority']==3].groupby(['region'])['avg_salary'].mean().reset_index()\n",
    "\n",
    "fig = plt.figure()\n",
    "ax = fig.add_subplot(111)\n",
    "width = 0.27\n",
    "ind = np.arange(4)\n",
    "\n",
    "rects1 = ax.bar(ind, salary_region_jr.avg_salary, width, color='r')\n",
    "\n",
    "rects2 = ax.bar(ind+width, salary_region_sr.avg_salary, width, color='g')\n",
    "\n",
    "rects3 = ax.bar(ind+width*2, salary_region_exec.avg_salary, width, color='b')\n",
    "\n",
    "ax.set_ylabel('Average Salary')\n",
    "ax.set_xlabel('region')\n",
    "ax.set_title('Salaries for Seniority Levels by Region')\n",
    "ax.set_xticks(ind+width)\n",
    "ax.set_xticklabels( ('Midwest', 'Northeast', 'South', 'West') )\n",
    "ax.legend( (rects1[1], rects2[1], rects3[1]), ('Junior', 'Senior', 'Executive'), loc = 'upper center' )\n",
    "\n",
    "def autolabel(rects):\n",
    "    for rect in rects:\n",
    "        h = rect.get_height()\n",
    "        ax.text(rect.get_x()+rect.get_width()/2., 1.0*h, '%d'%int(h),\n",
    "                ha='center', va='bottom')\n",
    "\n",
    "autolabel(rects1)\n",
    "autolabel(rects2)\n",
    "autolabel(rects3)\n",
    "\n",
    "plt.show()\n"
   ]
  },
  {
   "cell_type": "code",
   "execution_count": 90,
   "metadata": {},
   "outputs": [
    {
     "data": {
      "text/html": [
       "<div>\n",
       "<style scoped>\n",
       "    .dataframe tbody tr th:only-of-type {\n",
       "        vertical-align: middle;\n",
       "    }\n",
       "\n",
       "    .dataframe tbody tr th {\n",
       "        vertical-align: top;\n",
       "    }\n",
       "\n",
       "    .dataframe thead th {\n",
       "        text-align: right;\n",
       "    }\n",
       "</style>\n",
       "<table border=\"1\" class=\"dataframe\">\n",
       "  <thead>\n",
       "    <tr style=\"text-align: right;\">\n",
       "      <th></th>\n",
       "      <th>region</th>\n",
       "      <th>avg_salary</th>\n",
       "    </tr>\n",
       "  </thead>\n",
       "  <tbody>\n",
       "    <tr>\n",
       "      <th>0</th>\n",
       "      <td>Midwest</td>\n",
       "      <td>45.500000</td>\n",
       "    </tr>\n",
       "    <tr>\n",
       "      <th>1</th>\n",
       "      <td>Northeast</td>\n",
       "      <td>63.272727</td>\n",
       "    </tr>\n",
       "    <tr>\n",
       "      <th>2</th>\n",
       "      <td>South</td>\n",
       "      <td>73.800000</td>\n",
       "    </tr>\n",
       "    <tr>\n",
       "      <th>3</th>\n",
       "      <td>West</td>\n",
       "      <td>70.916667</td>\n",
       "    </tr>\n",
       "  </tbody>\n",
       "</table>\n",
       "</div>"
      ],
      "text/plain": [
       "      region  avg_salary\n",
       "0    Midwest   45.500000\n",
       "1  Northeast   63.272727\n",
       "2      South   73.800000\n",
       "3       West   70.916667"
      ]
     },
     "execution_count": 90,
     "metadata": {},
     "output_type": "execute_result"
    }
   ],
   "source": [
    "df[df['seniority']==1].groupby(['region'])['avg_salary'].mean().reset_index()"
   ]
  },
  {
   "cell_type": "code",
   "execution_count": 91,
   "metadata": {},
   "outputs": [
    {
     "data": {
      "text/plain": [
       "Text(0.5, 1.0, 'Company Size By Region of US')"
      ]
     },
     "execution_count": 91,
     "metadata": {},
     "output_type": "execute_result"
    },
    {
     "data": {
      "image/png": "[encoded data removed]",
      "text/plain": [
       "<Figure size 432x288 with 1 Axes>"
      ]
     },
     "metadata": {
      "needs_background": "light"
     },
     "output_type": "display_data"
    }
   ],
   "source": [
    "# average company size in each region\n",
    "size_by_region = df.groupby(['region'])['company_size'].mean().reset_index()\n",
    "ax = sns.barplot(x = 'region', y= 'company_size', data = size_by_region)\n",
    "ax.set_title('Company Size By Region of US')"
   ]
  },
  {
   "cell_type": "code",
   "execution_count": 92,
   "metadata": {},
   "outputs": [
    {
     "data": {
      "text/plain": [
       "Text(0.5, 1.0, 'Seniority By Region of US')"
      ]
     },
     "execution_count": 92,
     "metadata": {},
     "output_type": "execute_result"
    },
    {
     "data": {
      "image/png": "[encoded data removed]",
      "text/plain": [
       "<Figure size 432x288 with 1 Axes>"
      ]
     },
     "metadata": {
      "needs_background": "light"
     },
     "output_type": "display_data"
    }
   ],
   "source": [
    "# number of each type of seniority in each region (where are the entry level roles?)\n",
    "seniority_by_region = df.groupby(['region'])['seniority'].mean().reset_index()\n",
    "\n",
    "ax = sns.barplot(x = 'region', y= 'seniority', data = seniority_by_region)\n",
    "ax.set_title('Seniority By Region of US')"
   ]
  },
  {
   "cell_type": "markdown",
   "metadata": {},
   "source": [
    "This visual doesn't tell us much since so much of the data is in the seniority 2 category, keeping the averages close to 2."
   ]
  },
  {
   "cell_type": "code",
   "execution_count": 93,
   "metadata": {},
   "outputs": [
    {
     "data": {
      "text/plain": [
       "2    654\n",
       "3     63\n",
       "1     25\n",
       "Name: seniority, dtype: int64"
      ]
     },
     "execution_count": 93,
     "metadata": {},
     "output_type": "execute_result"
    }
   ],
   "source": [
    "df.seniority.value_counts()"
   ]
  },
  {
   "cell_type": "code",
   "execution_count": 94,
   "metadata": {},
   "outputs": [
    {
     "data": {
      "text/plain": [
       "Text(0.5, 1.0, 'Seniority By Region of US (Excluding Category 2)')"
      ]
     },
     "execution_count": 94,
     "metadata": {},
     "output_type": "execute_result"
    },
    {
     "data": {
      "image/png": "[encoded data removed]",
      "text/plain": [
       "<Figure size 432x288 with 1 Axes>"
      ]
     },
     "metadata": {
      "needs_background": "light"
     },
     "output_type": "display_data"
    }
   ],
   "source": [
    "seniority_by_region_no_2 = df[df['seniority']!=2].groupby(['region'])['seniority'].mean().reset_index()\n",
    "ax = sns.barplot(x = 'region', y= 'seniority', data = seniority_by_region_no_2)\n",
    "ax.set_title('Seniority By Region of US (Excluding Category 2)')"
   ]
  },
  {
   "cell_type": "code",
   "execution_count": 95,
   "metadata": {},
   "outputs": [
    {
     "data": {
      "text/plain": [
       "{'Austin': 120.4375,\n",
       " 'Bay Area': 149.58928571428572,\n",
       " 'Boston': 109.08450704225352,\n",
       " 'Charlotte': 108.25,\n",
       " 'Chicago': 126.765625,\n",
       " 'DC': 110.18181818181819,\n",
       " 'Denver': 97.9,\n",
       " 'New York': 103.13636363636364,\n",
       " 'San Francisco': 134.42105263157896,\n",
       " 'Seattle': 90.7}"
      ]
     },
     "execution_count": 95,
     "metadata": {},
     "output_type": "execute_result"
    }
   ],
   "source": [
    "# adjust for cost of living in most common cities and compute best take home salary location for data scientists\n",
    "\n",
    "# look at avg salary in the 10 of the biggest cities for Data Scientist in the US\n",
    "salary_by_top_city = df[df['city'].isin(['Austin', 'Boston', 'Chicago', 'Denver', 'New York', 'San Francisco', 'Seattle', 'Bay Area', 'Charlotte', 'DC'])].groupby(['city'])['avg_salary'].mean().reset_index()\n",
    "salary_by_top_city = salary_by_top_city.set_index('city')['avg_salary'].to_dict()\n",
    "salary_by_top_city"
   ]
  },
  {
   "cell_type": "code",
   "execution_count": 96,
   "metadata": {},
   "outputs": [
    {
     "data": {
      "text/plain": [
       "{'Austin': 67.66151685393258,\n",
       " 'Bay Area': 62.07024303497332,\n",
       " 'Boston': 49.35950544898349,\n",
       " 'Charlotte': 61.857142857142854,\n",
       " 'Chicago': 61.536711165048544,\n",
       " 'DC': 47.49216300940439,\n",
       " 'Denver': 47.990196078431374,\n",
       " 'New York': 38.1986531986532,\n",
       " 'San Francisco': 52.30391152979726,\n",
       " 'Seattle': 42.58215962441315}"
      ]
     },
     "execution_count": 96,
     "metadata": {},
     "output_type": "execute_result"
    }
   ],
   "source": [
    "# adjust the salary in each location by the cost of living index\n",
    "# cost of living index used at https://www.expatistan.com/cost-of-living/index/north-america\n",
    "# Bay area was the average of San Jose and Mountainview\n",
    "\n",
    "COL_index = {'Austin': 178, 'Bay Area': 241, 'Boston': 221, 'Charlotte': 175, 'Chicago': 206,\n",
    "             'DC': 232, 'Denver': 204, 'New York': 270, 'San Francisco': 257, 'Seattle': 213}\n",
    "for key in COL_index.keys():\n",
    "    salary_by_top_city[key] = salary_by_top_city[key]/(COL_index[key]/100)\n",
    "    \n",
    "salary_by_top_city"
   ]
  },
  {
   "cell_type": "code",
   "execution_count": 97,
   "metadata": {},
   "outputs": [],
   "source": [
    "salary_by_top_city = pd.DataFrame(salary_by_top_city.items(), columns=['City', 'Salary'])\n",
    "\n",
    "salary_by_top_city.sort_values(by = ['Salary'], inplace = True, ascending = False)\n"
   ]
  },
  {
   "cell_type": "code",
   "execution_count": 98,
   "metadata": {},
   "outputs": [
    {
     "data": {
      "text/plain": [
       "Text(0.5, 1.0, 'Cost of Living Adjusted Average Salary in Top US Cities')"
      ]
     },
     "execution_count": 98,
     "metadata": {},
     "output_type": "execute_result"
    },
    {
     "data": {
      "image/png": "[encoded data removed]",
      "text/plain": [
       "<Figure size 432x288 with 1 Axes>"
      ]
     },
     "metadata": {
      "needs_background": "light"
     },
     "output_type": "display_data"
    }
   ],
   "source": [
    "ax = sns.barplot(x = 'City', y = 'Salary', data = salary_by_top_city, palette = sns.color_palette(\"husl\", 8))\n",
    "ax.set_xticklabels(\n",
    "    ax.get_xticklabels(),\n",
    "    rotation=45,\n",
    "    horizontalalignment='right'\n",
    ")\n",
    "ax.set_title('Cost of Living Adjusted Average Salary in Top US Cities')"
   ]
  },
  {
   "cell_type": "code",
   "execution_count": null,
   "metadata": {},
   "outputs": [],
   "source": []
  }
 ],
 "metadata": {
  "kernelspec": {
   "display_name": "Python 3",
   "language": "python",
   "name": "python3"
  },
  "language_info": {
   "codemirror_mode": {
    "name": "ipython",
    "version": 3
   },
   "file_extension": ".py",
   "mimetype": "text/x-python",
   "name": "python",
   "nbconvert_exporter": "python",
   "pygments_lexer": "ipython3",
   "version": "3.7.6"
  }
 },
 "nbformat": 4,
 "nbformat_minor": 4
}
