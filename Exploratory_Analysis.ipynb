{
 "cells": [
  {
   "cell_type": "code",
   "execution_count": 139,
   "metadata": {},
   "outputs": [],
   "source": [
    "import pandas as pd\n",
    "import numpy as np\n",
    "import matplotlib.pyplot as plt\n",
    "import seaborn as sns"
   ]
  },
  {
   "cell_type": "code",
   "execution_count": 140,
   "metadata": {},
   "outputs": [],
   "source": [
    "df = pd.read_csv(\"cleaned_data.csv\")"
   ]
  },
  {
   "cell_type": "code",
   "execution_count": 141,
   "metadata": {},
   "outputs": [
    {
     "data": {
      "text/html": [
       "<div>\n",
       "<style scoped>\n",
       "    .dataframe tbody tr th:only-of-type {\n",
       "        vertical-align: middle;\n",
       "    }\n",
       "\n",
       "    .dataframe tbody tr th {\n",
       "        vertical-align: top;\n",
       "    }\n",
       "\n",
       "    .dataframe thead th {\n",
       "        text-align: right;\n",
       "    }\n",
       "</style>\n",
       "<table border=\"1\" class=\"dataframe\">\n",
       "  <thead>\n",
       "    <tr style=\"text-align: right;\">\n",
       "      <th></th>\n",
       "      <th>role</th>\n",
       "      <th>seniority</th>\n",
       "      <th>avg_salary</th>\n",
       "      <th>state</th>\n",
       "      <th>company_rating</th>\n",
       "      <th>company_size</th>\n",
       "      <th>sector</th>\n",
       "      <th>company_age</th>\n",
       "    </tr>\n",
       "  </thead>\n",
       "  <tbody>\n",
       "    <tr>\n",
       "      <th>0</th>\n",
       "      <td>data scientist</td>\n",
       "      <td>2</td>\n",
       "      <td>72.0</td>\n",
       "      <td>NM</td>\n",
       "      <td>3.8</td>\n",
       "      <td>medium</td>\n",
       "      <td>Aerospace &amp; Defense</td>\n",
       "      <td>47.0</td>\n",
       "    </tr>\n",
       "    <tr>\n",
       "      <th>1</th>\n",
       "      <td>data scientist</td>\n",
       "      <td>2</td>\n",
       "      <td>87.5</td>\n",
       "      <td>MD</td>\n",
       "      <td>3.4</td>\n",
       "      <td>large</td>\n",
       "      <td>Health Care</td>\n",
       "      <td>36.0</td>\n",
       "    </tr>\n",
       "    <tr>\n",
       "      <th>2</th>\n",
       "      <td>data scientist</td>\n",
       "      <td>2</td>\n",
       "      <td>85.0</td>\n",
       "      <td>FL</td>\n",
       "      <td>4.8</td>\n",
       "      <td>medium</td>\n",
       "      <td>Business Services</td>\n",
       "      <td>10.0</td>\n",
       "    </tr>\n",
       "    <tr>\n",
       "      <th>3</th>\n",
       "      <td>data scientist</td>\n",
       "      <td>2</td>\n",
       "      <td>76.5</td>\n",
       "      <td>WA</td>\n",
       "      <td>3.8</td>\n",
       "      <td>medium</td>\n",
       "      <td>Oil, Gas, Energy &amp; Utilities</td>\n",
       "      <td>55.0</td>\n",
       "    </tr>\n",
       "    <tr>\n",
       "      <th>4</th>\n",
       "      <td>data scientist</td>\n",
       "      <td>2</td>\n",
       "      <td>114.5</td>\n",
       "      <td>NY</td>\n",
       "      <td>2.9</td>\n",
       "      <td>small</td>\n",
       "      <td>Business Services</td>\n",
       "      <td>22.0</td>\n",
       "    </tr>\n",
       "  </tbody>\n",
       "</table>\n",
       "</div>"
      ],
      "text/plain": [
       "             role  seniority  avg_salary state  company_rating company_size  \\\n",
       "0  data scientist          2        72.0    NM             3.8       medium   \n",
       "1  data scientist          2        87.5    MD             3.4        large   \n",
       "2  data scientist          2        85.0    FL             4.8       medium   \n",
       "3  data scientist          2        76.5    WA             3.8       medium   \n",
       "4  data scientist          2       114.5    NY             2.9        small   \n",
       "\n",
       "                         sector  company_age  \n",
       "0           Aerospace & Defense         47.0  \n",
       "1                   Health Care         36.0  \n",
       "2             Business Services         10.0  \n",
       "3  Oil, Gas, Energy & Utilities         55.0  \n",
       "4             Business Services         22.0  "
      ]
     },
     "execution_count": 141,
     "metadata": {},
     "output_type": "execute_result"
    }
   ],
   "source": [
    "\n",
    "df.head()"
   ]
  },
  {
   "cell_type": "code",
   "execution_count": 142,
   "metadata": {},
   "outputs": [
    {
     "data": {
      "text/plain": [
       "role               0\n",
       "seniority          0\n",
       "avg_salary         0\n",
       "state              0\n",
       "company_rating    11\n",
       "company_size      10\n",
       "sector             0\n",
       "company_age        0\n",
       "dtype: int64"
      ]
     },
     "execution_count": 142,
     "metadata": {},
     "output_type": "execute_result"
    }
   ],
   "source": [
    "df = df.replace(to_replace = -1, value = np.nan)\n",
    "df.isnull().sum()"
   ]
  },
  {
   "cell_type": "code",
   "execution_count": 143,
   "metadata": {},
   "outputs": [],
   "source": [
    "mean_rating = df['company_rating'].mean()\n",
    "df['company_rating'] = df['company_rating'].replace(to_replace = np.nan, value = mean_rating)\n",
    "mode_size = df['company_size'].mode()\n",
    "df['company_size'] = df['company_size'].replace(to_replace = np.nan, value = mode_size)"
   ]
  },
  {
   "cell_type": "code",
   "execution_count": 144,
   "metadata": {},
   "outputs": [
    {
     "data": {
      "text/plain": [
       "(array([  6., 108., 184., 182., 121.,  85.,  39.,   9.,   3.,   5.]),\n",
       " array([ 15.5 ,  39.35,  63.2 ,  87.05, 110.9 , 134.75, 158.6 , 182.45,\n",
       "        206.3 , 230.15, 254.  ]),\n",
       " <a list of 10 Patch objects>)"
      ]
     },
     "execution_count": 144,
     "metadata": {},
     "output_type": "execute_result"
    },
    {
     "data": {
      "image/png": "[encoded data removed]",
      "text/plain": [
       "<Figure size 432x288 with 1 Axes>"
      ]
     },
     "metadata": {
      "needs_background": "light"
     },
     "output_type": "display_data"
    }
   ],
   "source": [
    "plt.xlabel('Salary in Thousands')\n",
    "plt.ylabel('Frequency')\n",
    "plt.title('Salary Distribution')\n",
    "plt.hist(df['avg_salary'])"
   ]
  },
  {
   "cell_type": "code",
   "execution_count": 145,
   "metadata": {},
   "outputs": [
    {
     "data": {
      "text/plain": [
       "(array([ 10.,  11.,  33.,  60., 118., 167., 171.,  77.,  50.,  45.]),\n",
       " array([1.9 , 2.21, 2.52, 2.83, 3.14, 3.45, 3.76, 4.07, 4.38, 4.69, 5.  ]),\n",
       " <a list of 10 Patch objects>)"
      ]
     },
     "execution_count": 145,
     "metadata": {},
     "output_type": "execute_result"
    },
    {
     "data": {
      "image/png": "[encoded data removed]",
      "text/plain": [
       "<Figure size 432x288 with 1 Axes>"
      ]
     },
     "metadata": {
      "needs_background": "light"
     },
     "output_type": "display_data"
    }
   ],
   "source": [
    "plt.xlabel('Company Rating')\n",
    "plt.ylabel('Frequency')\n",
    "plt.title('Company Rating Distribution')\n",
    "plt.hist(df['company_rating'])"
   ]
  },
  {
   "cell_type": "code",
   "execution_count": 146,
   "metadata": {},
   "outputs": [
    {
     "data": {
      "text/plain": [
       "(array([352., 195.,  64.,  47.,   8.,  27.,  33.,   1.,  14.,   1.]),\n",
       " array([  1. ,  28.5,  56. ,  83.5, 111. , 138.5, 166. , 193.5, 221. ,\n",
       "        248.5, 276. ]),\n",
       " <a list of 10 Patch objects>)"
      ]
     },
     "execution_count": 146,
     "metadata": {},
     "output_type": "execute_result"
    },
    {
     "data": {
      "image/png": "[encoded data removed]",
      "text/plain": [
       "<Figure size 432x288 with 1 Axes>"
      ]
     },
     "metadata": {
      "needs_background": "light"
     },
     "output_type": "display_data"
    }
   ],
   "source": [
    "plt.xlabel('Company Age')\n",
    "plt.ylabel('Frequency')\n",
    "plt.title('Company Age Distribution')\n",
    "plt.hist(df['company_age'])"
   ]
  },
  {
   "cell_type": "code",
   "execution_count": 147,
   "metadata": {},
   "outputs": [
    {
     "data": {
      "text/plain": [
       "<matplotlib.axes._subplots.AxesSubplot at 0x1cd782ab888>"
      ]
     },
     "execution_count": 147,
     "metadata": {},
     "output_type": "execute_result"
    },
    {
     "data": {
      "image/png": "[encoded data removed]",
      "text/plain": [
       "<Figure size 432x288 with 1 Axes>"
      ]
     },
     "metadata": {
      "needs_background": "light"
     },
     "output_type": "display_data"
    }
   ],
   "source": [
    "sns.boxplot(x = 'avg_salary', y='role', data = df)"
   ]
  },
  {
   "cell_type": "code",
   "execution_count": 148,
   "metadata": {},
   "outputs": [
    {
     "data": {
      "text/plain": [
       "<matplotlib.axes._subplots.AxesSubplot at 0x1cd7846bd08>"
      ]
     },
     "execution_count": 148,
     "metadata": {},
     "output_type": "execute_result"
    },
    {
     "data": {
      "image/png": "[encoded data removed]",
      "text/plain": [
       "<Figure size 432x288 with 1 Axes>"
      ]
     },
     "metadata": {
      "needs_background": "light"
     },
     "output_type": "display_data"
    }
   ],
   "source": [
    "sns.boxplot(x = 'avg_salary', y='company_size', data = df)"
   ]
  },
  {
   "cell_type": "code",
   "execution_count": 149,
   "metadata": {},
   "outputs": [
    {
     "data": {
      "text/plain": [
       "<matplotlib.legend.Legend at 0x1cd784f5fc8>"
      ]
     },
     "execution_count": 149,
     "metadata": {},
     "output_type": "execute_result"
    },
    {
     "data": {
      "image/png": "[encoded data removed]",
      "text/plain": [
       "<Figure size 432x288 with 1 Axes>"
      ]
     },
     "metadata": {
      "needs_background": "light"
     },
     "output_type": "display_data"
    }
   ],
   "source": [
    "\n",
    "sns.boxplot(x = 'avg_salary', y='company_size', hue = 'seniority', data = df)\n",
    "plt.legend(loc='lower right')"
   ]
  },
  {
   "cell_type": "code",
   "execution_count": 150,
   "metadata": {},
   "outputs": [
    {
     "data": {
      "text/html": [
       "<div>\n",
       "<style scoped>\n",
       "    .dataframe tbody tr th:only-of-type {\n",
       "        vertical-align: middle;\n",
       "    }\n",
       "\n",
       "    .dataframe tbody tr th {\n",
       "        vertical-align: top;\n",
       "    }\n",
       "\n",
       "    .dataframe thead th {\n",
       "        text-align: right;\n",
       "    }\n",
       "</style>\n",
       "<table border=\"1\" class=\"dataframe\">\n",
       "  <thead>\n",
       "    <tr style=\"text-align: right;\">\n",
       "      <th></th>\n",
       "      <th>role</th>\n",
       "      <th>seniority</th>\n",
       "      <th>avg_salary</th>\n",
       "      <th>state</th>\n",
       "      <th>company_rating</th>\n",
       "      <th>company_size</th>\n",
       "      <th>sector</th>\n",
       "      <th>company_age</th>\n",
       "    </tr>\n",
       "  </thead>\n",
       "  <tbody>\n",
       "    <tr>\n",
       "      <th>0</th>\n",
       "      <td>data scientist</td>\n",
       "      <td>2</td>\n",
       "      <td>72.0</td>\n",
       "      <td>NM</td>\n",
       "      <td>3.8</td>\n",
       "      <td>3</td>\n",
       "      <td>Aerospace &amp; Defense</td>\n",
       "      <td>47.0</td>\n",
       "    </tr>\n",
       "    <tr>\n",
       "      <th>1</th>\n",
       "      <td>data scientist</td>\n",
       "      <td>2</td>\n",
       "      <td>87.5</td>\n",
       "      <td>MD</td>\n",
       "      <td>3.4</td>\n",
       "      <td>2</td>\n",
       "      <td>Health Care</td>\n",
       "      <td>36.0</td>\n",
       "    </tr>\n",
       "    <tr>\n",
       "      <th>2</th>\n",
       "      <td>data scientist</td>\n",
       "      <td>2</td>\n",
       "      <td>85.0</td>\n",
       "      <td>FL</td>\n",
       "      <td>4.8</td>\n",
       "      <td>3</td>\n",
       "      <td>Business Services</td>\n",
       "      <td>10.0</td>\n",
       "    </tr>\n",
       "    <tr>\n",
       "      <th>3</th>\n",
       "      <td>data scientist</td>\n",
       "      <td>2</td>\n",
       "      <td>76.5</td>\n",
       "      <td>WA</td>\n",
       "      <td>3.8</td>\n",
       "      <td>3</td>\n",
       "      <td>Oil, Gas, Energy &amp; Utilities</td>\n",
       "      <td>55.0</td>\n",
       "    </tr>\n",
       "    <tr>\n",
       "      <th>4</th>\n",
       "      <td>data scientist</td>\n",
       "      <td>2</td>\n",
       "      <td>114.5</td>\n",
       "      <td>NY</td>\n",
       "      <td>2.9</td>\n",
       "      <td>1</td>\n",
       "      <td>Business Services</td>\n",
       "      <td>22.0</td>\n",
       "    </tr>\n",
       "  </tbody>\n",
       "</table>\n",
       "</div>"
      ],
      "text/plain": [
       "             role  seniority  avg_salary state  company_rating  company_size  \\\n",
       "0  data scientist          2        72.0    NM             3.8             3   \n",
       "1  data scientist          2        87.5    MD             3.4             2   \n",
       "2  data scientist          2        85.0    FL             4.8             3   \n",
       "3  data scientist          2        76.5    WA             3.8             3   \n",
       "4  data scientist          2       114.5    NY             2.9             1   \n",
       "\n",
       "                         sector  company_age  \n",
       "0           Aerospace & Defense         47.0  \n",
       "1                   Health Care         36.0  \n",
       "2             Business Services         10.0  \n",
       "3  Oil, Gas, Energy & Utilities         55.0  \n",
       "4             Business Services         22.0  "
      ]
     },
     "execution_count": 150,
     "metadata": {},
     "output_type": "execute_result"
    }
   ],
   "source": [
    "def map_company_size(value):\n",
    "    if value == \"small\":\n",
    "        return 1\n",
    "    elif value == \"large\":\n",
    "        return 2\n",
    "    else:\n",
    "        return 3\n",
    "    \n",
    "df['company_size'] = df['company_size'].apply(map_company_size)\n",
    "df.head()"
   ]
  },
  {
   "cell_type": "code",
   "execution_count": 151,
   "metadata": {},
   "outputs": [
    {
     "data": {
      "text/plain": [
       "[Text(0.5, 0, 'seniority'),\n",
       " Text(1.5, 0, 'avg_salary'),\n",
       " Text(2.5, 0, 'company_rating'),\n",
       " Text(3.5, 0, 'company_size'),\n",
       " Text(4.5, 0, 'company_age')]"
      ]
     },
     "execution_count": 151,
     "metadata": {},
     "output_type": "execute_result"
    },
    {
     "data": {
      "image/png": "[encoded data removed]",
      "text/plain": [
       "<Figure size 432x288 with 2 Axes>"
      ]
     },
     "metadata": {
      "needs_background": "light"
     },
     "output_type": "display_data"
    }
   ],
   "source": [
    "df_numeric = df[['seniority', 'avg_salary', 'company_rating', 'company_size', 'company_age']]\n",
    "corr = df_numeric.corr()\n",
    "ax = sns.heatmap(\n",
    "    corr, \n",
    "    vmin=-1, vmax=1, center=0,\n",
    "    cmap=sns.diverging_palette(20, 220, n=200),\n",
    "    square=True\n",
    ")\n",
    "ax.set_xticklabels(\n",
    "    ax.get_xticklabels(),\n",
    "    rotation=45,\n",
    "    horizontalalignment='right'\n",
    ")"
   ]
  },
  {
   "cell_type": "code",
   "execution_count": 152,
   "metadata": {},
   "outputs": [
    {
     "data": {
      "text/html": [
       "<div>\n",
       "<style scoped>\n",
       "    .dataframe tbody tr th:only-of-type {\n",
       "        vertical-align: middle;\n",
       "    }\n",
       "\n",
       "    .dataframe tbody tr th {\n",
       "        vertical-align: top;\n",
       "    }\n",
       "\n",
       "    .dataframe thead th {\n",
       "        text-align: right;\n",
       "    }\n",
       "</style>\n",
       "<table border=\"1\" class=\"dataframe\">\n",
       "  <thead>\n",
       "    <tr style=\"text-align: right;\">\n",
       "      <th></th>\n",
       "      <th>seniority</th>\n",
       "      <th>avg_salary</th>\n",
       "      <th>company_rating</th>\n",
       "      <th>company_size</th>\n",
       "      <th>company_age</th>\n",
       "    </tr>\n",
       "  </thead>\n",
       "  <tbody>\n",
       "    <tr>\n",
       "      <th>seniority</th>\n",
       "      <td>1.000000</td>\n",
       "      <td>0.370003</td>\n",
       "      <td>-0.005547</td>\n",
       "      <td>-0.071296</td>\n",
       "      <td>0.054351</td>\n",
       "    </tr>\n",
       "    <tr>\n",
       "      <th>avg_salary</th>\n",
       "      <td>0.370003</td>\n",
       "      <td>1.000000</td>\n",
       "      <td>0.131463</td>\n",
       "      <td>-0.157864</td>\n",
       "      <td>0.024522</td>\n",
       "    </tr>\n",
       "    <tr>\n",
       "      <th>company_rating</th>\n",
       "      <td>-0.005547</td>\n",
       "      <td>0.131463</td>\n",
       "      <td>1.000000</td>\n",
       "      <td>-0.203652</td>\n",
       "      <td>-0.102560</td>\n",
       "    </tr>\n",
       "    <tr>\n",
       "      <th>company_size</th>\n",
       "      <td>-0.071296</td>\n",
       "      <td>-0.157864</td>\n",
       "      <td>-0.203652</td>\n",
       "      <td>1.000000</td>\n",
       "      <td>-0.080759</td>\n",
       "    </tr>\n",
       "    <tr>\n",
       "      <th>company_age</th>\n",
       "      <td>0.054351</td>\n",
       "      <td>0.024522</td>\n",
       "      <td>-0.102560</td>\n",
       "      <td>-0.080759</td>\n",
       "      <td>1.000000</td>\n",
       "    </tr>\n",
       "  </tbody>\n",
       "</table>\n",
       "</div>"
      ],
      "text/plain": [
       "                seniority  avg_salary  company_rating  company_size  \\\n",
       "seniority        1.000000    0.370003       -0.005547     -0.071296   \n",
       "avg_salary       0.370003    1.000000        0.131463     -0.157864   \n",
       "company_rating  -0.005547    0.131463        1.000000     -0.203652   \n",
       "company_size    -0.071296   -0.157864       -0.203652      1.000000   \n",
       "company_age      0.054351    0.024522       -0.102560     -0.080759   \n",
       "\n",
       "                company_age  \n",
       "seniority          0.054351  \n",
       "avg_salary         0.024522  \n",
       "company_rating    -0.102560  \n",
       "company_size      -0.080759  \n",
       "company_age        1.000000  "
      ]
     },
     "execution_count": 152,
     "metadata": {},
     "output_type": "execute_result"
    }
   ],
   "source": [
    "corr"
   ]
  },
  {
   "cell_type": "markdown",
   "metadata": {},
   "source": [
    "Larger companies and older companies seem to have lower company ratings (weak negative correlation). Seniority seems to have a moderate positive realtionship with salary as well which makes sense. Company rating seems to have a small positive correlation with salary as well, which would mean higher rated companies have a higher salary or vice versa. Rating also has a negative correlation with company size and age, so we can assume that older and larger companies have lower employee ratings."
   ]
  },
  {
   "cell_type": "code",
   "execution_count": 153,
   "metadata": {},
   "outputs": [],
   "source": [
    "#salary_by_role = pd.pivot_table(df, index = 'role', values = 'avg_salary')\n",
    "#salary_by_role\n",
    "salary_by_role = df.groupby(['role'])['avg_salary'].mean()"
   ]
  },
  {
   "cell_type": "code",
   "execution_count": 154,
   "metadata": {},
   "outputs": [
    {
     "data": {
      "text/plain": [
       "Text(0.5, 1.0, 'Salary by Role')"
      ]
     },
     "execution_count": 154,
     "metadata": {},
     "output_type": "execute_result"
    },
    {
     "data": {
      "image/png": "[encoded data removed]",
      "text/plain": [
       "<Figure size 432x288 with 1 Axes>"
      ]
     },
     "metadata": {
      "needs_background": "light"
     },
     "output_type": "display_data"
    }
   ],
   "source": [
    "ax = sns.barplot(x = salary_by_role.index, y = salary_by_role.values)\n",
    "ax.set_xticklabels(\n",
    "    ax.get_xticklabels(),\n",
    "    rotation=45,\n",
    "    horizontalalignment='right'\n",
    ")\n",
    "ax.set_ylabel('Average Salary')\n",
    "ax.set_title('Salary by Role')"
   ]
  },
  {
   "cell_type": "code",
   "execution_count": 155,
   "metadata": {},
   "outputs": [
    {
     "data": {
      "text/plain": [
       "48"
      ]
     },
     "execution_count": 155,
     "metadata": {},
     "output_type": "execute_result"
    }
   ],
   "source": [
    "# Regions are based on the US census regions\n",
    "\n",
    "# break the states into regions and group by role and region to see how the salary differs\n",
    "northeast = ['ME', 'NY', 'PA', 'VT', 'NH', 'CT', 'MA', 'RI', 'NJ']\n",
    "# check DC\n",
    "south = ['MD', 'DE', 'VA', 'WV', 'NC', 'KY', 'SC', 'TN', 'GA', 'AL', 'MS', 'FL', 'AR', 'LA', 'OK', 'TX']\n",
    "midwest = ['ND', 'SD', 'NE', 'KS', 'MO', 'IA', 'MN', 'WI', 'IL', 'IN', 'OH', 'MI']\n",
    "west = ['WA', 'ID', 'MT', 'WY', 'CO', 'UT', 'NM', 'AZ', 'NV', 'CA', 'OR']\n",
    "\n",
    "len(south) + len(northeast) +len(midwest) + len(west)"
   ]
  },
  {
   "cell_type": "code",
   "execution_count": 156,
   "metadata": {},
   "outputs": [],
   "source": [
    "def find_region(state_abbrev):\n",
    "    if state_abbrev in northeast:\n",
    "        return 'Northeast'\n",
    "    elif state_abbrev in south:\n",
    "        return 'South'\n",
    "    elif state_abbrev in midwest:\n",
    "        return 'Midwest'\n",
    "    elif state_abbrev in west:\n",
    "        return 'West'\n",
    "    \n",
    "df['region'] = df['state'].apply(find_region)\n",
    "region_freq = df.region.value_counts()\n"
   ]
  },
  {
   "cell_type": "code",
   "execution_count": 157,
   "metadata": {},
   "outputs": [
    {
     "data": {
      "text/plain": [
       "Text(0.5, 1.0, 'Breakdown of US Region Jobs')"
      ]
     },
     "execution_count": 157,
     "metadata": {},
     "output_type": "execute_result"
    },
    {
     "data": {
      "image/png": "[encoded data removed]",
      "text/plain": [
       "<Figure size 432x288 with 1 Axes>"
      ]
     },
     "metadata": {
      "needs_background": "light"
     },
     "output_type": "display_data"
    }
   ],
   "source": [
    "ax = region_freq.plot(kind='bar')\n",
    "ax.set_ylabel('Number of Job Listings')\n",
    "ax.set_xlabel('Region of the US')\n",
    "ax.set_title('Breakdown of US Region Jobs')"
   ]
  },
  {
   "cell_type": "code",
   "execution_count": 158,
   "metadata": {},
   "outputs": [
    {
     "data": {
      "text/plain": [
       "role                       region   \n",
       "data analyst               Midwest       59.722222\n",
       "                           Northeast     79.481132\n",
       "                           South         66.850000\n",
       "                           West          75.575000\n",
       "data engineer              Midwest      101.906250\n",
       "                           Northeast    102.552632\n",
       "                           South        100.395349\n",
       "                           West         116.405405\n",
       "data scientist             Midwest      112.191176\n",
       "                           Northeast    113.390244\n",
       "                           South        103.666667\n",
       "                           West         130.056701\n",
       "director                   Midwest      221.750000\n",
       "                           Northeast    122.571429\n",
       "machine learning engineer  Midwest      105.400000\n",
       "                           Northeast    125.000000\n",
       "                           South         87.000000\n",
       "                           West         164.500000\n",
       "manager                    Midwest       71.833333\n",
       "                           Northeast     86.062500\n",
       "                           West          80.611111\n",
       "other                      Midwest       61.294118\n",
       "                           Northeast    100.276596\n",
       "                           South         75.539474\n",
       "                           West         110.815789\n",
       "product analyst            South         78.000000\n",
       "                           West          68.500000\n",
       "research scientist         Midwest       75.250000\n",
       "                           Northeast    118.230769\n",
       "                           South         68.500000\n",
       "                           West          87.500000\n",
       "software engineer          South         94.875000\n",
       "Name: avg_salary, dtype: float64"
      ]
     },
     "execution_count": 158,
     "metadata": {},
     "output_type": "execute_result"
    }
   ],
   "source": [
    "df.groupby(['role', 'region'])['avg_salary'].mean()"
   ]
  },
  {
   "cell_type": "code",
   "execution_count": 159,
   "metadata": {},
   "outputs": [
    {
     "data": {
      "text/html": [
       "<div>\n",
       "<style scoped>\n",
       "    .dataframe tbody tr th:only-of-type {\n",
       "        vertical-align: middle;\n",
       "    }\n",
       "\n",
       "    .dataframe tbody tr th {\n",
       "        vertical-align: top;\n",
       "    }\n",
       "\n",
       "    .dataframe thead th {\n",
       "        text-align: right;\n",
       "    }\n",
       "</style>\n",
       "<table border=\"1\" class=\"dataframe\">\n",
       "  <thead>\n",
       "    <tr style=\"text-align: right;\">\n",
       "      <th></th>\n",
       "      <th>region</th>\n",
       "      <th>avg_salary</th>\n",
       "    </tr>\n",
       "  </thead>\n",
       "  <tbody>\n",
       "    <tr>\n",
       "      <th>0</th>\n",
       "      <td>Midwest</td>\n",
       "      <td>96.466019</td>\n",
       "    </tr>\n",
       "    <tr>\n",
       "      <th>1</th>\n",
       "      <td>Northeast</td>\n",
       "      <td>101.755411</td>\n",
       "    </tr>\n",
       "    <tr>\n",
       "      <th>2</th>\n",
       "      <td>South</td>\n",
       "      <td>89.472973</td>\n",
       "    </tr>\n",
       "    <tr>\n",
       "      <th>3</th>\n",
       "      <td>West</td>\n",
       "      <td>113.687204</td>\n",
       "    </tr>\n",
       "  </tbody>\n",
       "</table>\n",
       "</div>"
      ],
      "text/plain": [
       "      region  avg_salary\n",
       "0    Midwest   96.466019\n",
       "1  Northeast  101.755411\n",
       "2      South   89.472973\n",
       "3       West  113.687204"
      ]
     },
     "execution_count": 159,
     "metadata": {},
     "output_type": "execute_result"
    }
   ],
   "source": [
    "salary_by_region = df.groupby(['region'])['avg_salary'].mean().reset_index()\n",
    "salary_by_region"
   ]
  },
  {
   "cell_type": "code",
   "execution_count": 160,
   "metadata": {},
   "outputs": [
    {
     "data": {
      "text/plain": [
       "<matplotlib.axes._subplots.AxesSubplot at 0x1cd787ec648>"
      ]
     },
     "execution_count": 160,
     "metadata": {},
     "output_type": "execute_result"
    },
    {
     "data": {
      "image/png": "[encoded data removed]",
      "text/plain": [
       "<Figure size 432x288 with 1 Axes>"
      ]
     },
     "metadata": {
      "needs_background": "light"
     },
     "output_type": "display_data"
    }
   ],
   "source": [
    "sns.barplot(x = 'region', y= 'avg_salary', data = salary_by_region)\n"
   ]
  },
  {
   "cell_type": "code",
   "execution_count": null,
   "metadata": {},
   "outputs": [],
   "source": []
  }
 ],
 "metadata": {
  "kernelspec": {
   "display_name": "Python 3",
   "language": "python",
   "name": "python3"
  },
  "language_info": {
   "codemirror_mode": {
    "name": "ipython",
    "version": 3
   },
   "file_extension": ".py",
   "mimetype": "text/x-python",
   "name": "python",
   "nbconvert_exporter": "python",
   "pygments_lexer": "ipython3",
   "version": "3.7.6"
  }
 },
 "nbformat": 4,
 "nbformat_minor": 4
}
