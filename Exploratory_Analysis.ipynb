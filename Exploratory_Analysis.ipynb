{
 "cells": [
  {
   "cell_type": "code",
   "execution_count": 39,
   "metadata": {},
   "outputs": [],
   "source": [
    "import pandas as pd\n",
    "import numpy as np\n",
    "import matplotlib.pyplot as plt\n",
    "import seaborn as sns"
   ]
  },
  {
   "cell_type": "code",
   "execution_count": 40,
   "metadata": {},
   "outputs": [],
   "source": [
    "# read in the cleaned data\n",
    "df = pd.read_csv(\"cleaned_data.csv\")"
   ]
  },
  {
   "cell_type": "code",
   "execution_count": 41,
   "metadata": {},
   "outputs": [
    {
     "data": {
      "text/html": [
       "<div>\n",
       "<style scoped>\n",
       "    .dataframe tbody tr th:only-of-type {\n",
       "        vertical-align: middle;\n",
       "    }\n",
       "\n",
       "    .dataframe tbody tr th {\n",
       "        vertical-align: top;\n",
       "    }\n",
       "\n",
       "    .dataframe thead th {\n",
       "        text-align: right;\n",
       "    }\n",
       "</style>\n",
       "<table border=\"1\" class=\"dataframe\">\n",
       "  <thead>\n",
       "    <tr style=\"text-align: right;\">\n",
       "      <th></th>\n",
       "      <th>role</th>\n",
       "      <th>seniority</th>\n",
       "      <th>avg_salary</th>\n",
       "      <th>state</th>\n",
       "      <th>company_rating</th>\n",
       "      <th>company_size</th>\n",
       "      <th>sector</th>\n",
       "      <th>company_age</th>\n",
       "      <th>city</th>\n",
       "    </tr>\n",
       "  </thead>\n",
       "  <tbody>\n",
       "    <tr>\n",
       "      <th>0</th>\n",
       "      <td>data scientist</td>\n",
       "      <td>2</td>\n",
       "      <td>72.0</td>\n",
       "      <td>NM</td>\n",
       "      <td>3.8</td>\n",
       "      <td>medium</td>\n",
       "      <td>Aerospace &amp; Defense</td>\n",
       "      <td>47.0</td>\n",
       "      <td>other</td>\n",
       "    </tr>\n",
       "    <tr>\n",
       "      <th>1</th>\n",
       "      <td>data scientist</td>\n",
       "      <td>2</td>\n",
       "      <td>87.5</td>\n",
       "      <td>MD</td>\n",
       "      <td>3.4</td>\n",
       "      <td>large</td>\n",
       "      <td>Health Care</td>\n",
       "      <td>36.0</td>\n",
       "      <td>other</td>\n",
       "    </tr>\n",
       "    <tr>\n",
       "      <th>2</th>\n",
       "      <td>data scientist</td>\n",
       "      <td>2</td>\n",
       "      <td>85.0</td>\n",
       "      <td>FL</td>\n",
       "      <td>4.8</td>\n",
       "      <td>medium</td>\n",
       "      <td>Business Services</td>\n",
       "      <td>10.0</td>\n",
       "      <td>other</td>\n",
       "    </tr>\n",
       "    <tr>\n",
       "      <th>3</th>\n",
       "      <td>data scientist</td>\n",
       "      <td>2</td>\n",
       "      <td>76.5</td>\n",
       "      <td>WA</td>\n",
       "      <td>3.8</td>\n",
       "      <td>large</td>\n",
       "      <td>Oil, Gas, Energy &amp; Utilities</td>\n",
       "      <td>55.0</td>\n",
       "      <td>Richland</td>\n",
       "    </tr>\n",
       "    <tr>\n",
       "      <th>4</th>\n",
       "      <td>data scientist</td>\n",
       "      <td>2</td>\n",
       "      <td>114.5</td>\n",
       "      <td>NY</td>\n",
       "      <td>2.9</td>\n",
       "      <td>small</td>\n",
       "      <td>Business Services</td>\n",
       "      <td>22.0</td>\n",
       "      <td>New York</td>\n",
       "    </tr>\n",
       "  </tbody>\n",
       "</table>\n",
       "</div>"
      ],
      "text/plain": [
       "             role  seniority  avg_salary state  company_rating company_size  \\\n",
       "0  data scientist          2        72.0    NM             3.8       medium   \n",
       "1  data scientist          2        87.5    MD             3.4        large   \n",
       "2  data scientist          2        85.0    FL             4.8       medium   \n",
       "3  data scientist          2        76.5    WA             3.8        large   \n",
       "4  data scientist          2       114.5    NY             2.9        small   \n",
       "\n",
       "                         sector  company_age      city  \n",
       "0           Aerospace & Defense         47.0     other  \n",
       "1                   Health Care         36.0     other  \n",
       "2             Business Services         10.0     other  \n",
       "3  Oil, Gas, Energy & Utilities         55.0  Richland  \n",
       "4             Business Services         22.0  New York  "
      ]
     },
     "execution_count": 41,
     "metadata": {},
     "output_type": "execute_result"
    }
   ],
   "source": [
    "\n",
    "df.head()"
   ]
  },
  {
   "cell_type": "code",
   "execution_count": 42,
   "metadata": {},
   "outputs": [
    {
     "data": {
      "text/plain": [
       "(array([  6., 108., 184., 182., 121.,  85.,  39.,   9.,   3.,   5.]),\n",
       " array([ 15.5 ,  39.35,  63.2 ,  87.05, 110.9 , 134.75, 158.6 , 182.45,\n",
       "        206.3 , 230.15, 254.  ]),\n",
       " <a list of 10 Patch objects>)"
      ]
     },
     "execution_count": 42,
     "metadata": {},
     "output_type": "execute_result"
    },
    {
     "data": {
      "image/png": "[encoded data removed]",
      "text/plain": [
       "<Figure size 432x288 with 1 Axes>"
      ]
     },
     "metadata": {
      "needs_background": "light"
     },
     "output_type": "display_data"
    }
   ],
   "source": [
    "plt.xlabel('Salary in Thousands')\n",
    "plt.ylabel('Frequency')\n",
    "plt.title('Salary Distribution')\n",
    "plt.hist(df['avg_salary'])"
   ]
  },
  {
   "cell_type": "markdown",
   "metadata": {},
   "source": [
    "It looks like the salary is approximately normally distributed which is expected. There is a slight skew towards the high end of salary which also makes sense because there are some higher paying jobs for experienced data professionals"
   ]
  },
  {
   "cell_type": "code",
   "execution_count": 43,
   "metadata": {},
   "outputs": [
    {
     "data": {
      "text/plain": [
       "(array([ 10.,  11.,  33.,  60., 118., 167., 171.,  77.,  50.,  45.]),\n",
       " array([1.9 , 2.21, 2.52, 2.83, 3.14, 3.45, 3.76, 4.07, 4.38, 4.69, 5.  ]),\n",
       " <a list of 10 Patch objects>)"
      ]
     },
     "execution_count": 43,
     "metadata": {},
     "output_type": "execute_result"
    },
    {
     "data": {
      "image/png": "[encoded data removed]",
      "text/plain": [
       "<Figure size 432x288 with 1 Axes>"
      ]
     },
     "metadata": {
      "needs_background": "light"
     },
     "output_type": "display_data"
    }
   ],
   "source": [
    "plt.xlabel('Company Rating')\n",
    "plt.ylabel('Frequency')\n",
    "plt.title('Company Rating Distribution')\n",
    "plt.hist(df['company_rating'])"
   ]
  },
  {
   "cell_type": "markdown",
   "metadata": {},
   "source": [
    "The distribution of the company rating is also normally distributed, which is what we expect. No company seems to have a rating significantly below 2 and there are a good amount of companies with a max rating of 5."
   ]
  },
  {
   "cell_type": "code",
   "execution_count": 44,
   "metadata": {},
   "outputs": [
    {
     "data": {
      "text/plain": [
       "(array([352., 195.,  64.,  47.,   8.,  27.,  33.,   1.,  14.,   1.]),\n",
       " array([  1. ,  28.5,  56. ,  83.5, 111. , 138.5, 166. , 193.5, 221. ,\n",
       "        248.5, 276. ]),\n",
       " <a list of 10 Patch objects>)"
      ]
     },
     "execution_count": 44,
     "metadata": {},
     "output_type": "execute_result"
    },
    {
     "data": {
      "image/png": "[encoded data removed]",
      "text/plain": [
       "<Figure size 432x288 with 1 Axes>"
      ]
     },
     "metadata": {
      "needs_background": "light"
     },
     "output_type": "display_data"
    }
   ],
   "source": [
    "plt.xlabel('Company Age')\n",
    "plt.ylabel('Frequency')\n",
    "plt.title('Company Age Distribution')\n",
    "plt.hist(df['company_age'])"
   ]
  },
  {
   "cell_type": "markdown",
   "metadata": {},
   "source": [
    "The company age distribution has a heavy right skew and looks like it could resemble some sort of exponential distribution. From this, we can say that there are a lot more newer companies in the dataset, while there still are some old companies included as well that are up to 250 years old. "
   ]
  },
  {
   "cell_type": "code",
   "execution_count": 45,
   "metadata": {},
   "outputs": [
    {
     "data": {
      "text/plain": [
       "<matplotlib.axes._subplots.AxesSubplot at 0x20532dc9648>"
      ]
     },
     "execution_count": 45,
     "metadata": {},
     "output_type": "execute_result"
    },
    {
     "data": {
      "image/png": "[encoded data removed]",
      "text/plain": [
       "<Figure size 432x288 with 1 Axes>"
      ]
     },
     "metadata": {
      "needs_background": "light"
     },
     "output_type": "display_data"
    }
   ],
   "source": [
    "sns.boxplot(x = 'avg_salary', y='role', data = df)"
   ]
  },
  {
   "cell_type": "markdown",
   "metadata": {},
   "source": [
    "This plot shows the average salary range and percentiles of the each of the job families found in the dataset. Directors have the highest upper bound and median, likely because they are more experienced employees. The next highest paying job is Machine Learning Engineer with a 75th percentile value slightly lower than that of the directors, as well as a lower median value. The next highest paid position was the Data Scientists. The Data Scientists had some outliers on the upper end that were within the upper range of the director salary, but the 75th percentile and median sits slightly below the machine learning engineer role. The manager role surprised me the most with 75% of the data points below a 100,000 dollar salary level. However, there was some significant outliers on the upper tail that were around 125,000 and 225,000 dollars. The individual contributer roles seemed like a good bet all around, with Data Scientists, Machine Learning ENgineers, Data Engineers, and Research Scientists all pulling in respectable coin."
   ]
  },
  {
   "cell_type": "code",
   "execution_count": 46,
   "metadata": {},
   "outputs": [
    {
     "data": {
      "text/plain": [
       "<matplotlib.axes._subplots.AxesSubplot at 0x20532eef088>"
      ]
     },
     "execution_count": 46,
     "metadata": {},
     "output_type": "execute_result"
    },
    {
     "data": {
      "image/png": "[encoded data removed]",
      "text/plain": [
       "<Figure size 432x288 with 1 Axes>"
      ]
     },
     "metadata": {
      "needs_background": "light"
     },
     "output_type": "display_data"
    }
   ],
   "source": [
    "sns.boxplot(x = 'avg_salary', y='company_size', data = df)"
   ]
  },
  {
   "cell_type": "markdown",
   "metadata": {},
   "source": [
    "This was another finding that surprised me. It seems that the small companies (<200 employees) are paying the highest salaries to data professionals with a median slightly above that of larger companies (1000+ employees). This could be the case that the smaller companies are hiring mainly for more senior roles since they don't have the capital to hire on junior data professionals, whereas larger companies have the money to take a risk with entry level talent. Lets dive into this question about seniority some more."
   ]
  },
  {
   "cell_type": "code",
   "execution_count": 47,
   "metadata": {},
   "outputs": [
    {
     "data": {
      "text/plain": [
       "<matplotlib.legend.Legend at 0x20532f84c08>"
      ]
     },
     "execution_count": 47,
     "metadata": {},
     "output_type": "execute_result"
    },
    {
     "data": {
      "image/png": "[encoded data removed]",
      "text/plain": [
       "<Figure size 432x288 with 1 Axes>"
      ]
     },
     "metadata": {
      "needs_background": "light"
     },
     "output_type": "display_data"
    }
   ],
   "source": [
    "sns.boxplot(x = 'avg_salary', y='company_size', hue = 'seniority', data = df)\n",
    "plt.legend(loc='lower right')"
   ]
  },
  {
   "cell_type": "markdown",
   "metadata": {},
   "source": [
    "This box plot allows us to see the range of salaries for each level of seniority within each of the company sizes. To confirm my hypothesis, it looks like the the small companies were not hiring for many entry level roles, which explains the higher salary range for the smaller companies compared to the larger companies that have their entry level employees pulling down their average salary. As expected, the lower seniority roles (indicated by blue or 1), have the lowest salary ranges, with medium seniority (2 or orange) and high seniority (3 or green) having increasingly higher average salary ranges at all sizes of companies. Large companies have the highest median and 75th percentile for high seniority employees as well as the highest range for low seniority employees. Based on this data, my suggestion would be for low seniority employees to target larger companies, medium seniority employees to target small companies, and high seniority employees to target large companies to maximize their salary throughout their career. One confounding variable in this analysis could be the location of the small and large companies, as this could artifically inflate the salaries if they are in high cost of living areas."
   ]
  },
  {
   "cell_type": "code",
   "execution_count": 48,
   "metadata": {},
   "outputs": [
    {
     "data": {
      "text/plain": [
       "3.0    356\n",
       "2.0    251\n",
       "1.0    125\n",
       "Name: company_size, dtype: int64"
      ]
     },
     "execution_count": 48,
     "metadata": {},
     "output_type": "execute_result"
    }
   ],
   "source": [
    "# create a numeric variable for company size with small=1, medium=2, large=3\n",
    "\n",
    "def map_company_size(value):\n",
    "    if value == \"small\":\n",
    "        return 1\n",
    "    elif value == \"medium\":\n",
    "        return 2\n",
    "    elif value == \"large\":\n",
    "        return 3\n",
    "    # if the value is N/A we will impute this value later\n",
    "    else:\n",
    "        return -1\n",
    "    \n",
    "df['company_size'] = df['company_size'].apply(map_company_size)\n",
    "df['company_size'] = df['company_size'].replace(to_replace = -1, value = np.nan)\n",
    "df['company_size'].value_counts()"
   ]
  },
  {
   "cell_type": "code",
   "execution_count": 49,
   "metadata": {},
   "outputs": [
    {
     "data": {
      "text/plain": [
       "3.0    366\n",
       "2.0    251\n",
       "1.0    125\n",
       "Name: company_size, dtype: int64"
      ]
     },
     "execution_count": 49,
     "metadata": {},
     "output_type": "execute_result"
    }
   ],
   "source": [
    "# impute company_size by using the mode value and most common company size to replace missing values\n",
    "mode_size = df['company_size'].mode()[0]\n",
    "df['company_size'] = df['company_size'].replace(to_replace = np.nan, value = mode_size)\n",
    "df['company_size'].value_counts()"
   ]
  },
  {
   "cell_type": "code",
   "execution_count": 50,
   "metadata": {},
   "outputs": [
    {
     "data": {
      "text/plain": [
       "[Text(0.5, 0, 'seniority'),\n",
       " Text(1.5, 0, 'avg_salary'),\n",
       " Text(2.5, 0, 'company_rating'),\n",
       " Text(3.5, 0, 'company_size'),\n",
       " Text(4.5, 0, 'company_age')]"
      ]
     },
     "execution_count": 50,
     "metadata": {},
     "output_type": "execute_result"
    },
    {
     "data": {
      "image/png": "[encoded data removed]",
      "text/plain": [
       "<Figure size 432x288 with 2 Axes>"
      ]
     },
     "metadata": {
      "needs_background": "light"
     },
     "output_type": "display_data"
    }
   ],
   "source": [
    "# Create a correlation matrix using only the numeric variables in the dataset\n",
    "df_numeric = df[['seniority', 'avg_salary', 'company_rating', 'company_size', 'company_age']]\n",
    "corr = df_numeric.corr()\n",
    "ax = sns.heatmap(\n",
    "    corr, \n",
    "    vmin=-1, vmax=1, center=0,\n",
    "    cmap=sns.diverging_palette(20, 220, n=200),\n",
    "    square=True\n",
    ")\n",
    "ax.set_xticklabels(\n",
    "    ax.get_xticklabels(),\n",
    "    rotation=45,\n",
    "    horizontalalignment='right'\n",
    ")"
   ]
  },
  {
   "cell_type": "code",
   "execution_count": 51,
   "metadata": {},
   "outputs": [
    {
     "data": {
      "text/html": [
       "<div>\n",
       "<style scoped>\n",
       "    .dataframe tbody tr th:only-of-type {\n",
       "        vertical-align: middle;\n",
       "    }\n",
       "\n",
       "    .dataframe tbody tr th {\n",
       "        vertical-align: top;\n",
       "    }\n",
       "\n",
       "    .dataframe thead th {\n",
       "        text-align: right;\n",
       "    }\n",
       "</style>\n",
       "<table border=\"1\" class=\"dataframe\">\n",
       "  <thead>\n",
       "    <tr style=\"text-align: right;\">\n",
       "      <th></th>\n",
       "      <th>seniority</th>\n",
       "      <th>avg_salary</th>\n",
       "      <th>company_rating</th>\n",
       "      <th>company_size</th>\n",
       "      <th>company_age</th>\n",
       "    </tr>\n",
       "  </thead>\n",
       "  <tbody>\n",
       "    <tr>\n",
       "      <th>seniority</th>\n",
       "      <td>1.000000</td>\n",
       "      <td>0.370003</td>\n",
       "      <td>-0.005547</td>\n",
       "      <td>0.014102</td>\n",
       "      <td>0.054351</td>\n",
       "    </tr>\n",
       "    <tr>\n",
       "      <th>avg_salary</th>\n",
       "      <td>0.370003</td>\n",
       "      <td>1.000000</td>\n",
       "      <td>0.131463</td>\n",
       "      <td>-0.032504</td>\n",
       "      <td>0.024522</td>\n",
       "    </tr>\n",
       "    <tr>\n",
       "      <th>company_rating</th>\n",
       "      <td>-0.005547</td>\n",
       "      <td>0.131463</td>\n",
       "      <td>1.000000</td>\n",
       "      <td>-0.231477</td>\n",
       "      <td>-0.102560</td>\n",
       "    </tr>\n",
       "    <tr>\n",
       "      <th>company_size</th>\n",
       "      <td>0.014102</td>\n",
       "      <td>-0.032504</td>\n",
       "      <td>-0.231477</td>\n",
       "      <td>1.000000</td>\n",
       "      <td>0.423971</td>\n",
       "    </tr>\n",
       "    <tr>\n",
       "      <th>company_age</th>\n",
       "      <td>0.054351</td>\n",
       "      <td>0.024522</td>\n",
       "      <td>-0.102560</td>\n",
       "      <td>0.423971</td>\n",
       "      <td>1.000000</td>\n",
       "    </tr>\n",
       "  </tbody>\n",
       "</table>\n",
       "</div>"
      ],
      "text/plain": [
       "                seniority  avg_salary  company_rating  company_size  \\\n",
       "seniority        1.000000    0.370003       -0.005547      0.014102   \n",
       "avg_salary       0.370003    1.000000        0.131463     -0.032504   \n",
       "company_rating  -0.005547    0.131463        1.000000     -0.231477   \n",
       "company_size     0.014102   -0.032504       -0.231477      1.000000   \n",
       "company_age      0.054351    0.024522       -0.102560      0.423971   \n",
       "\n",
       "                company_age  \n",
       "seniority          0.054351  \n",
       "avg_salary         0.024522  \n",
       "company_rating    -0.102560  \n",
       "company_size       0.423971  \n",
       "company_age        1.000000  "
      ]
     },
     "execution_count": 51,
     "metadata": {},
     "output_type": "execute_result"
    }
   ],
   "source": [
    "corr"
   ]
  },
  {
   "cell_type": "markdown",
   "metadata": {},
   "source": [
    "Larger companies and older companies seem to have lower company ratings (weak negative correlation). Seniority seems to have a moderate positive realtionship with salary as well which makes sense, as more experienced workers are paid more. Company rating seems to have a small positive correlation with salary as well, which would mean higher rated companies have a higher salary or vice versa. Rating also has a negative correlation with company size and age, so we can assume that older and larger companies have lower employee ratings."
   ]
  },
  {
   "cell_type": "code",
   "execution_count": 52,
   "metadata": {},
   "outputs": [
    {
     "data": {
      "text/html": [
       "<div>\n",
       "<style scoped>\n",
       "    .dataframe tbody tr th:only-of-type {\n",
       "        vertical-align: middle;\n",
       "    }\n",
       "\n",
       "    .dataframe tbody tr th {\n",
       "        vertical-align: top;\n",
       "    }\n",
       "\n",
       "    .dataframe thead th {\n",
       "        text-align: right;\n",
       "    }\n",
       "</style>\n",
       "<table border=\"1\" class=\"dataframe\">\n",
       "  <thead>\n",
       "    <tr style=\"text-align: right;\">\n",
       "      <th></th>\n",
       "      <th>role</th>\n",
       "      <th>avg_salary</th>\n",
       "    </tr>\n",
       "  </thead>\n",
       "  <tbody>\n",
       "    <tr>\n",
       "      <th>3</th>\n",
       "      <td>director</td>\n",
       "      <td>168.346154</td>\n",
       "    </tr>\n",
       "    <tr>\n",
       "      <th>4</th>\n",
       "      <td>machine learning engineer</td>\n",
       "      <td>129.200000</td>\n",
       "    </tr>\n",
       "    <tr>\n",
       "      <th>2</th>\n",
       "      <td>data scientist</td>\n",
       "      <td>117.564516</td>\n",
       "    </tr>\n",
       "    <tr>\n",
       "      <th>1</th>\n",
       "      <td>data engineer</td>\n",
       "      <td>105.403361</td>\n",
       "    </tr>\n",
       "    <tr>\n",
       "      <th>8</th>\n",
       "      <td>research scientist</td>\n",
       "      <td>99.977273</td>\n",
       "    </tr>\n",
       "    <tr>\n",
       "      <th>9</th>\n",
       "      <td>software engineer</td>\n",
       "      <td>94.875000</td>\n",
       "    </tr>\n",
       "    <tr>\n",
       "      <th>6</th>\n",
       "      <td>other</td>\n",
       "      <td>88.685950</td>\n",
       "    </tr>\n",
       "    <tr>\n",
       "      <th>5</th>\n",
       "      <td>manager</td>\n",
       "      <td>81.475000</td>\n",
       "    </tr>\n",
       "    <tr>\n",
       "      <th>7</th>\n",
       "      <td>product analyst</td>\n",
       "      <td>74.833333</td>\n",
       "    </tr>\n",
       "    <tr>\n",
       "      <th>0</th>\n",
       "      <td>data analyst</td>\n",
       "      <td>73.027972</td>\n",
       "    </tr>\n",
       "  </tbody>\n",
       "</table>\n",
       "</div>"
      ],
      "text/plain": [
       "                        role  avg_salary\n",
       "3                   director  168.346154\n",
       "4  machine learning engineer  129.200000\n",
       "2             data scientist  117.564516\n",
       "1              data engineer  105.403361\n",
       "8         research scientist   99.977273\n",
       "9          software engineer   94.875000\n",
       "6                      other   88.685950\n",
       "5                    manager   81.475000\n",
       "7            product analyst   74.833333\n",
       "0               data analyst   73.027972"
      ]
     },
     "execution_count": 52,
     "metadata": {},
     "output_type": "execute_result"
    }
   ],
   "source": [
    "# set the color pallet for the bar plots\n",
    "sns.set_palette(\"husl\", 8)\n",
    "\n",
    "# look at the average salary for each role in the dataset\n",
    "salary_by_role = df.groupby(['role'])['avg_salary'].mean().reset_index().sort_values('avg_salary', ascending = False)\n",
    "salary_by_role"
   ]
  },
  {
   "cell_type": "markdown",
   "metadata": {},
   "source": [
    "Directors have the highest average salary of around 168,000, followed by machine learning engineers with a salary around 129,000, and data scientists with a average salary of 117,000."
   ]
  },
  {
   "cell_type": "code",
   "execution_count": 53,
   "metadata": {},
   "outputs": [
    {
     "data": {
      "text/plain": [
       "Text(0.5, 1.0, 'Salary by Role')"
      ]
     },
     "execution_count": 53,
     "metadata": {},
     "output_type": "execute_result"
    },
    {
     "data": {
      "image/png": "[encoded data removed]",
      "text/plain": [
       "<Figure size 432x288 with 1 Axes>"
      ]
     },
     "metadata": {
      "needs_background": "light"
     },
     "output_type": "display_data"
    }
   ],
   "source": [
    "# create a plot that shows the salary for each role visually\n",
    "ax = sns.barplot(x = 'role', y = 'avg_salary', data = salary_by_role)\n",
    "ax.set_xticklabels(\n",
    "    ax.get_xticklabels(),\n",
    "    rotation=45,\n",
    "    horizontalalignment='right'\n",
    ")\n",
    "ax.set_ylabel('Average Salary')\n",
    "ax.set_title('Salary by Role')"
   ]
  },
  {
   "cell_type": "markdown",
   "metadata": {},
   "source": [
    "I am curious how the location of the role plays a part in the salary package offered, so lets dive a little more into the location. I start by grouping the states into regions of the US by using the regions provided by the US Census 2020."
   ]
  },
  {
   "cell_type": "code",
   "execution_count": 54,
   "metadata": {},
   "outputs": [
    {
     "data": {
      "text/plain": [
       "50"
      ]
     },
     "execution_count": 54,
     "metadata": {},
     "output_type": "execute_result"
    }
   ],
   "source": [
    "# Regions are based on the US census regions\n",
    "\n",
    "# create an array of states for each US region\n",
    "northeast = ['ME', 'NY', 'PA', 'VT', 'NH', 'CT', 'MA', 'RI', 'NJ']\n",
    "south = ['MD', 'DE', 'VA', 'WV', 'NC', 'KY', 'SC', 'TN', 'GA', 'AL', 'MS', 'FL', 'AR', 'LA', 'OK', 'TX', 'DC']\n",
    "midwest = ['ND', 'SD', 'NE', 'KS', 'MO', 'IA', 'MN', 'WI', 'IL', 'IN', 'OH', 'MI']\n",
    "west = ['WA', 'ID', 'MT', 'WY', 'CO', 'UT', 'NM', 'AZ', 'NV', 'CA', 'OR', 'Los Angeles']\n",
    "\n",
    "# make sure that we have 50 states accounted for (no Hawaii or Alaska)\n",
    "len(south) + len(northeast) +len(midwest) + len(west)"
   ]
  },
  {
   "cell_type": "code",
   "execution_count": 55,
   "metadata": {},
   "outputs": [],
   "source": [
    "# this function maps each state to its respective US region\n",
    "def find_region(state_abbrev):\n",
    "    if state_abbrev in northeast:\n",
    "        return 'Northeast'\n",
    "    elif state_abbrev in south:\n",
    "        return 'South'\n",
    "    elif state_abbrev in midwest:\n",
    "        return 'Midwest'\n",
    "    elif state_abbrev in west:\n",
    "        return 'West'\n",
    "    else:\n",
    "        return 'other'\n",
    "    \n",
    "df['region'] = df['state'].apply(find_region)\n",
    "# store the number of job listings in each region\n",
    "region_freq = df.region.value_counts()\n"
   ]
  },
  {
   "cell_type": "code",
   "execution_count": 56,
   "metadata": {},
   "outputs": [
    {
     "data": {
      "text/plain": [
       "Text(0.5, 1.0, 'Breakdown of US Region Jobs')"
      ]
     },
     "execution_count": 56,
     "metadata": {},
     "output_type": "execute_result"
    },
    {
     "data": {
      "image/png": "[encoded data removed]",
      "text/plain": [
       "<Figure size 432x288 with 1 Axes>"
      ]
     },
     "metadata": {
      "needs_background": "light"
     },
     "output_type": "display_data"
    }
   ],
   "source": [
    "# plot the number of job listings in each region from the data\n",
    "ax = region_freq.plot(kind='bar', color = 'b')\n",
    "ax.set_ylabel('Number of Job Listings')\n",
    "ax.set_xlabel('Region of the US')\n",
    "ax.set_title('Breakdown of US Region Jobs')"
   ]
  },
  {
   "cell_type": "markdown",
   "metadata": {},
   "source": [
    "It seems that many of the job listings in this dataset were located in the Northeastern region of the US, with the West and the South regions close behind. The Midwest region had the fewest number of job postings in this dataset, with only about 100 listings."
   ]
  },
  {
   "cell_type": "code",
   "execution_count": 57,
   "metadata": {},
   "outputs": [
    {
     "data": {
      "text/plain": [
       "role                       region   \n",
       "data analyst               Midwest       59.722222\n",
       "                           Northeast     79.481132\n",
       "                           South         66.640625\n",
       "                           West          75.575000\n",
       "data engineer              Midwest      101.906250\n",
       "                           Northeast    102.552632\n",
       "                           South         99.085106\n",
       "                           West         116.405405\n",
       "data scientist             Midwest      112.191176\n",
       "                           Northeast    113.390244\n",
       "                           South        107.153846\n",
       "                           West         129.826531\n",
       "director                   Midwest      221.750000\n",
       "                           Northeast    122.571429\n",
       "machine learning engineer  Midwest      105.400000\n",
       "                           Northeast    125.000000\n",
       "                           South         87.000000\n",
       "                           West         164.500000\n",
       "manager                    Midwest       71.833333\n",
       "                           Northeast     86.062500\n",
       "                           West          80.611111\n",
       "other                      Midwest       61.294118\n",
       "                           Northeast    100.276596\n",
       "                           South         75.539474\n",
       "                           West         110.815789\n",
       "product analyst            South         78.000000\n",
       "                           West          68.500000\n",
       "research scientist         Midwest       75.250000\n",
       "                           Northeast    118.230769\n",
       "                           South         68.500000\n",
       "                           West          87.500000\n",
       "software engineer          South         94.875000\n",
       "Name: avg_salary, dtype: float64"
      ]
     },
     "execution_count": 57,
     "metadata": {},
     "output_type": "execute_result"
    }
   ],
   "source": [
    "# lets see how the salary of each job family changes throughout the different regions of the US\n",
    "df.groupby(['role', 'region'])['avg_salary'].mean()"
   ]
  },
  {
   "cell_type": "code",
   "execution_count": 58,
   "metadata": {},
   "outputs": [
    {
     "data": {
      "text/html": [
       "<div>\n",
       "<style scoped>\n",
       "    .dataframe tbody tr th:only-of-type {\n",
       "        vertical-align: middle;\n",
       "    }\n",
       "\n",
       "    .dataframe tbody tr th {\n",
       "        vertical-align: top;\n",
       "    }\n",
       "\n",
       "    .dataframe thead th {\n",
       "        text-align: right;\n",
       "    }\n",
       "</style>\n",
       "<table border=\"1\" class=\"dataframe\">\n",
       "  <thead>\n",
       "    <tr style=\"text-align: right;\">\n",
       "      <th></th>\n",
       "      <th>region</th>\n",
       "      <th>avg_salary</th>\n",
       "    </tr>\n",
       "  </thead>\n",
       "  <tbody>\n",
       "    <tr>\n",
       "      <th>0</th>\n",
       "      <td>Midwest</td>\n",
       "      <td>96.466019</td>\n",
       "    </tr>\n",
       "    <tr>\n",
       "      <th>1</th>\n",
       "      <td>Northeast</td>\n",
       "      <td>101.755411</td>\n",
       "    </tr>\n",
       "    <tr>\n",
       "      <th>2</th>\n",
       "      <td>South</td>\n",
       "      <td>90.635204</td>\n",
       "    </tr>\n",
       "    <tr>\n",
       "      <th>3</th>\n",
       "      <td>West</td>\n",
       "      <td>113.658019</td>\n",
       "    </tr>\n",
       "  </tbody>\n",
       "</table>\n",
       "</div>"
      ],
      "text/plain": [
       "      region  avg_salary\n",
       "0    Midwest   96.466019\n",
       "1  Northeast  101.755411\n",
       "2      South   90.635204\n",
       "3       West  113.658019"
      ]
     },
     "execution_count": 58,
     "metadata": {},
     "output_type": "execute_result"
    }
   ],
   "source": [
    "# look at the average salary by region\n",
    "salary_by_region = df.groupby(['region'])['avg_salary'].mean().reset_index()\n",
    "salary_by_region"
   ]
  },
  {
   "cell_type": "markdown",
   "metadata": {},
   "source": [
    "The Western region offers the highest average salaries at 113,000 followed by the Northeast region at 101,000 dollars. The Midwest and the South have the lower end of the average salaries. Much of this variation could be correlated with the cost of living in these specific regions. Many of the most expensive cities in the US are located in the West and Northeast (New York City, San Francisco, Los Angeles, Boston, etc)."
   ]
  },
  {
   "cell_type": "code",
   "execution_count": 59,
   "metadata": {},
   "outputs": [
    {
     "data": {
      "text/plain": [
       "Text(0.5, 1.0, 'Salaries By Region of US')"
      ]
     },
     "execution_count": 59,
     "metadata": {},
     "output_type": "execute_result"
    },
    {
     "data": {
      "image/png": "[encoded data removed]",
      "text/plain": [
       "<Figure size 432x288 with 1 Axes>"
      ]
     },
     "metadata": {
      "needs_background": "light"
     },
     "output_type": "display_data"
    }
   ],
   "source": [
    "# plot the salaries by region\n",
    "ax = sns.barplot(x = 'region', y= 'avg_salary', data = salary_by_region)\n",
    "ax.set_title('Salaries By Region of US')"
   ]
  },
  {
   "cell_type": "code",
   "execution_count": 60,
   "metadata": {},
   "outputs": [
    {
     "data": {
      "text/html": [
       "<div>\n",
       "<style scoped>\n",
       "    .dataframe tbody tr th:only-of-type {\n",
       "        vertical-align: middle;\n",
       "    }\n",
       "\n",
       "    .dataframe tbody tr th {\n",
       "        vertical-align: top;\n",
       "    }\n",
       "\n",
       "    .dataframe thead th {\n",
       "        text-align: right;\n",
       "    }\n",
       "</style>\n",
       "<table border=\"1\" class=\"dataframe\">\n",
       "  <thead>\n",
       "    <tr style=\"text-align: right;\">\n",
       "      <th></th>\n",
       "      <th>role</th>\n",
       "      <th>seniority</th>\n",
       "      <th>avg_salary</th>\n",
       "      <th>state</th>\n",
       "      <th>company_rating</th>\n",
       "      <th>company_size</th>\n",
       "      <th>sector</th>\n",
       "      <th>company_age</th>\n",
       "      <th>city</th>\n",
       "      <th>region</th>\n",
       "    </tr>\n",
       "  </thead>\n",
       "  <tbody>\n",
       "    <tr>\n",
       "      <th>0</th>\n",
       "      <td>data scientist</td>\n",
       "      <td>2</td>\n",
       "      <td>72.0</td>\n",
       "      <td>NM</td>\n",
       "      <td>3.8</td>\n",
       "      <td>2.0</td>\n",
       "      <td>Aerospace &amp; Defense</td>\n",
       "      <td>47.0</td>\n",
       "      <td>other</td>\n",
       "      <td>West</td>\n",
       "    </tr>\n",
       "    <tr>\n",
       "      <th>1</th>\n",
       "      <td>data scientist</td>\n",
       "      <td>2</td>\n",
       "      <td>87.5</td>\n",
       "      <td>MD</td>\n",
       "      <td>3.4</td>\n",
       "      <td>3.0</td>\n",
       "      <td>Health Care</td>\n",
       "      <td>36.0</td>\n",
       "      <td>other</td>\n",
       "      <td>South</td>\n",
       "    </tr>\n",
       "    <tr>\n",
       "      <th>2</th>\n",
       "      <td>data scientist</td>\n",
       "      <td>2</td>\n",
       "      <td>85.0</td>\n",
       "      <td>FL</td>\n",
       "      <td>4.8</td>\n",
       "      <td>2.0</td>\n",
       "      <td>Business Services</td>\n",
       "      <td>10.0</td>\n",
       "      <td>other</td>\n",
       "      <td>South</td>\n",
       "    </tr>\n",
       "    <tr>\n",
       "      <th>3</th>\n",
       "      <td>data scientist</td>\n",
       "      <td>2</td>\n",
       "      <td>76.5</td>\n",
       "      <td>WA</td>\n",
       "      <td>3.8</td>\n",
       "      <td>3.0</td>\n",
       "      <td>Oil, Gas, Energy &amp; Utilities</td>\n",
       "      <td>55.0</td>\n",
       "      <td>Richland</td>\n",
       "      <td>West</td>\n",
       "    </tr>\n",
       "    <tr>\n",
       "      <th>4</th>\n",
       "      <td>data scientist</td>\n",
       "      <td>2</td>\n",
       "      <td>114.5</td>\n",
       "      <td>NY</td>\n",
       "      <td>2.9</td>\n",
       "      <td>1.0</td>\n",
       "      <td>Business Services</td>\n",
       "      <td>22.0</td>\n",
       "      <td>New York</td>\n",
       "      <td>Northeast</td>\n",
       "    </tr>\n",
       "  </tbody>\n",
       "</table>\n",
       "</div>"
      ],
      "text/plain": [
       "             role  seniority  avg_salary state  company_rating  company_size  \\\n",
       "0  data scientist          2        72.0    NM             3.8           2.0   \n",
       "1  data scientist          2        87.5    MD             3.4           3.0   \n",
       "2  data scientist          2        85.0    FL             4.8           2.0   \n",
       "3  data scientist          2        76.5    WA             3.8           3.0   \n",
       "4  data scientist          2       114.5    NY             2.9           1.0   \n",
       "\n",
       "                         sector  company_age      city     region  \n",
       "0           Aerospace & Defense         47.0     other       West  \n",
       "1                   Health Care         36.0     other      South  \n",
       "2             Business Services         10.0     other      South  \n",
       "3  Oil, Gas, Energy & Utilities         55.0  Richland       West  \n",
       "4             Business Services         22.0  New York  Northeast  "
      ]
     },
     "execution_count": 60,
     "metadata": {},
     "output_type": "execute_result"
    }
   ],
   "source": [
    "df.head()"
   ]
  },
  {
   "cell_type": "markdown",
   "metadata": {},
   "source": [
    "Lets break down the types of workers in each of these regions to see if the seniority level plays a factor in the salary in each region."
   ]
  },
  {
   "cell_type": "code",
   "execution_count": 61,
   "metadata": {},
   "outputs": [
    {
     "data": {
      "image/png": "[encoded data removed]",
      "text/plain": [
       "<Figure size 432x288 with 1 Axes>"
      ]
     },
     "metadata": {
      "needs_background": "light"
     },
     "output_type": "display_data"
    }
   ],
   "source": [
    "# salary broken down by seniority in each region\n",
    "\n",
    "# grab the average salary of junior employees for each region\n",
    "salary_region_jr = df[df['seniority']==1].groupby(['region'])['avg_salary'].mean().reset_index()\n",
    "# grab the average salary of medium seniority employees for each region\n",
    "salary_region_sr = df[df['seniority']==2].groupby(['region'])['avg_salary'].mean().reset_index()\n",
    "# grab the average salary of high seniority employees for each region\n",
    "salary_region_exec = df[df['seniority']==3].groupby(['region'])['avg_salary'].mean().reset_index()\n",
    "\n",
    "# create the triple bar chart\n",
    "fig = plt.figure()\n",
    "ax = fig.add_subplot(111)\n",
    "width = 0.27\n",
    "ind = np.arange(4)\n",
    "\n",
    "rects1 = ax.bar(ind, salary_region_jr.avg_salary, width, color='r')\n",
    "\n",
    "rects2 = ax.bar(ind+width, salary_region_sr.avg_salary, width, color='g')\n",
    "\n",
    "rects3 = ax.bar(ind+width*2, salary_region_exec.avg_salary, width, color='b')\n",
    "\n",
    "ax.set_ylabel('Average Salary')\n",
    "ax.set_xlabel('region')\n",
    "ax.set_title('Salaries for Seniority Levels by Region')\n",
    "ax.set_xticks(ind+width)\n",
    "ax.set_xticklabels( ('Midwest', 'Northeast', 'South', 'West') )\n",
    "ax.legend( (rects1[1], rects2[1], rects3[1]), ('Junior', 'Senior', 'Executive'), loc = 'upper center' )\n",
    "\n",
    "def autolabel(rects):\n",
    "    for rect in rects:\n",
    "        h = rect.get_height()\n",
    "        ax.text(rect.get_x()+rect.get_width()/2., 1.0*h, '%d'%int(h),\n",
    "                ha='center', va='bottom')\n",
    "\n",
    "autolabel(rects1)\n",
    "autolabel(rects2)\n",
    "autolabel(rects3)\n",
    "\n",
    "plt.show()\n"
   ]
  },
  {
   "cell_type": "markdown",
   "metadata": {},
   "source": [
    "As expected, there is a fairly constant increase between each level of seniority across all 4 regions of the US. One exception to this pattern is the Midwest, which has a huge jump in salary between the medium and high seniority employees. The Midwest has highest salaries for high seniority workers, the West has the highest salaries for medium seniority workers, and the South has the highest average salaries for low seniority workers."
   ]
  },
  {
   "cell_type": "code",
   "execution_count": 62,
   "metadata": {},
   "outputs": [
    {
     "data": {
      "text/html": [
       "<div>\n",
       "<style scoped>\n",
       "    .dataframe tbody tr th:only-of-type {\n",
       "        vertical-align: middle;\n",
       "    }\n",
       "\n",
       "    .dataframe tbody tr th {\n",
       "        vertical-align: top;\n",
       "    }\n",
       "\n",
       "    .dataframe thead th {\n",
       "        text-align: right;\n",
       "    }\n",
       "</style>\n",
       "<table border=\"1\" class=\"dataframe\">\n",
       "  <thead>\n",
       "    <tr style=\"text-align: right;\">\n",
       "      <th></th>\n",
       "      <th>region</th>\n",
       "      <th>avg_salary</th>\n",
       "    </tr>\n",
       "  </thead>\n",
       "  <tbody>\n",
       "    <tr>\n",
       "      <th>0</th>\n",
       "      <td>Midwest</td>\n",
       "      <td>45.500000</td>\n",
       "    </tr>\n",
       "    <tr>\n",
       "      <th>1</th>\n",
       "      <td>Northeast</td>\n",
       "      <td>63.272727</td>\n",
       "    </tr>\n",
       "    <tr>\n",
       "      <th>2</th>\n",
       "      <td>South</td>\n",
       "      <td>73.800000</td>\n",
       "    </tr>\n",
       "    <tr>\n",
       "      <th>3</th>\n",
       "      <td>West</td>\n",
       "      <td>70.916667</td>\n",
       "    </tr>\n",
       "  </tbody>\n",
       "</table>\n",
       "</div>"
      ],
      "text/plain": [
       "      region  avg_salary\n",
       "0    Midwest   45.500000\n",
       "1  Northeast   63.272727\n",
       "2      South   73.800000\n",
       "3       West   70.916667"
      ]
     },
     "execution_count": 62,
     "metadata": {},
     "output_type": "execute_result"
    }
   ],
   "source": [
    "df[df['seniority']==1].groupby(['region'])['avg_salary'].mean().reset_index()"
   ]
  },
  {
   "cell_type": "code",
   "execution_count": 63,
   "metadata": {},
   "outputs": [
    {
     "data": {
      "text/plain": [
       "Text(0.5, 1.0, 'Company Size By Region of US')"
      ]
     },
     "execution_count": 63,
     "metadata": {},
     "output_type": "execute_result"
    },
    {
     "data": {
      "image/png": "[encoded data removed]",
      "text/plain": [
       "<Figure size 432x288 with 1 Axes>"
      ]
     },
     "metadata": {
      "needs_background": "light"
     },
     "output_type": "display_data"
    }
   ],
   "source": [
    "# average company size in each region\n",
    "size_by_region = df.groupby(['region'])['company_size'].mean().reset_index()\n",
    "ax = sns.barplot(x = 'region', y= 'company_size', data = size_by_region)\n",
    "ax.set_title('Company Size By Region of US')"
   ]
  },
  {
   "cell_type": "markdown",
   "metadata": {},
   "source": [
    "The company size of each region didn't vary as much as I expected. This probably has something to do with most of the job listings being from medium sized companies as well as imputing missing values as this medium category. However, we can still gain some insight from this. The Western region seems to have slightly smaller sized companies (many startups in Silicon Valley where the venture capital firms are), while the Northeast seems to have larger companies (many big banks and financial headquarters in New York City)."
   ]
  },
  {
   "cell_type": "code",
   "execution_count": 64,
   "metadata": {},
   "outputs": [
    {
     "data": {
      "text/plain": [
       "Text(0.5, 1.0, 'Seniority By Region of US')"
      ]
     },
     "execution_count": 64,
     "metadata": {},
     "output_type": "execute_result"
    },
    {
     "data": {
      "image/png": "[encoded data removed]",
      "text/plain": [
       "<Figure size 432x288 with 1 Axes>"
      ]
     },
     "metadata": {
      "needs_background": "light"
     },
     "output_type": "display_data"
    }
   ],
   "source": [
    "# number of each type of seniority in each region (where are the entry level roles?)\n",
    "seniority_by_region = df.groupby(['region'])['seniority'].mean().reset_index()\n",
    "\n",
    "ax = sns.barplot(x = 'region', y= 'seniority', data = seniority_by_region)\n",
    "ax.set_title('Seniority By Region of US')"
   ]
  },
  {
   "cell_type": "markdown",
   "metadata": {},
   "source": [
    "This visual doesn't tell us much since so much of the data is in the seniority 2 category, keeping the averages close to 2. The average employee in all regions is of medium seniority."
   ]
  },
  {
   "cell_type": "code",
   "execution_count": 65,
   "metadata": {},
   "outputs": [
    {
     "data": {
      "text/plain": [
       "2    654\n",
       "3     63\n",
       "1     25\n",
       "Name: seniority, dtype: int64"
      ]
     },
     "execution_count": 65,
     "metadata": {},
     "output_type": "execute_result"
    }
   ],
   "source": [
    "# this is sensible since over 88% of the data is medium seniority\n",
    "df.seniority.value_counts()"
   ]
  },
  {
   "cell_type": "markdown",
   "metadata": {},
   "source": [
    "I will try to drop the seniority 2 job postings to see if we can see some variation between the low and high seniority roles across the regions."
   ]
  },
  {
   "cell_type": "code",
   "execution_count": 66,
   "metadata": {},
   "outputs": [
    {
     "data": {
      "text/plain": [
       "Text(0.5, 1.0, 'Seniority By Region of US (Excluding Category 2)')"
      ]
     },
     "execution_count": 66,
     "metadata": {},
     "output_type": "execute_result"
    },
    {
     "data": {
      "image/png": "[encoded data removed]",
      "text/plain": [
       "<Figure size 432x288 with 1 Axes>"
      ]
     },
     "metadata": {
      "needs_background": "light"
     },
     "output_type": "display_data"
    }
   ],
   "source": [
    "seniority_by_region_no_2 = df[df['seniority']!=2].groupby(['region'])['seniority'].mean().reset_index()\n",
    "ax = sns.barplot(x = 'region', y= 'seniority', data = seniority_by_region_no_2)\n",
    "ax.set_title('Seniority By Region of US (Excluding Category 2)')"
   ]
  },
  {
   "cell_type": "markdown",
   "metadata": {},
   "source": [
    "Once again, this visual isn't very telling since more of the data is senior rather than junior roles. There is slightly more senior roles in the West and the South, but the difference is very small. Let's dive more into the cities of the job postings to see if there is any insights in the salary data across the main tech hubs of the US."
   ]
  },
  {
   "cell_type": "code",
   "execution_count": 67,
   "metadata": {},
   "outputs": [
    {
     "data": {
      "text/plain": [
       "{'Austin': 120.4375,\n",
       " 'Bay Area': 149.58928571428572,\n",
       " 'Boston': 109.08450704225352,\n",
       " 'Charlotte': 108.25,\n",
       " 'Chicago': 126.765625,\n",
       " 'DC': 110.18181818181819,\n",
       " 'Denver': 97.9,\n",
       " 'New York': 103.13636363636364,\n",
       " 'San Francisco': 134.42105263157896,\n",
       " 'Seattle': 90.7}"
      ]
     },
     "execution_count": 67,
     "metadata": {},
     "output_type": "execute_result"
    }
   ],
   "source": [
    "# look at avg salary in the 10 of the biggest cities and tech hubs for Data Scientist in the US\n",
    "salary_by_top_city = df[df['city'].isin(['Austin', 'Boston', 'Chicago', 'Denver',\n",
    "                                         'New York', 'San Francisco', 'Seattle', \n",
    "                                         'Bay Area', 'Charlotte', 'DC'])].groupby(['city'])['avg_salary'].mean().reset_index()\n",
    "# convert the dataframe to a dictionary\n",
    "salary_by_top_city = salary_by_top_city.set_index('city')['avg_salary'].to_dict()\n",
    "salary_by_top_city"
   ]
  },
  {
   "cell_type": "code",
   "execution_count": 68,
   "metadata": {},
   "outputs": [
    {
     "data": {
      "text/plain": [
       "Text(0.5, 1.0, 'Average Salary in Top US Cities')"
      ]
     },
     "execution_count": 68,
     "metadata": {},
     "output_type": "execute_result"
    },
    {
     "data": {
      "image/png": "[encoded data removed]",
      "text/plain": [
       "<Figure size 432x288 with 1 Axes>"
      ]
     },
     "metadata": {
      "needs_background": "light"
     },
     "output_type": "display_data"
    }
   ],
   "source": [
    "# create a barplot of the average salary in each of the top 10 chosen cities\n",
    "salary_by_top_city_plot = pd.DataFrame(salary_by_top_city.items(), columns=['City', 'Salary'])\n",
    "\n",
    "salary_by_top_city_plot.sort_values(by = ['Salary'], inplace = True, ascending = False)\n",
    "\n",
    "ax = sns.barplot(x = 'City', y = 'Salary', data = salary_by_top_city_plot, palette = sns.color_palette(\"husl\", 8))\n",
    "ax.set_xticklabels(\n",
    "    ax.get_xticklabels(),\n",
    "    rotation=45,\n",
    "    horizontalalignment='right'\n",
    ")\n",
    "ax.set_title('Average Salary in Top US Cities')"
   ]
  },
  {
   "cell_type": "markdown",
   "metadata": {},
   "source": [
    "It looks like the average salary is highest in the Silicon Valley area followed by Chicago. Out of these top 10 cities chosen for the analysis, the cost of living varies greatly across these regions. Lets try to control for the cost of living and get a standardized salary adjusted for the cost of living to compare these salaries on an even playing field. I will use the cost of living index for each city from the website: *https://www.expatistan.com/cost-of-living/index/north-america*"
   ]
  },
  {
   "cell_type": "code",
   "execution_count": 69,
   "metadata": {},
   "outputs": [
    {
     "data": {
      "text/plain": [
       "{'Austin': 67.66151685393258,\n",
       " 'Bay Area': 62.07024303497332,\n",
       " 'Boston': 49.35950544898349,\n",
       " 'Charlotte': 61.857142857142854,\n",
       " 'Chicago': 61.536711165048544,\n",
       " 'DC': 47.49216300940439,\n",
       " 'Denver': 47.990196078431374,\n",
       " 'New York': 38.1986531986532,\n",
       " 'San Francisco': 52.30391152979726,\n",
       " 'Seattle': 42.58215962441315}"
      ]
     },
     "execution_count": 69,
     "metadata": {},
     "output_type": "execute_result"
    }
   ],
   "source": [
    "# adjust the salary in each location by the cost of living index\n",
    "# Bay area was the average of San Jose and Mountainview\n",
    "\n",
    "# create a dictionary that maps each city to the cost of living index\n",
    "COL_index = {'Austin': 178, 'Bay Area': 241, 'Boston': 221, 'Charlotte': 175, 'Chicago': 206,\n",
    "             'DC': 232, 'Denver': 204, 'New York': 270, 'San Francisco': 257, 'Seattle': 213}\n",
    "# find the standardized salary value for each city by dividing the salary by the (cost of living index/100)\n",
    "for key in COL_index.keys():\n",
    "    salary_by_top_city[key] = salary_by_top_city[key]/(COL_index[key]/100)\n",
    "# output the standardized salaries for each city    \n",
    "salary_by_top_city"
   ]
  },
  {
   "cell_type": "code",
   "execution_count": 70,
   "metadata": {},
   "outputs": [],
   "source": [
    "# convert the data into a dataframe for plotting\n",
    "salary_by_top_city = pd.DataFrame(salary_by_top_city.items(), columns=['City', 'Salary'])\n",
    "\n",
    "# order the salaries in descending order\n",
    "salary_by_top_city.sort_values(by = ['Salary'], inplace = True, ascending = False)\n"
   ]
  },
  {
   "cell_type": "code",
   "execution_count": 71,
   "metadata": {},
   "outputs": [
    {
     "data": {
      "text/plain": [
       "Text(0.5, 1.0, 'Cost of Living Adjusted Average Salary in Top US Cities')"
      ]
     },
     "execution_count": 71,
     "metadata": {},
     "output_type": "execute_result"
    },
    {
     "data": {
      "image/png": "[encoded data removed]",
      "text/plain": [
       "<Figure size 432x288 with 1 Axes>"
      ]
     },
     "metadata": {
      "needs_background": "light"
     },
     "output_type": "display_data"
    }
   ],
   "source": [
    "# create a barplot of the standardized salaries\n",
    "ax = sns.barplot(x = 'City', y = 'Salary', data = salary_by_top_city, palette = sns.color_palette(\"husl\", 8))\n",
    "ax.set_xticklabels(\n",
    "    ax.get_xticklabels(),\n",
    "    rotation=45,\n",
    "    horizontalalignment='right'\n",
    ")\n",
    "ax.set_title('Cost of Living Adjusted Average Salary in Top US Cities')"
   ]
  },
  {
   "cell_type": "markdown",
   "metadata": {},
   "source": [
    "I think this visual is very interesting, as we are able to see the cities where you can theoretically save the most of your salary. Austin is the leader of the board because of its high average salary combined with its low cost of living. The Bay Area is the runner up. It looks like the astronomically high salaries for data professionals in the Bay Area is still able to fend off the extremely high cost of living and stay high on the standardized salary leaderboard. Charlotte is in third place which is a great option for data workers that want to gravitate away from the typical tech hubs. Compared to many large cities, Charlotte offers a much lower cost of living while still keeping the salaries very high and is a great option from first hand experience."
   ]
  },
  {
   "cell_type": "markdown",
   "metadata": {},
   "source": [
    "Lets now look at the sectors and see which industry sectors provide the highest salaries."
   ]
  },
  {
   "cell_type": "code",
   "execution_count": 72,
   "metadata": {},
   "outputs": [
    {
     "data": {
      "text/plain": [
       "Information Technology          180\n",
       "Biotech & Pharmaceuticals       112\n",
       "Business Services                97\n",
       "other                            71\n",
       "Insurance                        69\n",
       "Health Care                      49\n",
       "Finance                          42\n",
       "Manufacturing                    34\n",
       "Aerospace & Defense              25\n",
       "Education                        23\n",
       "Retail                           15\n",
       "Oil, Gas, Energy & Utilities     14\n",
       "Government                       11\n",
       "Name: sector, dtype: int64"
      ]
     },
     "execution_count": 72,
     "metadata": {},
     "output_type": "execute_result"
    }
   ],
   "source": [
    "df['sector'].value_counts()\n"
   ]
  },
  {
   "cell_type": "code",
   "execution_count": 73,
   "metadata": {},
   "outputs": [
    {
     "data": {
      "text/html": [
       "<div>\n",
       "<style scoped>\n",
       "    .dataframe tbody tr th:only-of-type {\n",
       "        vertical-align: middle;\n",
       "    }\n",
       "\n",
       "    .dataframe tbody tr th {\n",
       "        vertical-align: top;\n",
       "    }\n",
       "\n",
       "    .dataframe thead th {\n",
       "        text-align: right;\n",
       "    }\n",
       "</style>\n",
       "<table border=\"1\" class=\"dataframe\">\n",
       "  <thead>\n",
       "    <tr style=\"text-align: right;\">\n",
       "      <th></th>\n",
       "      <th>sector</th>\n",
       "      <th>avg_salary</th>\n",
       "    </tr>\n",
       "  </thead>\n",
       "  <tbody>\n",
       "    <tr>\n",
       "      <th>7</th>\n",
       "      <td>Information Technology</td>\n",
       "      <td>113.191667</td>\n",
       "    </tr>\n",
       "    <tr>\n",
       "      <th>1</th>\n",
       "      <td>Biotech &amp; Pharmaceuticals</td>\n",
       "      <td>112.120536</td>\n",
       "    </tr>\n",
       "    <tr>\n",
       "      <th>8</th>\n",
       "      <td>Insurance</td>\n",
       "      <td>105.942029</td>\n",
       "    </tr>\n",
       "    <tr>\n",
       "      <th>3</th>\n",
       "      <td>Education</td>\n",
       "      <td>100.739130</td>\n",
       "    </tr>\n",
       "    <tr>\n",
       "      <th>11</th>\n",
       "      <td>Retail</td>\n",
       "      <td>99.666667</td>\n",
       "    </tr>\n",
       "    <tr>\n",
       "      <th>0</th>\n",
       "      <td>Aerospace &amp; Defense</td>\n",
       "      <td>99.060000</td>\n",
       "    </tr>\n",
       "    <tr>\n",
       "      <th>4</th>\n",
       "      <td>Finance</td>\n",
       "      <td>98.035714</td>\n",
       "    </tr>\n",
       "    <tr>\n",
       "      <th>2</th>\n",
       "      <td>Business Services</td>\n",
       "      <td>97.701031</td>\n",
       "    </tr>\n",
       "    <tr>\n",
       "      <th>12</th>\n",
       "      <td>other</td>\n",
       "      <td>91.985915</td>\n",
       "    </tr>\n",
       "    <tr>\n",
       "      <th>9</th>\n",
       "      <td>Manufacturing</td>\n",
       "      <td>84.044118</td>\n",
       "    </tr>\n",
       "    <tr>\n",
       "      <th>5</th>\n",
       "      <td>Government</td>\n",
       "      <td>80.500000</td>\n",
       "    </tr>\n",
       "    <tr>\n",
       "      <th>10</th>\n",
       "      <td>Oil, Gas, Energy &amp; Utilities</td>\n",
       "      <td>80.464286</td>\n",
       "    </tr>\n",
       "    <tr>\n",
       "      <th>6</th>\n",
       "      <td>Health Care</td>\n",
       "      <td>77.061224</td>\n",
       "    </tr>\n",
       "  </tbody>\n",
       "</table>\n",
       "</div>"
      ],
      "text/plain": [
       "                          sector  avg_salary\n",
       "7         Information Technology  113.191667\n",
       "1      Biotech & Pharmaceuticals  112.120536\n",
       "8                      Insurance  105.942029\n",
       "3                      Education  100.739130\n",
       "11                        Retail   99.666667\n",
       "0            Aerospace & Defense   99.060000\n",
       "4                        Finance   98.035714\n",
       "2              Business Services   97.701031\n",
       "12                         other   91.985915\n",
       "9                  Manufacturing   84.044118\n",
       "5                     Government   80.500000\n",
       "10  Oil, Gas, Energy & Utilities   80.464286\n",
       "6                    Health Care   77.061224"
      ]
     },
     "execution_count": 73,
     "metadata": {},
     "output_type": "execute_result"
    }
   ],
   "source": [
    "salary_by_sector = df.groupby(['sector'])['avg_salary'].mean().reset_index().sort_values('avg_salary', ascending = False)\n",
    "salary_by_sector"
   ]
  },
  {
   "cell_type": "code",
   "execution_count": 74,
   "metadata": {},
   "outputs": [
    {
     "data": {
      "text/plain": [
       "Text(0.5, 1.0, 'Average Salary for Top US Sectors')"
      ]
     },
     "execution_count": 74,
     "metadata": {},
     "output_type": "execute_result"
    },
    {
     "data": {
      "image/png": "[encoded data removed]",
      "text/plain": [
       "<Figure size 432x288 with 1 Axes>"
      ]
     },
     "metadata": {
      "needs_background": "light"
     },
     "output_type": "display_data"
    }
   ],
   "source": [
    "# create a barplot of the average salary in each main industry sector\n",
    "ax = sns.barplot(x = 'sector', y = 'avg_salary', data = salary_by_sector, palette = sns.color_palette(\"husl\", 8))\n",
    "ax.set_xticklabels(\n",
    "    ax.get_xticklabels(),\n",
    "    rotation=45,\n",
    "    horizontalalignment='right'\n",
    ")\n",
    "ax.set_title('Average Salary for Top US Sectors')"
   ]
  },
  {
   "cell_type": "code",
   "execution_count": 75,
   "metadata": {},
   "outputs": [],
   "source": [
    "# export the dataframe to a CSV for use in the final modeling phase of the project\n",
    "df.to_csv('data_for_modeling.csv', index = False)"
   ]
  },
  {
   "cell_type": "markdown",
   "metadata": {},
   "source": [
    "The Information Technology sector offers the most competitive salaries, followed by Biotech/Pharmaceuticals and Insurance, all with average salaries north of 100,000 dollars. The sectors with the least competitive salaries are Health care, Energy, and Government, with salaries around 80,000 dollars."
   ]
  },
  {
   "cell_type": "markdown",
   "metadata": {},
   "source": [
    "### Conclusions"
   ]
  },
  {
   "cell_type": "markdown",
   "metadata": {},
   "source": [
    "Based on this analysis, it makes a lot of sense for an entry level or mid career job seeker to pursue Data Scientist or Machine Learning Engineer roles in Austin, TX or the Bay Area, CA at companies within the Technology or Biotech sectors to maximize their takehome salaries after factoring cost of living expenses"
   ]
  },
  {
   "cell_type": "code",
   "execution_count": null,
   "metadata": {},
   "outputs": [],
   "source": []
  }
 ],
 "metadata": {
  "kernelspec": {
   "display_name": "Python 3",
   "language": "python",
   "name": "python3"
  },
  "language_info": {
   "codemirror_mode": {
    "name": "ipython",
    "version": 3
   },
   "file_extension": ".py",
   "mimetype": "text/x-python",
   "name": "python",
   "nbconvert_exporter": "python",
   "pygments_lexer": "ipython3",
   "version": "3.7.6"
  }
 },
 "nbformat": 4,
 "nbformat_minor": 4
}
